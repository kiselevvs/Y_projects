{
 "cells": [
  {
   "cell_type": "markdown",
   "id": "374aec62",
   "metadata": {},
   "source": [
    "# Проект по статистическому анализу данных  \n",
    "## Статистический анализ данных и проверка гипотез по данным сервиса аренды самокатов GoFast\n",
    "\n",
    "* В этом проекте рассмотрим несколько наборов данных сервиса аренды самокатов GoFast. В нашем распоряжении данные о пользователях, о поездках и о наличии или отсутствии платной подписки на сервис.\n",
    "* Нашей целью проекта является структурирование полученных данных, поиск и решение имеющихся в них проблем (выбросы в данных, пропуски и т.д.). Рассмотрим влияних некоторых параметров на прибыль сервиса, а также проведем статистические тесты проверки сформулированных гипотез.\n",
    "* Мы получили три таблицы в формате .csv с данными о пользователях сервиса (идентификатор, имя, возраст, город, тип подписки), данные о поездках (идентификатор пользователя выполнявшего поездку, расстояние поездки, продолжительность, дата), информациюю о наличии подписки у пользователя (тип подписки, стоимость минуты поездки, стоимость старта, стоимость ежемесячного платежа)\n",
    "* План данной работы включает в себя: загрузку данных, предобработку, исследовательский анализ данных, объединение полученных таблиц в единый датасет, подсчёт выручки сервиса по данным, проверка гипотез, рассмотрение распределений по набору данных.\n"
   ]
  },
  {
   "cell_type": "markdown",
   "id": "fb77dc3b",
   "metadata": {},
   "source": [
    "#### Шаг 1. Загрузка данных"
   ]
  },
  {
   "cell_type": "code",
   "execution_count": 1,
   "id": "c8eec036",
   "metadata": {},
   "outputs": [],
   "source": [
    "import pandas as pd\n",
    "import matplotlib.pyplot as plt\n",
    "import numpy as np\n",
    "from scipy import stats as st\n",
    "from scipy.stats import binom, norm \n",
    "from math import factorial, sqrt"
   ]
  },
  {
   "cell_type": "code",
   "execution_count": 2,
   "id": "521a4be2",
   "metadata": {},
   "outputs": [],
   "source": [
    "try:\n",
    "    data_users = pd.read_csv('C:/Users/kiselevvs/Desktop/Data analyst/datasets/users_go.csv')\n",
    "    data_rides = pd.read_csv('C:/Users/kiselevvs/Desktop/Data analyst/datasets/rides_go.csv')\n",
    "    data_subs = pd.read_csv('C:/Users/kiselevvs/Desktop/Data analyst/datasets/subscriptions_go.csv')\n",
    "except:\n",
    "    data_users = pd.read_csv('https://')\n",
    "    data_rides = pd.read_csv('https://')\n",
    "    data_subs = pd.read_csv('https://')\n",
    "        "
   ]
  },
  {
   "cell_type": "markdown",
   "id": "5e0ab5f6",
   "metadata": {},
   "source": [
    "Далее вывожу на экран первые строчки по датафреймам и смотрю общую информацию о данных"
   ]
  },
  {
   "cell_type": "code",
   "execution_count": 3,
   "id": "edf3b646",
   "metadata": {},
   "outputs": [
    {
     "name": "stdout",
     "output_type": "stream",
     "text": [
      "   user_id     distance   duration        date\n",
      "0        1  4409.919140  25.599769  2021-01-01\n",
      "1        1  2617.592153  15.816871  2021-01-18\n",
      "2        1   754.159807   6.232113  2021-04-20\n",
      "3        1  2694.783254  18.511000  2021-08-11\n",
      "4        1  4028.687306  26.265803  2021-08-28\n",
      "\n",
      "<class 'pandas.core.frame.DataFrame'>\n",
      "RangeIndex: 18068 entries, 0 to 18067\n",
      "Data columns (total 4 columns):\n",
      " #   Column    Non-Null Count  Dtype  \n",
      "---  ------    --------------  -----  \n",
      " 0   user_id   18068 non-null  int64  \n",
      " 1   distance  18068 non-null  float64\n",
      " 2   duration  18068 non-null  float64\n",
      " 3   date      18068 non-null  object \n",
      "dtypes: float64(2), int64(1), object(1)\n",
      "memory usage: 564.8+ KB\n",
      "None\n"
     ]
    }
   ],
   "source": [
    "print(data_rides.head())\n",
    "print()\n",
    "print(data_rides.info())"
   ]
  },
  {
   "cell_type": "markdown",
   "id": "0f6ad431",
   "metadata": {},
   "source": [
    "В датасете хранится информация о поездках, содержит 18068 строк с данными числовыми и дата в формате строки  \n",
    "Формат даты определен как object, стоит перевести в формат pandas dtime"
   ]
  },
  {
   "cell_type": "code",
   "execution_count": 4,
   "id": "2dc1ecdd",
   "metadata": {},
   "outputs": [
    {
     "name": "stdout",
     "output_type": "stream",
     "text": [
      "  subscription_type  minute_price  start_ride_price  subscription_fee\n",
      "0              free             8                50                 0\n",
      "1             ultra             6                 0               199\n",
      "\n",
      "<class 'pandas.core.frame.DataFrame'>\n",
      "RangeIndex: 2 entries, 0 to 1\n",
      "Data columns (total 4 columns):\n",
      " #   Column             Non-Null Count  Dtype \n",
      "---  ------             --------------  ----- \n",
      " 0   subscription_type  2 non-null      object\n",
      " 1   minute_price       2 non-null      int64 \n",
      " 2   start_ride_price   2 non-null      int64 \n",
      " 3   subscription_fee   2 non-null      int64 \n",
      "dtypes: int64(3), object(1)\n",
      "memory usage: 196.0+ bytes\n",
      "None\n"
     ]
    }
   ],
   "source": [
    "print(data_subs.head())\n",
    "print()\n",
    "print(data_subs.info())"
   ]
  },
  {
   "cell_type": "markdown",
   "id": "9453e780",
   "metadata": {},
   "source": [
    "В датасете хранится информация об условиях подписки, всего 2 строки с 2 вариантами "
   ]
  },
  {
   "cell_type": "code",
   "execution_count": 5,
   "id": "e69c7246",
   "metadata": {
    "scrolled": true
   },
   "outputs": [
    {
     "name": "stdout",
     "output_type": "stream",
     "text": [
      "   user_id        name  age            city subscription_type\n",
      "0        1        Кира   22          Тюмень             ultra\n",
      "1        2   Станислав   31            Омск             ultra\n",
      "2        3     Алексей   20          Москва             ultra\n",
      "3        4  Константин   26  Ростов-на-Дону             ultra\n",
      "4        5       Адель   28            Омск             ultra\n",
      "\n",
      "<class 'pandas.core.frame.DataFrame'>\n",
      "RangeIndex: 1565 entries, 0 to 1564\n",
      "Data columns (total 5 columns):\n",
      " #   Column             Non-Null Count  Dtype \n",
      "---  ------             --------------  ----- \n",
      " 0   user_id            1565 non-null   int64 \n",
      " 1   name               1565 non-null   object\n",
      " 2   age                1565 non-null   int64 \n",
      " 3   city               1565 non-null   object\n",
      " 4   subscription_type  1565 non-null   object\n",
      "dtypes: int64(2), object(3)\n",
      "memory usage: 61.3+ KB\n",
      "None\n"
     ]
    }
   ],
   "source": [
    "print(data_users.head())\n",
    "print()\n",
    "print(data_users.info())"
   ]
  },
  {
   "cell_type": "markdown",
   "id": "1975e1ff",
   "metadata": {},
   "source": [
    "В датасете с информацией о пользователях сервиса 1565 строк с данными, типы данных числовые и строки с текстом"
   ]
  },
  {
   "cell_type": "markdown",
   "id": "92c98eb4",
   "metadata": {},
   "source": [
    "#### Шаг 2. Предобработка данных"
   ]
  },
  {
   "cell_type": "code",
   "execution_count": 6,
   "id": "bd590abc",
   "metadata": {},
   "outputs": [],
   "source": [
    "data_rides['date'] = pd.to_datetime(data_rides['date'], format='%Y-%m-%d' )"
   ]
  },
  {
   "cell_type": "code",
   "execution_count": 7,
   "id": "dae71fce",
   "metadata": {},
   "outputs": [
    {
     "name": "stdout",
     "output_type": "stream",
     "text": [
      "<class 'pandas.core.frame.DataFrame'>\n",
      "RangeIndex: 18068 entries, 0 to 18067\n",
      "Data columns (total 4 columns):\n",
      " #   Column    Non-Null Count  Dtype         \n",
      "---  ------    --------------  -----         \n",
      " 0   user_id   18068 non-null  int64         \n",
      " 1   distance  18068 non-null  float64       \n",
      " 2   duration  18068 non-null  float64       \n",
      " 3   date      18068 non-null  datetime64[ns]\n",
      "dtypes: datetime64[ns](1), float64(2), int64(1)\n",
      "memory usage: 564.8 KB\n"
     ]
    }
   ],
   "source": [
    "data_rides.info()"
   ]
  },
  {
   "cell_type": "markdown",
   "id": "f77cbcf7",
   "metadata": {},
   "source": [
    "В датасете с информацией о поездках 18068 строк с данными, типы данных числовые и текстовые с датой"
   ]
  },
  {
   "cell_type": "markdown",
   "id": "ed3d382e",
   "metadata": {},
   "source": [
    "перевел столбец **data_rides['date']** в формат даты пандас"
   ]
  },
  {
   "cell_type": "code",
   "execution_count": 8,
   "id": "2aea8543",
   "metadata": {},
   "outputs": [
    {
     "data": {
      "text/plain": [
       "0       2021-01-01\n",
       "13113   2021-01-01\n",
       "5445    2021-01-01\n",
       "12775   2021-01-01\n",
       "17096   2021-01-01\n",
       "           ...    \n",
       "15325   2021-12-30\n",
       "7541    2021-12-30\n",
       "6115    2021-12-30\n",
       "10991   2021-12-30\n",
       "11778   2021-12-30\n",
       "Name: date, Length: 18068, dtype: datetime64[ns]"
      ]
     },
     "execution_count": 8,
     "metadata": {},
     "output_type": "execute_result"
    }
   ],
   "source": [
    "data_rides['date'].sort_values()"
   ]
  },
  {
   "cell_type": "markdown",
   "id": "986dd9e0",
   "metadata": {},
   "source": [
    "Выполнил сортировку стольца с датами. Посмтрел за какой период предоставлены данные, все данные за 2021 год"
   ]
  },
  {
   "cell_type": "code",
   "execution_count": 9,
   "id": "8a0a9f21",
   "metadata": {},
   "outputs": [],
   "source": [
    "data_rides['date_month'] = data_rides['date'].dt.month"
   ]
  },
  {
   "cell_type": "code",
   "execution_count": 10,
   "id": "e32c8355",
   "metadata": {
    "scrolled": false
   },
   "outputs": [
    {
     "data": {
      "text/html": [
       "<div>\n",
       "<style scoped>\n",
       "    .dataframe tbody tr th:only-of-type {\n",
       "        vertical-align: middle;\n",
       "    }\n",
       "\n",
       "    .dataframe tbody tr th {\n",
       "        vertical-align: top;\n",
       "    }\n",
       "\n",
       "    .dataframe thead th {\n",
       "        text-align: right;\n",
       "    }\n",
       "</style>\n",
       "<table border=\"1\" class=\"dataframe\">\n",
       "  <thead>\n",
       "    <tr style=\"text-align: right;\">\n",
       "      <th></th>\n",
       "      <th>user_id</th>\n",
       "      <th>distance</th>\n",
       "      <th>duration</th>\n",
       "      <th>date</th>\n",
       "      <th>date_month</th>\n",
       "    </tr>\n",
       "  </thead>\n",
       "  <tbody>\n",
       "    <tr>\n",
       "      <th>0</th>\n",
       "      <td>1</td>\n",
       "      <td>4409.919140</td>\n",
       "      <td>25.599769</td>\n",
       "      <td>2021-01-01</td>\n",
       "      <td>1</td>\n",
       "    </tr>\n",
       "    <tr>\n",
       "      <th>1</th>\n",
       "      <td>1</td>\n",
       "      <td>2617.592153</td>\n",
       "      <td>15.816871</td>\n",
       "      <td>2021-01-18</td>\n",
       "      <td>1</td>\n",
       "    </tr>\n",
       "    <tr>\n",
       "      <th>2</th>\n",
       "      <td>1</td>\n",
       "      <td>754.159807</td>\n",
       "      <td>6.232113</td>\n",
       "      <td>2021-04-20</td>\n",
       "      <td>4</td>\n",
       "    </tr>\n",
       "    <tr>\n",
       "      <th>3</th>\n",
       "      <td>1</td>\n",
       "      <td>2694.783254</td>\n",
       "      <td>18.511000</td>\n",
       "      <td>2021-08-11</td>\n",
       "      <td>8</td>\n",
       "    </tr>\n",
       "    <tr>\n",
       "      <th>4</th>\n",
       "      <td>1</td>\n",
       "      <td>4028.687306</td>\n",
       "      <td>26.265803</td>\n",
       "      <td>2021-08-28</td>\n",
       "      <td>8</td>\n",
       "    </tr>\n",
       "    <tr>\n",
       "      <th>...</th>\n",
       "      <td>...</td>\n",
       "      <td>...</td>\n",
       "      <td>...</td>\n",
       "      <td>...</td>\n",
       "      <td>...</td>\n",
       "    </tr>\n",
       "    <tr>\n",
       "      <th>18063</th>\n",
       "      <td>1534</td>\n",
       "      <td>3781.098080</td>\n",
       "      <td>19.822962</td>\n",
       "      <td>2021-11-04</td>\n",
       "      <td>11</td>\n",
       "    </tr>\n",
       "    <tr>\n",
       "      <th>18064</th>\n",
       "      <td>1534</td>\n",
       "      <td>2840.423057</td>\n",
       "      <td>21.409799</td>\n",
       "      <td>2021-11-16</td>\n",
       "      <td>11</td>\n",
       "    </tr>\n",
       "    <tr>\n",
       "      <th>18065</th>\n",
       "      <td>1534</td>\n",
       "      <td>3826.185507</td>\n",
       "      <td>18.435051</td>\n",
       "      <td>2021-11-18</td>\n",
       "      <td>11</td>\n",
       "    </tr>\n",
       "    <tr>\n",
       "      <th>18066</th>\n",
       "      <td>1534</td>\n",
       "      <td>2902.308661</td>\n",
       "      <td>16.674362</td>\n",
       "      <td>2021-11-27</td>\n",
       "      <td>11</td>\n",
       "    </tr>\n",
       "    <tr>\n",
       "      <th>18067</th>\n",
       "      <td>1534</td>\n",
       "      <td>2371.711192</td>\n",
       "      <td>15.893917</td>\n",
       "      <td>2021-12-29</td>\n",
       "      <td>12</td>\n",
       "    </tr>\n",
       "  </tbody>\n",
       "</table>\n",
       "<p>18068 rows × 5 columns</p>\n",
       "</div>"
      ],
      "text/plain": [
       "       user_id     distance   duration       date  date_month\n",
       "0            1  4409.919140  25.599769 2021-01-01           1\n",
       "1            1  2617.592153  15.816871 2021-01-18           1\n",
       "2            1   754.159807   6.232113 2021-04-20           4\n",
       "3            1  2694.783254  18.511000 2021-08-11           8\n",
       "4            1  4028.687306  26.265803 2021-08-28           8\n",
       "...        ...          ...        ...        ...         ...\n",
       "18063     1534  3781.098080  19.822962 2021-11-04          11\n",
       "18064     1534  2840.423057  21.409799 2021-11-16          11\n",
       "18065     1534  3826.185507  18.435051 2021-11-18          11\n",
       "18066     1534  2902.308661  16.674362 2021-11-27          11\n",
       "18067     1534  2371.711192  15.893917 2021-12-29          12\n",
       "\n",
       "[18068 rows x 5 columns]"
      ]
     },
     "execution_count": 10,
     "metadata": {},
     "output_type": "execute_result"
    }
   ],
   "source": [
    "data_rides"
   ]
  },
  {
   "cell_type": "markdown",
   "id": "bb3ed5ca",
   "metadata": {},
   "source": [
    "Создал новый столбец с номером месяца поездки"
   ]
  },
  {
   "cell_type": "markdown",
   "id": "52edbd8a",
   "metadata": {},
   "source": [
    "Пропущенных значений в датафреймах в первой части работы на основании метода .info() не выявлено, проверим на наличие полных дубликатов"
   ]
  },
  {
   "cell_type": "code",
   "execution_count": 11,
   "id": "1958abb9",
   "metadata": {
    "scrolled": true
   },
   "outputs": [
    {
     "name": "stdout",
     "output_type": "stream",
     "text": [
      "0\n",
      "0\n",
      "31\n"
     ]
    }
   ],
   "source": [
    "print(data_rides.duplicated().sum())\n",
    "print(data_subs.duplicated().sum())\n",
    "print(data_users.duplicated().sum())"
   ]
  },
  {
   "cell_type": "code",
   "execution_count": 12,
   "id": "3d50d30f",
   "metadata": {
    "scrolled": false
   },
   "outputs": [],
   "source": [
    "data_users = data_users.drop_duplicates()"
   ]
  },
  {
   "cell_type": "code",
   "execution_count": 13,
   "id": "28086769",
   "metadata": {},
   "outputs": [
    {
     "name": "stdout",
     "output_type": "stream",
     "text": [
      "0\n"
     ]
    }
   ],
   "source": [
    "print(data_users.duplicated().sum())"
   ]
  },
  {
   "cell_type": "markdown",
   "id": "c8567ad9",
   "metadata": {},
   "source": [
    "Избавились от явных дубликатов в датафрейме с данными о пользователях"
   ]
  },
  {
   "cell_type": "markdown",
   "id": "295754c3",
   "metadata": {},
   "source": [
    "#### Шаг 3. Исследовательский анализ данных"
   ]
  },
  {
   "cell_type": "code",
   "execution_count": 14,
   "id": "78717913",
   "metadata": {},
   "outputs": [
    {
     "data": {
      "text/plain": [
       "city\n",
       "Пятигорск         219\n",
       "Екатеринбург      204\n",
       "Ростов-на-Дону    198\n",
       "Краснодар         193\n",
       "Сочи              189\n",
       "Омск              183\n",
       "Тюмень            180\n",
       "Москва            168\n",
       "Name: count, dtype: int64"
      ]
     },
     "execution_count": 14,
     "metadata": {},
     "output_type": "execute_result"
    }
   ],
   "source": [
    "data_users['city'].value_counts()"
   ]
  },
  {
   "cell_type": "code",
   "execution_count": 15,
   "id": "a43c7b25",
   "metadata": {},
   "outputs": [
    {
     "data": {
      "image/png": "[encoded data removed]",
      "text/plain": [
       "<Figure size 640x480 with 1 Axes>"
      ]
     },
     "metadata": {},
     "output_type": "display_data"
    }
   ],
   "source": [
    "data_users['city'].value_counts().plot(kind='bar')\n",
    "plt.title('распределение пользователей по городам');\n",
    "plt.xlabel('наименование городов');\n",
    "plt.ylabel('количество пользователей');"
   ]
  },
  {
   "cell_type": "markdown",
   "id": "68b7dfb6",
   "metadata": {},
   "source": [
    "Вывел количество пользователей по городам в порядке убывания, а также визуализировал данные столбчатой диаграммой"
   ]
  },
  {
   "cell_type": "code",
   "execution_count": 16,
   "id": "231c00d4",
   "metadata": {},
   "outputs": [
    {
     "data": {
      "text/plain": [
       "subscription_type\n",
       "free     835\n",
       "ultra    699\n",
       "Name: count, dtype: int64"
      ]
     },
     "execution_count": 16,
     "metadata": {},
     "output_type": "execute_result"
    }
   ],
   "source": [
    "data_users['subscription_type'].value_counts()"
   ]
  },
  {
   "cell_type": "code",
   "execution_count": 17,
   "id": "cf98f8ed",
   "metadata": {},
   "outputs": [
    {
     "data": {
      "image/png": "[encoded data removed]",
      "text/plain": [
       "<Figure size 640x480 with 1 Axes>"
      ]
     },
     "metadata": {},
     "output_type": "display_data"
    }
   ],
   "source": [
    "data_users['subscription_type'].value_counts().plot(kind='pie', autopct='%1.1f%%');\n",
    "plt.title('круговая диаграмма наличия подписок');"
   ]
  },
  {
   "cell_type": "markdown",
   "id": "9fc9a9fc",
   "metadata": {},
   "source": [
    "Отобразил количество пользователей с подпиской и без, и отобразил данные на круговой диаграмме с процентным соотношением пользователей  \n",
    "Пользователей без подписки чуть больше - 54.4 %"
   ]
  },
  {
   "cell_type": "code",
   "execution_count": 18,
   "id": "ae0477af",
   "metadata": {},
   "outputs": [
    {
     "data": {
      "text/plain": [
       "count    1534.000000\n",
       "mean       24.903520\n",
       "std         4.572367\n",
       "min        12.000000\n",
       "25%        22.000000\n",
       "50%        25.000000\n",
       "75%        28.000000\n",
       "max        43.000000\n",
       "Name: age, dtype: float64"
      ]
     },
     "execution_count": 18,
     "metadata": {},
     "output_type": "execute_result"
    }
   ],
   "source": [
    "data_users['age'].describe()"
   ]
  },
  {
   "cell_type": "code",
   "execution_count": 19,
   "id": "65fbbe45",
   "metadata": {
    "scrolled": false
   },
   "outputs": [
    {
     "data": {
      "image/png": "[encoded data removed]",
      "text/plain": [
       "<Figure size 1000x400 with 1 Axes>"
      ]
     },
     "metadata": {},
     "output_type": "display_data"
    }
   ],
   "source": [
    "data_users['age'].hist(figsize=(10,4), bins=50);\n",
    "plt.title('распределение пользователей по возрастам');\n",
    "plt.xlabel('возраст пользователя');\n",
    "plt.ylabel('количество пользователей');"
   ]
  },
  {
   "cell_type": "markdown",
   "id": "64f14477",
   "metadata": {},
   "source": [
    "На гистограмме отобразил данные о возрасте пользователей. Гистограмма отображает нормальное распределение без явных выбросов и/или проблем в данных.  \n",
    "Медиана и среднее значение = 25 лет. первый квартиль (25%) равняется 22 года, третий квартиль(75 %) 28 лет. "
   ]
  },
  {
   "cell_type": "code",
   "execution_count": 20,
   "id": "7876453f",
   "metadata": {},
   "outputs": [
    {
     "data": {
      "text/plain": [
       "count    18068.000000\n",
       "mean      3070.659976\n",
       "std       1116.831209\n",
       "min          0.855683\n",
       "25%       2543.226360\n",
       "50%       3133.609994\n",
       "75%       3776.222735\n",
       "max       7211.007745\n",
       "Name: distance, dtype: float64"
      ]
     },
     "execution_count": 20,
     "metadata": {},
     "output_type": "execute_result"
    }
   ],
   "source": [
    "data_rides['distance'].describe()"
   ]
  },
  {
   "cell_type": "code",
   "execution_count": 21,
   "id": "45d30d90",
   "metadata": {},
   "outputs": [
    {
     "data": {
      "image/png": "[encoded data removed]",
      "text/plain": [
       "<Figure size 1000x400 with 1 Axes>"
      ]
     },
     "metadata": {},
     "output_type": "display_data"
    }
   ],
   "source": [
    "data_rides['distance'].plot(\n",
    "    kind='hist',\n",
    "    figsize=(10,4),\n",
    "    bins=200,\n",
    "    title='Гистограмма дальности поездок',\n",
    "    xlabel='дальность поездок',\n",
    "    ylabel='частота'\n",
    ");"
   ]
  },
  {
   "cell_type": "markdown",
   "id": "4dec0629",
   "metadata": {},
   "source": [
    "На гистограмме отобразил данные о дальности поездок. Гистограмма отображает нормальное распределение есть небольшой всплеск данных слева. Данный всплекс можно объяснить первыми поездками от новых пользователей, пользователю могло не понравиться/не удобно/ не получается безопасно управлять самокатом изза этого можем наблюдать этот всплеск в данных в районе 0-1500 м. \n",
    "Медиана равна 3133 м, среднее значение = 3070 м., первый квартиль (25%) равняется 2543 м, третий квартиль(75 %) 3776 м. "
   ]
  },
  {
   "cell_type": "code",
   "execution_count": 22,
   "id": "33152b7a",
   "metadata": {},
   "outputs": [
    {
     "data": {
      "text/plain": [
       "count    18068.000000\n",
       "mean        17.805011\n",
       "std          6.091051\n",
       "min          0.500000\n",
       "25%         13.597563\n",
       "50%         17.678395\n",
       "75%         21.724800\n",
       "max         40.823963\n",
       "Name: duration, dtype: float64"
      ]
     },
     "execution_count": 22,
     "metadata": {},
     "output_type": "execute_result"
    }
   ],
   "source": [
    "data_rides['duration'].describe()"
   ]
  },
  {
   "cell_type": "code",
   "execution_count": 23,
   "id": "1f67159b",
   "metadata": {},
   "outputs": [
    {
     "data": {
      "image/png": "[encoded data removed]",
      "text/plain": [
       "<Figure size 1000x400 with 1 Axes>"
      ]
     },
     "metadata": {},
     "output_type": "display_data"
    }
   ],
   "source": [
    "data_rides['duration'].plot(\n",
    "    kind='hist',\n",
    "    figsize=(10,4),\n",
    "    bins=200,\n",
    "    title='Гистограмма длительности поездок',\n",
    "    xlabel='длительность поездок',\n",
    "    ylabel='частота'\n",
    ");"
   ]
  },
  {
   "cell_type": "markdown",
   "id": "23432069",
   "metadata": {},
   "source": [
    "Видим нормальное распределение с истинным средним  μ около 18 минут, также заметны \"выбросы\" с значением 2 минуты, которые означают процент поездок, которые начинали и по каким либо причинам решали закончить.  \n",
    "Среднее значение и медиана равны 17 минутам, первый квартиль (25%) равняется 14 мин, третий квартиль(75 %) 22 мин. "
   ]
  },
  {
   "cell_type": "code",
   "execution_count": 24,
   "id": "a704b03c",
   "metadata": {},
   "outputs": [
    {
     "data": {
      "text/html": [
       "<div>\n",
       "<style scoped>\n",
       "    .dataframe tbody tr th:only-of-type {\n",
       "        vertical-align: middle;\n",
       "    }\n",
       "\n",
       "    .dataframe tbody tr th {\n",
       "        vertical-align: top;\n",
       "    }\n",
       "\n",
       "    .dataframe thead th {\n",
       "        text-align: right;\n",
       "    }\n",
       "</style>\n",
       "<table border=\"1\" class=\"dataframe\">\n",
       "  <thead>\n",
       "    <tr style=\"text-align: right;\">\n",
       "      <th></th>\n",
       "      <th>user_id</th>\n",
       "      <th>distance</th>\n",
       "      <th>duration</th>\n",
       "      <th>date</th>\n",
       "      <th>date_month</th>\n",
       "    </tr>\n",
       "  </thead>\n",
       "  <tbody>\n",
       "    <tr>\n",
       "      <th>6531</th>\n",
       "      <td>701</td>\n",
       "      <td>4196.445201</td>\n",
       "      <td>0.5</td>\n",
       "      <td>2021-08-31</td>\n",
       "      <td>8</td>\n",
       "    </tr>\n",
       "    <tr>\n",
       "      <th>14615</th>\n",
       "      <td>1287</td>\n",
       "      <td>5944.789947</td>\n",
       "      <td>0.5</td>\n",
       "      <td>2021-12-09</td>\n",
       "      <td>12</td>\n",
       "    </tr>\n",
       "    <tr>\n",
       "      <th>14574</th>\n",
       "      <td>1285</td>\n",
       "      <td>6316.574814</td>\n",
       "      <td>0.5</td>\n",
       "      <td>2021-09-25</td>\n",
       "      <td>9</td>\n",
       "    </tr>\n",
       "    <tr>\n",
       "      <th>14417</th>\n",
       "      <td>1273</td>\n",
       "      <td>4178.876258</td>\n",
       "      <td>0.5</td>\n",
       "      <td>2021-04-30</td>\n",
       "      <td>4</td>\n",
       "    </tr>\n",
       "    <tr>\n",
       "      <th>14342</th>\n",
       "      <td>1268</td>\n",
       "      <td>4177.139336</td>\n",
       "      <td>0.5</td>\n",
       "      <td>2021-06-09</td>\n",
       "      <td>6</td>\n",
       "    </tr>\n",
       "    <tr>\n",
       "      <th>...</th>\n",
       "      <td>...</td>\n",
       "      <td>...</td>\n",
       "      <td>...</td>\n",
       "      <td>...</td>\n",
       "      <td>...</td>\n",
       "    </tr>\n",
       "    <tr>\n",
       "      <th>9581</th>\n",
       "      <td>928</td>\n",
       "      <td>4857.412920</td>\n",
       "      <td>0.5</td>\n",
       "      <td>2021-06-06</td>\n",
       "      <td>6</td>\n",
       "    </tr>\n",
       "    <tr>\n",
       "      <th>9497</th>\n",
       "      <td>922</td>\n",
       "      <td>4620.899239</td>\n",
       "      <td>0.5</td>\n",
       "      <td>2021-01-05</td>\n",
       "      <td>1</td>\n",
       "    </tr>\n",
       "    <tr>\n",
       "      <th>9282</th>\n",
       "      <td>907</td>\n",
       "      <td>4520.123807</td>\n",
       "      <td>0.5</td>\n",
       "      <td>2021-04-24</td>\n",
       "      <td>4</td>\n",
       "    </tr>\n",
       "    <tr>\n",
       "      <th>10426</th>\n",
       "      <td>987</td>\n",
       "      <td>5375.139265</td>\n",
       "      <td>0.5</td>\n",
       "      <td>2021-03-16</td>\n",
       "      <td>3</td>\n",
       "    </tr>\n",
       "    <tr>\n",
       "      <th>17909</th>\n",
       "      <td>1524</td>\n",
       "      <td>4103.998874</td>\n",
       "      <td>0.5</td>\n",
       "      <td>2021-06-18</td>\n",
       "      <td>6</td>\n",
       "    </tr>\n",
       "  </tbody>\n",
       "</table>\n",
       "<p>95 rows × 5 columns</p>\n",
       "</div>"
      ],
      "text/plain": [
       "       user_id     distance  duration       date  date_month\n",
       "6531       701  4196.445201       0.5 2021-08-31           8\n",
       "14615     1287  5944.789947       0.5 2021-12-09          12\n",
       "14574     1285  6316.574814       0.5 2021-09-25           9\n",
       "14417     1273  4178.876258       0.5 2021-04-30           4\n",
       "14342     1268  4177.139336       0.5 2021-06-09           6\n",
       "...        ...          ...       ...        ...         ...\n",
       "9581       928  4857.412920       0.5 2021-06-06           6\n",
       "9497       922  4620.899239       0.5 2021-01-05           1\n",
       "9282       907  4520.123807       0.5 2021-04-24           4\n",
       "10426      987  5375.139265       0.5 2021-03-16           3\n",
       "17909     1524  4103.998874       0.5 2021-06-18           6\n",
       "\n",
       "[95 rows x 5 columns]"
      ]
     },
     "execution_count": 24,
     "metadata": {},
     "output_type": "execute_result"
    }
   ],
   "source": [
    "data_rides.query('duration < 2').sort_values(by='duration')"
   ]
  },
  {
   "cell_type": "code",
   "execution_count": 25,
   "id": "f1dcbe29",
   "metadata": {},
   "outputs": [
    {
     "data": {
      "text/html": [
       "<div>\n",
       "<style scoped>\n",
       "    .dataframe tbody tr th:only-of-type {\n",
       "        vertical-align: middle;\n",
       "    }\n",
       "\n",
       "    .dataframe tbody tr th {\n",
       "        vertical-align: top;\n",
       "    }\n",
       "\n",
       "    .dataframe thead th {\n",
       "        text-align: right;\n",
       "    }\n",
       "</style>\n",
       "<table border=\"1\" class=\"dataframe\">\n",
       "  <thead>\n",
       "    <tr style=\"text-align: right;\">\n",
       "      <th></th>\n",
       "      <th>user_id</th>\n",
       "      <th>distance</th>\n",
       "      <th>duration</th>\n",
       "      <th>date</th>\n",
       "      <th>date_month</th>\n",
       "    </tr>\n",
       "  </thead>\n",
       "  <tbody>\n",
       "    <tr>\n",
       "      <th>6531</th>\n",
       "      <td>701</td>\n",
       "      <td>4196.445201</td>\n",
       "      <td>0.500000</td>\n",
       "      <td>2021-08-31</td>\n",
       "      <td>8</td>\n",
       "    </tr>\n",
       "    <tr>\n",
       "      <th>14574</th>\n",
       "      <td>1285</td>\n",
       "      <td>6316.574814</td>\n",
       "      <td>0.500000</td>\n",
       "      <td>2021-09-25</td>\n",
       "      <td>9</td>\n",
       "    </tr>\n",
       "    <tr>\n",
       "      <th>14417</th>\n",
       "      <td>1273</td>\n",
       "      <td>4178.876258</td>\n",
       "      <td>0.500000</td>\n",
       "      <td>2021-04-30</td>\n",
       "      <td>4</td>\n",
       "    </tr>\n",
       "    <tr>\n",
       "      <th>14342</th>\n",
       "      <td>1268</td>\n",
       "      <td>4177.139336</td>\n",
       "      <td>0.500000</td>\n",
       "      <td>2021-06-09</td>\n",
       "      <td>6</td>\n",
       "    </tr>\n",
       "    <tr>\n",
       "      <th>14178</th>\n",
       "      <td>1257</td>\n",
       "      <td>6120.067697</td>\n",
       "      <td>0.500000</td>\n",
       "      <td>2021-03-16</td>\n",
       "      <td>3</td>\n",
       "    </tr>\n",
       "    <tr>\n",
       "      <th>...</th>\n",
       "      <td>...</td>\n",
       "      <td>...</td>\n",
       "      <td>...</td>\n",
       "      <td>...</td>\n",
       "      <td>...</td>\n",
       "    </tr>\n",
       "    <tr>\n",
       "      <th>12527</th>\n",
       "      <td>1141</td>\n",
       "      <td>200.034777</td>\n",
       "      <td>2.923237</td>\n",
       "      <td>2021-08-22</td>\n",
       "      <td>8</td>\n",
       "    </tr>\n",
       "    <tr>\n",
       "      <th>16553</th>\n",
       "      <td>1426</td>\n",
       "      <td>435.655865</td>\n",
       "      <td>2.933548</td>\n",
       "      <td>2021-01-18</td>\n",
       "      <td>1</td>\n",
       "    </tr>\n",
       "    <tr>\n",
       "      <th>16596</th>\n",
       "      <td>1428</td>\n",
       "      <td>251.247681</td>\n",
       "      <td>2.942179</td>\n",
       "      <td>2021-11-18</td>\n",
       "      <td>11</td>\n",
       "    </tr>\n",
       "    <tr>\n",
       "      <th>15512</th>\n",
       "      <td>1356</td>\n",
       "      <td>181.295471</td>\n",
       "      <td>2.988884</td>\n",
       "      <td>2021-02-24</td>\n",
       "      <td>2</td>\n",
       "    </tr>\n",
       "    <tr>\n",
       "      <th>8676</th>\n",
       "      <td>863</td>\n",
       "      <td>466.343107</td>\n",
       "      <td>2.999307</td>\n",
       "      <td>2021-04-11</td>\n",
       "      <td>4</td>\n",
       "    </tr>\n",
       "  </tbody>\n",
       "</table>\n",
       "<p>128 rows × 5 columns</p>\n",
       "</div>"
      ],
      "text/plain": [
       "       user_id     distance  duration       date  date_month\n",
       "6531       701  4196.445201  0.500000 2021-08-31           8\n",
       "14574     1285  6316.574814  0.500000 2021-09-25           9\n",
       "14417     1273  4178.876258  0.500000 2021-04-30           4\n",
       "14342     1268  4177.139336  0.500000 2021-06-09           6\n",
       "14178     1257  6120.067697  0.500000 2021-03-16           3\n",
       "...        ...          ...       ...        ...         ...\n",
       "12527     1141   200.034777  2.923237 2021-08-22           8\n",
       "16553     1426   435.655865  2.933548 2021-01-18           1\n",
       "16596     1428   251.247681  2.942179 2021-11-18          11\n",
       "15512     1356   181.295471  2.988884 2021-02-24           2\n",
       "8676       863   466.343107  2.999307 2021-04-11           4\n",
       "\n",
       "[128 rows x 5 columns]"
      ]
     },
     "execution_count": 25,
     "metadata": {},
     "output_type": "execute_result"
    }
   ],
   "source": [
    "data_rides.query('duration < 3').sort_values(by='duration')"
   ]
  },
  {
   "cell_type": "code",
   "execution_count": 26,
   "id": "d491f48a",
   "metadata": {},
   "outputs": [
    {
     "data": {
      "text/plain": [
       "15132    4030.308008\n",
       "17909    4103.998874\n",
       "10692    4106.278268\n",
       "9698     4169.066800\n",
       "14342    4177.139336\n",
       "            ...     \n",
       "14574    6316.574814\n",
       "13701    6414.516026\n",
       "11385    6601.197575\n",
       "17242    6724.932981\n",
       "16309    7211.007745\n",
       "Name: distance, Length: 95, dtype: float64"
      ]
     },
     "execution_count": 26,
     "metadata": {},
     "output_type": "execute_result"
    }
   ],
   "source": [
    "data_rides.query('duration < 2')['distance'].sort_values()"
   ]
  },
  {
   "cell_type": "markdown",
   "id": "802d93c3",
   "metadata": {},
   "source": [
    "Судя по данным можем с уверенностью сказать, что левый всплеск на гистограмме по длительности поездок содержит \"выбросы\" в данных в значениях длительности поездок. Выше провел анализ дальности поездок  аномально малым временем, что подтверждает, что за это время <2 минут проехать более 4 км на самокате не возможно, данные длительности поездок менее 2 м содержат аномалии. **Нужно передать эту информацию инженерам, ответственным за выгрузку данных**"
   ]
  },
  {
   "cell_type": "markdown",
   "id": "b39d2a3f",
   "metadata": {},
   "source": [
    "#### Шаг 4. Объединение данных"
   ]
  },
  {
   "cell_type": "markdown",
   "id": "a7c65eca",
   "metadata": {},
   "source": [
    "Объединим три датафрейма в один, в двух из них есть общая колонка с id пользователя, в третьем есть пересекающиеся данные о типе подписки.  \n",
    "Объединение произведу методом .merge"
   ]
  },
  {
   "cell_type": "code",
   "execution_count": 27,
   "id": "e8190ef4",
   "metadata": {
    "scrolled": false
   },
   "outputs": [
    {
     "data": {
      "text/html": [
       "<div>\n",
       "<style scoped>\n",
       "    .dataframe tbody tr th:only-of-type {\n",
       "        vertical-align: middle;\n",
       "    }\n",
       "\n",
       "    .dataframe tbody tr th {\n",
       "        vertical-align: top;\n",
       "    }\n",
       "\n",
       "    .dataframe thead th {\n",
       "        text-align: right;\n",
       "    }\n",
       "</style>\n",
       "<table border=\"1\" class=\"dataframe\">\n",
       "  <thead>\n",
       "    <tr style=\"text-align: right;\">\n",
       "      <th></th>\n",
       "      <th>user_id</th>\n",
       "      <th>distance</th>\n",
       "      <th>duration</th>\n",
       "      <th>date</th>\n",
       "      <th>date_month</th>\n",
       "      <th>name</th>\n",
       "      <th>age</th>\n",
       "      <th>city</th>\n",
       "      <th>subscription_type</th>\n",
       "      <th>minute_price</th>\n",
       "      <th>start_ride_price</th>\n",
       "      <th>subscription_fee</th>\n",
       "    </tr>\n",
       "  </thead>\n",
       "  <tbody>\n",
       "    <tr>\n",
       "      <th>0</th>\n",
       "      <td>1</td>\n",
       "      <td>4409.919140</td>\n",
       "      <td>25.599769</td>\n",
       "      <td>2021-01-01</td>\n",
       "      <td>1</td>\n",
       "      <td>Кира</td>\n",
       "      <td>22</td>\n",
       "      <td>Тюмень</td>\n",
       "      <td>ultra</td>\n",
       "      <td>6</td>\n",
       "      <td>0</td>\n",
       "      <td>199</td>\n",
       "    </tr>\n",
       "    <tr>\n",
       "      <th>1</th>\n",
       "      <td>1</td>\n",
       "      <td>2617.592153</td>\n",
       "      <td>15.816871</td>\n",
       "      <td>2021-01-18</td>\n",
       "      <td>1</td>\n",
       "      <td>Кира</td>\n",
       "      <td>22</td>\n",
       "      <td>Тюмень</td>\n",
       "      <td>ultra</td>\n",
       "      <td>6</td>\n",
       "      <td>0</td>\n",
       "      <td>199</td>\n",
       "    </tr>\n",
       "    <tr>\n",
       "      <th>2</th>\n",
       "      <td>1</td>\n",
       "      <td>754.159807</td>\n",
       "      <td>6.232113</td>\n",
       "      <td>2021-04-20</td>\n",
       "      <td>4</td>\n",
       "      <td>Кира</td>\n",
       "      <td>22</td>\n",
       "      <td>Тюмень</td>\n",
       "      <td>ultra</td>\n",
       "      <td>6</td>\n",
       "      <td>0</td>\n",
       "      <td>199</td>\n",
       "    </tr>\n",
       "    <tr>\n",
       "      <th>3</th>\n",
       "      <td>1</td>\n",
       "      <td>2694.783254</td>\n",
       "      <td>18.511000</td>\n",
       "      <td>2021-08-11</td>\n",
       "      <td>8</td>\n",
       "      <td>Кира</td>\n",
       "      <td>22</td>\n",
       "      <td>Тюмень</td>\n",
       "      <td>ultra</td>\n",
       "      <td>6</td>\n",
       "      <td>0</td>\n",
       "      <td>199</td>\n",
       "    </tr>\n",
       "    <tr>\n",
       "      <th>4</th>\n",
       "      <td>1</td>\n",
       "      <td>4028.687306</td>\n",
       "      <td>26.265803</td>\n",
       "      <td>2021-08-28</td>\n",
       "      <td>8</td>\n",
       "      <td>Кира</td>\n",
       "      <td>22</td>\n",
       "      <td>Тюмень</td>\n",
       "      <td>ultra</td>\n",
       "      <td>6</td>\n",
       "      <td>0</td>\n",
       "      <td>199</td>\n",
       "    </tr>\n",
       "    <tr>\n",
       "      <th>...</th>\n",
       "      <td>...</td>\n",
       "      <td>...</td>\n",
       "      <td>...</td>\n",
       "      <td>...</td>\n",
       "      <td>...</td>\n",
       "      <td>...</td>\n",
       "      <td>...</td>\n",
       "      <td>...</td>\n",
       "      <td>...</td>\n",
       "      <td>...</td>\n",
       "      <td>...</td>\n",
       "      <td>...</td>\n",
       "    </tr>\n",
       "    <tr>\n",
       "      <th>18063</th>\n",
       "      <td>1534</td>\n",
       "      <td>3781.098080</td>\n",
       "      <td>19.822962</td>\n",
       "      <td>2021-11-04</td>\n",
       "      <td>11</td>\n",
       "      <td>Альберт</td>\n",
       "      <td>25</td>\n",
       "      <td>Краснодар</td>\n",
       "      <td>free</td>\n",
       "      <td>8</td>\n",
       "      <td>50</td>\n",
       "      <td>0</td>\n",
       "    </tr>\n",
       "    <tr>\n",
       "      <th>18064</th>\n",
       "      <td>1534</td>\n",
       "      <td>2840.423057</td>\n",
       "      <td>21.409799</td>\n",
       "      <td>2021-11-16</td>\n",
       "      <td>11</td>\n",
       "      <td>Альберт</td>\n",
       "      <td>25</td>\n",
       "      <td>Краснодар</td>\n",
       "      <td>free</td>\n",
       "      <td>8</td>\n",
       "      <td>50</td>\n",
       "      <td>0</td>\n",
       "    </tr>\n",
       "    <tr>\n",
       "      <th>18065</th>\n",
       "      <td>1534</td>\n",
       "      <td>3826.185507</td>\n",
       "      <td>18.435051</td>\n",
       "      <td>2021-11-18</td>\n",
       "      <td>11</td>\n",
       "      <td>Альберт</td>\n",
       "      <td>25</td>\n",
       "      <td>Краснодар</td>\n",
       "      <td>free</td>\n",
       "      <td>8</td>\n",
       "      <td>50</td>\n",
       "      <td>0</td>\n",
       "    </tr>\n",
       "    <tr>\n",
       "      <th>18066</th>\n",
       "      <td>1534</td>\n",
       "      <td>2902.308661</td>\n",
       "      <td>16.674362</td>\n",
       "      <td>2021-11-27</td>\n",
       "      <td>11</td>\n",
       "      <td>Альберт</td>\n",
       "      <td>25</td>\n",
       "      <td>Краснодар</td>\n",
       "      <td>free</td>\n",
       "      <td>8</td>\n",
       "      <td>50</td>\n",
       "      <td>0</td>\n",
       "    </tr>\n",
       "    <tr>\n",
       "      <th>18067</th>\n",
       "      <td>1534</td>\n",
       "      <td>2371.711192</td>\n",
       "      <td>15.893917</td>\n",
       "      <td>2021-12-29</td>\n",
       "      <td>12</td>\n",
       "      <td>Альберт</td>\n",
       "      <td>25</td>\n",
       "      <td>Краснодар</td>\n",
       "      <td>free</td>\n",
       "      <td>8</td>\n",
       "      <td>50</td>\n",
       "      <td>0</td>\n",
       "    </tr>\n",
       "  </tbody>\n",
       "</table>\n",
       "<p>18068 rows × 12 columns</p>\n",
       "</div>"
      ],
      "text/plain": [
       "       user_id     distance   duration       date  date_month     name  age  \\\n",
       "0            1  4409.919140  25.599769 2021-01-01           1     Кира   22   \n",
       "1            1  2617.592153  15.816871 2021-01-18           1     Кира   22   \n",
       "2            1   754.159807   6.232113 2021-04-20           4     Кира   22   \n",
       "3            1  2694.783254  18.511000 2021-08-11           8     Кира   22   \n",
       "4            1  4028.687306  26.265803 2021-08-28           8     Кира   22   \n",
       "...        ...          ...        ...        ...         ...      ...  ...   \n",
       "18063     1534  3781.098080  19.822962 2021-11-04          11  Альберт   25   \n",
       "18064     1534  2840.423057  21.409799 2021-11-16          11  Альберт   25   \n",
       "18065     1534  3826.185507  18.435051 2021-11-18          11  Альберт   25   \n",
       "18066     1534  2902.308661  16.674362 2021-11-27          11  Альберт   25   \n",
       "18067     1534  2371.711192  15.893917 2021-12-29          12  Альберт   25   \n",
       "\n",
       "            city subscription_type  minute_price  start_ride_price  \\\n",
       "0         Тюмень             ultra             6                 0   \n",
       "1         Тюмень             ultra             6                 0   \n",
       "2         Тюмень             ultra             6                 0   \n",
       "3         Тюмень             ultra             6                 0   \n",
       "4         Тюмень             ultra             6                 0   \n",
       "...          ...               ...           ...               ...   \n",
       "18063  Краснодар              free             8                50   \n",
       "18064  Краснодар              free             8                50   \n",
       "18065  Краснодар              free             8                50   \n",
       "18066  Краснодар              free             8                50   \n",
       "18067  Краснодар              free             8                50   \n",
       "\n",
       "       subscription_fee  \n",
       "0                   199  \n",
       "1                   199  \n",
       "2                   199  \n",
       "3                   199  \n",
       "4                   199  \n",
       "...                 ...  \n",
       "18063                 0  \n",
       "18064                 0  \n",
       "18065                 0  \n",
       "18066                 0  \n",
       "18067                 0  \n",
       "\n",
       "[18068 rows x 12 columns]"
      ]
     },
     "execution_count": 27,
     "metadata": {},
     "output_type": "execute_result"
    }
   ],
   "source": [
    "data_general = data_rides.merge(right=data_users, how='left', on='user_id')\\\n",
    "    .merge(right=data_subs, how='left', on='subscription_type')\n",
    "data_general"
   ]
  },
  {
   "cell_type": "code",
   "execution_count": 28,
   "id": "f013b13c",
   "metadata": {},
   "outputs": [
    {
     "name": "stdout",
     "output_type": "stream",
     "text": [
      "<class 'pandas.core.frame.DataFrame'>\n",
      "RangeIndex: 18068 entries, 0 to 18067\n",
      "Data columns (total 12 columns):\n",
      " #   Column             Non-Null Count  Dtype         \n",
      "---  ------             --------------  -----         \n",
      " 0   user_id            18068 non-null  int64         \n",
      " 1   distance           18068 non-null  float64       \n",
      " 2   duration           18068 non-null  float64       \n",
      " 3   date               18068 non-null  datetime64[ns]\n",
      " 4   date_month         18068 non-null  int32         \n",
      " 5   name               18068 non-null  object        \n",
      " 6   age                18068 non-null  int64         \n",
      " 7   city               18068 non-null  object        \n",
      " 8   subscription_type  18068 non-null  object        \n",
      " 9   minute_price       18068 non-null  int64         \n",
      " 10  start_ride_price   18068 non-null  int64         \n",
      " 11  subscription_fee   18068 non-null  int64         \n",
      "dtypes: datetime64[ns](1), float64(2), int32(1), int64(5), object(3)\n",
      "memory usage: 1.6+ MB\n"
     ]
    }
   ],
   "source": [
    "data_general.info()"
   ]
  },
  {
   "cell_type": "code",
   "execution_count": 29,
   "id": "0a35b18e",
   "metadata": {},
   "outputs": [
    {
     "data": {
      "text/plain": [
       "0"
      ]
     },
     "execution_count": 29,
     "metadata": {},
     "output_type": "execute_result"
    }
   ],
   "source": [
    "data_general.duplicated().sum()"
   ]
  },
  {
   "cell_type": "markdown",
   "id": "8b277ed9",
   "metadata": {},
   "source": [
    "Проверка данных после объединения датафреймов. Количество строк (18068) совпадает с количеством строк изначальной таблицы с данными о поездках. Пропусков и дупликатов в данных нет."
   ]
  },
  {
   "cell_type": "markdown",
   "id": "06593353",
   "metadata": {},
   "source": [
    "Объединение трех датафреймов по колонкам user_id и subscription_type прошло корректно, тип объединения left к дата фрейму с информацией о поездках, содержащем наибольшее количество строк и несколько строк с одним user_id  \n",
    "в итоге получили единую таблицу с данными о соверешенных поездках, информацией о пользователе и тип подписки"
   ]
  },
  {
   "cell_type": "code",
   "execution_count": 30,
   "id": "d93c66f9",
   "metadata": {},
   "outputs": [
    {
     "data": {
      "text/html": [
       "<div>\n",
       "<style scoped>\n",
       "    .dataframe tbody tr th:only-of-type {\n",
       "        vertical-align: middle;\n",
       "    }\n",
       "\n",
       "    .dataframe tbody tr th {\n",
       "        vertical-align: top;\n",
       "    }\n",
       "\n",
       "    .dataframe thead th {\n",
       "        text-align: right;\n",
       "    }\n",
       "</style>\n",
       "<table border=\"1\" class=\"dataframe\">\n",
       "  <thead>\n",
       "    <tr style=\"text-align: right;\">\n",
       "      <th></th>\n",
       "      <th>user_id</th>\n",
       "      <th>distance</th>\n",
       "      <th>duration</th>\n",
       "      <th>date</th>\n",
       "      <th>date_month</th>\n",
       "      <th>name</th>\n",
       "      <th>age</th>\n",
       "      <th>city</th>\n",
       "      <th>minute_price</th>\n",
       "      <th>start_ride_price</th>\n",
       "      <th>subscription_fee</th>\n",
       "    </tr>\n",
       "    <tr>\n",
       "      <th>subscription_type</th>\n",
       "      <th></th>\n",
       "      <th></th>\n",
       "      <th></th>\n",
       "      <th></th>\n",
       "      <th></th>\n",
       "      <th></th>\n",
       "      <th></th>\n",
       "      <th></th>\n",
       "      <th></th>\n",
       "      <th></th>\n",
       "      <th></th>\n",
       "    </tr>\n",
       "  </thead>\n",
       "  <tbody>\n",
       "    <tr>\n",
       "      <th>free</th>\n",
       "      <td>11568</td>\n",
       "      <td>11568</td>\n",
       "      <td>11568</td>\n",
       "      <td>11568</td>\n",
       "      <td>11568</td>\n",
       "      <td>11568</td>\n",
       "      <td>11568</td>\n",
       "      <td>11568</td>\n",
       "      <td>11568</td>\n",
       "      <td>11568</td>\n",
       "      <td>11568</td>\n",
       "    </tr>\n",
       "    <tr>\n",
       "      <th>ultra</th>\n",
       "      <td>6500</td>\n",
       "      <td>6500</td>\n",
       "      <td>6500</td>\n",
       "      <td>6500</td>\n",
       "      <td>6500</td>\n",
       "      <td>6500</td>\n",
       "      <td>6500</td>\n",
       "      <td>6500</td>\n",
       "      <td>6500</td>\n",
       "      <td>6500</td>\n",
       "      <td>6500</td>\n",
       "    </tr>\n",
       "  </tbody>\n",
       "</table>\n",
       "</div>"
      ],
      "text/plain": [
       "                   user_id  distance  duration   date  date_month   name  \\\n",
       "subscription_type                                                          \n",
       "free                 11568     11568     11568  11568       11568  11568   \n",
       "ultra                 6500      6500      6500   6500        6500   6500   \n",
       "\n",
       "                     age   city  minute_price  start_ride_price  \\\n",
       "subscription_type                                                 \n",
       "free               11568  11568         11568             11568   \n",
       "ultra               6500   6500          6500              6500   \n",
       "\n",
       "                   subscription_fee  \n",
       "subscription_type                    \n",
       "free                          11568  \n",
       "ultra                          6500  "
      ]
     },
     "execution_count": 30,
     "metadata": {},
     "output_type": "execute_result"
    }
   ],
   "source": [
    "data_general.groupby(by='subscription_type').count()"
   ]
  },
  {
   "cell_type": "markdown",
   "id": "d42a327d",
   "metadata": {},
   "source": [
    "По этим данным видно, что поездок, пользователями с подпиской free совершено почти в 2 раза больше, чем без подписки"
   ]
  },
  {
   "cell_type": "code",
   "execution_count": 31,
   "id": "f4badeef",
   "metadata": {},
   "outputs": [
    {
     "data": {
      "text/html": [
       "<div>\n",
       "<style scoped>\n",
       "    .dataframe tbody tr th:only-of-type {\n",
       "        vertical-align: middle;\n",
       "    }\n",
       "\n",
       "    .dataframe tbody tr th {\n",
       "        vertical-align: top;\n",
       "    }\n",
       "\n",
       "    .dataframe thead th {\n",
       "        text-align: right;\n",
       "    }\n",
       "</style>\n",
       "<table border=\"1\" class=\"dataframe\">\n",
       "  <thead>\n",
       "    <tr style=\"text-align: right;\">\n",
       "      <th></th>\n",
       "      <th>user_id</th>\n",
       "      <th>distance</th>\n",
       "      <th>duration</th>\n",
       "      <th>date</th>\n",
       "      <th>date_month</th>\n",
       "      <th>name</th>\n",
       "      <th>age</th>\n",
       "      <th>city</th>\n",
       "      <th>subscription_type</th>\n",
       "      <th>minute_price</th>\n",
       "      <th>start_ride_price</th>\n",
       "      <th>subscription_fee</th>\n",
       "    </tr>\n",
       "  </thead>\n",
       "  <tbody>\n",
       "    <tr>\n",
       "      <th>6500</th>\n",
       "      <td>700</td>\n",
       "      <td>2515.690719</td>\n",
       "      <td>14.944286</td>\n",
       "      <td>2021-01-02</td>\n",
       "      <td>1</td>\n",
       "      <td>Айдар</td>\n",
       "      <td>22</td>\n",
       "      <td>Омск</td>\n",
       "      <td>free</td>\n",
       "      <td>8</td>\n",
       "      <td>50</td>\n",
       "      <td>0</td>\n",
       "    </tr>\n",
       "    <tr>\n",
       "      <th>6501</th>\n",
       "      <td>700</td>\n",
       "      <td>846.932642</td>\n",
       "      <td>16.234663</td>\n",
       "      <td>2021-02-01</td>\n",
       "      <td>2</td>\n",
       "      <td>Айдар</td>\n",
       "      <td>22</td>\n",
       "      <td>Омск</td>\n",
       "      <td>free</td>\n",
       "      <td>8</td>\n",
       "      <td>50</td>\n",
       "      <td>0</td>\n",
       "    </tr>\n",
       "    <tr>\n",
       "      <th>6502</th>\n",
       "      <td>700</td>\n",
       "      <td>4004.434142</td>\n",
       "      <td>20.016628</td>\n",
       "      <td>2021-02-04</td>\n",
       "      <td>2</td>\n",
       "      <td>Айдар</td>\n",
       "      <td>22</td>\n",
       "      <td>Омск</td>\n",
       "      <td>free</td>\n",
       "      <td>8</td>\n",
       "      <td>50</td>\n",
       "      <td>0</td>\n",
       "    </tr>\n",
       "    <tr>\n",
       "      <th>6503</th>\n",
       "      <td>700</td>\n",
       "      <td>1205.911290</td>\n",
       "      <td>9.782872</td>\n",
       "      <td>2021-02-10</td>\n",
       "      <td>2</td>\n",
       "      <td>Айдар</td>\n",
       "      <td>22</td>\n",
       "      <td>Омск</td>\n",
       "      <td>free</td>\n",
       "      <td>8</td>\n",
       "      <td>50</td>\n",
       "      <td>0</td>\n",
       "    </tr>\n",
       "    <tr>\n",
       "      <th>6504</th>\n",
       "      <td>700</td>\n",
       "      <td>3047.379435</td>\n",
       "      <td>17.427673</td>\n",
       "      <td>2021-02-14</td>\n",
       "      <td>2</td>\n",
       "      <td>Айдар</td>\n",
       "      <td>22</td>\n",
       "      <td>Омск</td>\n",
       "      <td>free</td>\n",
       "      <td>8</td>\n",
       "      <td>50</td>\n",
       "      <td>0</td>\n",
       "    </tr>\n",
       "    <tr>\n",
       "      <th>...</th>\n",
       "      <td>...</td>\n",
       "      <td>...</td>\n",
       "      <td>...</td>\n",
       "      <td>...</td>\n",
       "      <td>...</td>\n",
       "      <td>...</td>\n",
       "      <td>...</td>\n",
       "      <td>...</td>\n",
       "      <td>...</td>\n",
       "      <td>...</td>\n",
       "      <td>...</td>\n",
       "      <td>...</td>\n",
       "    </tr>\n",
       "    <tr>\n",
       "      <th>18063</th>\n",
       "      <td>1534</td>\n",
       "      <td>3781.098080</td>\n",
       "      <td>19.822962</td>\n",
       "      <td>2021-11-04</td>\n",
       "      <td>11</td>\n",
       "      <td>Альберт</td>\n",
       "      <td>25</td>\n",
       "      <td>Краснодар</td>\n",
       "      <td>free</td>\n",
       "      <td>8</td>\n",
       "      <td>50</td>\n",
       "      <td>0</td>\n",
       "    </tr>\n",
       "    <tr>\n",
       "      <th>18064</th>\n",
       "      <td>1534</td>\n",
       "      <td>2840.423057</td>\n",
       "      <td>21.409799</td>\n",
       "      <td>2021-11-16</td>\n",
       "      <td>11</td>\n",
       "      <td>Альберт</td>\n",
       "      <td>25</td>\n",
       "      <td>Краснодар</td>\n",
       "      <td>free</td>\n",
       "      <td>8</td>\n",
       "      <td>50</td>\n",
       "      <td>0</td>\n",
       "    </tr>\n",
       "    <tr>\n",
       "      <th>18065</th>\n",
       "      <td>1534</td>\n",
       "      <td>3826.185507</td>\n",
       "      <td>18.435051</td>\n",
       "      <td>2021-11-18</td>\n",
       "      <td>11</td>\n",
       "      <td>Альберт</td>\n",
       "      <td>25</td>\n",
       "      <td>Краснодар</td>\n",
       "      <td>free</td>\n",
       "      <td>8</td>\n",
       "      <td>50</td>\n",
       "      <td>0</td>\n",
       "    </tr>\n",
       "    <tr>\n",
       "      <th>18066</th>\n",
       "      <td>1534</td>\n",
       "      <td>2902.308661</td>\n",
       "      <td>16.674362</td>\n",
       "      <td>2021-11-27</td>\n",
       "      <td>11</td>\n",
       "      <td>Альберт</td>\n",
       "      <td>25</td>\n",
       "      <td>Краснодар</td>\n",
       "      <td>free</td>\n",
       "      <td>8</td>\n",
       "      <td>50</td>\n",
       "      <td>0</td>\n",
       "    </tr>\n",
       "    <tr>\n",
       "      <th>18067</th>\n",
       "      <td>1534</td>\n",
       "      <td>2371.711192</td>\n",
       "      <td>15.893917</td>\n",
       "      <td>2021-12-29</td>\n",
       "      <td>12</td>\n",
       "      <td>Альберт</td>\n",
       "      <td>25</td>\n",
       "      <td>Краснодар</td>\n",
       "      <td>free</td>\n",
       "      <td>8</td>\n",
       "      <td>50</td>\n",
       "      <td>0</td>\n",
       "    </tr>\n",
       "  </tbody>\n",
       "</table>\n",
       "<p>11568 rows × 12 columns</p>\n",
       "</div>"
      ],
      "text/plain": [
       "       user_id     distance   duration       date  date_month     name  age  \\\n",
       "6500       700  2515.690719  14.944286 2021-01-02           1    Айдар   22   \n",
       "6501       700   846.932642  16.234663 2021-02-01           2    Айдар   22   \n",
       "6502       700  4004.434142  20.016628 2021-02-04           2    Айдар   22   \n",
       "6503       700  1205.911290   9.782872 2021-02-10           2    Айдар   22   \n",
       "6504       700  3047.379435  17.427673 2021-02-14           2    Айдар   22   \n",
       "...        ...          ...        ...        ...         ...      ...  ...   \n",
       "18063     1534  3781.098080  19.822962 2021-11-04          11  Альберт   25   \n",
       "18064     1534  2840.423057  21.409799 2021-11-16          11  Альберт   25   \n",
       "18065     1534  3826.185507  18.435051 2021-11-18          11  Альберт   25   \n",
       "18066     1534  2902.308661  16.674362 2021-11-27          11  Альберт   25   \n",
       "18067     1534  2371.711192  15.893917 2021-12-29          12  Альберт   25   \n",
       "\n",
       "            city subscription_type  minute_price  start_ride_price  \\\n",
       "6500        Омск              free             8                50   \n",
       "6501        Омск              free             8                50   \n",
       "6502        Омск              free             8                50   \n",
       "6503        Омск              free             8                50   \n",
       "6504        Омск              free             8                50   \n",
       "...          ...               ...           ...               ...   \n",
       "18063  Краснодар              free             8                50   \n",
       "18064  Краснодар              free             8                50   \n",
       "18065  Краснодар              free             8                50   \n",
       "18066  Краснодар              free             8                50   \n",
       "18067  Краснодар              free             8                50   \n",
       "\n",
       "       subscription_fee  \n",
       "6500                  0  \n",
       "6501                  0  \n",
       "6502                  0  \n",
       "6503                  0  \n",
       "6504                  0  \n",
       "...                 ...  \n",
       "18063                 0  \n",
       "18064                 0  \n",
       "18065                 0  \n",
       "18066                 0  \n",
       "18067                 0  \n",
       "\n",
       "[11568 rows x 12 columns]"
      ]
     },
     "execution_count": 31,
     "metadata": {},
     "output_type": "execute_result"
    }
   ],
   "source": [
    "data_general_without_subs = data_general.query('subscription_type != \"ultra\"')\n",
    "data_general_without_subs"
   ]
  },
  {
   "cell_type": "code",
   "execution_count": 32,
   "id": "de5ba920",
   "metadata": {},
   "outputs": [
    {
     "data": {
      "text/html": [
       "<div>\n",
       "<style scoped>\n",
       "    .dataframe tbody tr th:only-of-type {\n",
       "        vertical-align: middle;\n",
       "    }\n",
       "\n",
       "    .dataframe tbody tr th {\n",
       "        vertical-align: top;\n",
       "    }\n",
       "\n",
       "    .dataframe thead th {\n",
       "        text-align: right;\n",
       "    }\n",
       "</style>\n",
       "<table border=\"1\" class=\"dataframe\">\n",
       "  <thead>\n",
       "    <tr style=\"text-align: right;\">\n",
       "      <th></th>\n",
       "      <th>user_id</th>\n",
       "      <th>distance</th>\n",
       "      <th>duration</th>\n",
       "      <th>date</th>\n",
       "      <th>date_month</th>\n",
       "      <th>name</th>\n",
       "      <th>age</th>\n",
       "      <th>city</th>\n",
       "      <th>subscription_type</th>\n",
       "      <th>minute_price</th>\n",
       "      <th>start_ride_price</th>\n",
       "      <th>subscription_fee</th>\n",
       "    </tr>\n",
       "  </thead>\n",
       "  <tbody>\n",
       "    <tr>\n",
       "      <th>0</th>\n",
       "      <td>1</td>\n",
       "      <td>4409.919140</td>\n",
       "      <td>25.599769</td>\n",
       "      <td>2021-01-01</td>\n",
       "      <td>1</td>\n",
       "      <td>Кира</td>\n",
       "      <td>22</td>\n",
       "      <td>Тюмень</td>\n",
       "      <td>ultra</td>\n",
       "      <td>6</td>\n",
       "      <td>0</td>\n",
       "      <td>199</td>\n",
       "    </tr>\n",
       "    <tr>\n",
       "      <th>1</th>\n",
       "      <td>1</td>\n",
       "      <td>2617.592153</td>\n",
       "      <td>15.816871</td>\n",
       "      <td>2021-01-18</td>\n",
       "      <td>1</td>\n",
       "      <td>Кира</td>\n",
       "      <td>22</td>\n",
       "      <td>Тюмень</td>\n",
       "      <td>ultra</td>\n",
       "      <td>6</td>\n",
       "      <td>0</td>\n",
       "      <td>199</td>\n",
       "    </tr>\n",
       "    <tr>\n",
       "      <th>2</th>\n",
       "      <td>1</td>\n",
       "      <td>754.159807</td>\n",
       "      <td>6.232113</td>\n",
       "      <td>2021-04-20</td>\n",
       "      <td>4</td>\n",
       "      <td>Кира</td>\n",
       "      <td>22</td>\n",
       "      <td>Тюмень</td>\n",
       "      <td>ultra</td>\n",
       "      <td>6</td>\n",
       "      <td>0</td>\n",
       "      <td>199</td>\n",
       "    </tr>\n",
       "    <tr>\n",
       "      <th>3</th>\n",
       "      <td>1</td>\n",
       "      <td>2694.783254</td>\n",
       "      <td>18.511000</td>\n",
       "      <td>2021-08-11</td>\n",
       "      <td>8</td>\n",
       "      <td>Кира</td>\n",
       "      <td>22</td>\n",
       "      <td>Тюмень</td>\n",
       "      <td>ultra</td>\n",
       "      <td>6</td>\n",
       "      <td>0</td>\n",
       "      <td>199</td>\n",
       "    </tr>\n",
       "    <tr>\n",
       "      <th>4</th>\n",
       "      <td>1</td>\n",
       "      <td>4028.687306</td>\n",
       "      <td>26.265803</td>\n",
       "      <td>2021-08-28</td>\n",
       "      <td>8</td>\n",
       "      <td>Кира</td>\n",
       "      <td>22</td>\n",
       "      <td>Тюмень</td>\n",
       "      <td>ultra</td>\n",
       "      <td>6</td>\n",
       "      <td>0</td>\n",
       "      <td>199</td>\n",
       "    </tr>\n",
       "    <tr>\n",
       "      <th>...</th>\n",
       "      <td>...</td>\n",
       "      <td>...</td>\n",
       "      <td>...</td>\n",
       "      <td>...</td>\n",
       "      <td>...</td>\n",
       "      <td>...</td>\n",
       "      <td>...</td>\n",
       "      <td>...</td>\n",
       "      <td>...</td>\n",
       "      <td>...</td>\n",
       "      <td>...</td>\n",
       "      <td>...</td>\n",
       "    </tr>\n",
       "    <tr>\n",
       "      <th>6495</th>\n",
       "      <td>699</td>\n",
       "      <td>3973.046497</td>\n",
       "      <td>24.671163</td>\n",
       "      <td>2021-08-29</td>\n",
       "      <td>8</td>\n",
       "      <td>Оксана</td>\n",
       "      <td>22</td>\n",
       "      <td>Москва</td>\n",
       "      <td>ultra</td>\n",
       "      <td>6</td>\n",
       "      <td>0</td>\n",
       "      <td>199</td>\n",
       "    </tr>\n",
       "    <tr>\n",
       "      <th>6496</th>\n",
       "      <td>699</td>\n",
       "      <td>3288.702563</td>\n",
       "      <td>15.892886</td>\n",
       "      <td>2021-09-12</td>\n",
       "      <td>9</td>\n",
       "      <td>Оксана</td>\n",
       "      <td>22</td>\n",
       "      <td>Москва</td>\n",
       "      <td>ultra</td>\n",
       "      <td>6</td>\n",
       "      <td>0</td>\n",
       "      <td>199</td>\n",
       "    </tr>\n",
       "    <tr>\n",
       "      <th>6497</th>\n",
       "      <td>699</td>\n",
       "      <td>3076.159348</td>\n",
       "      <td>14.389525</td>\n",
       "      <td>2021-09-26</td>\n",
       "      <td>9</td>\n",
       "      <td>Оксана</td>\n",
       "      <td>22</td>\n",
       "      <td>Москва</td>\n",
       "      <td>ultra</td>\n",
       "      <td>6</td>\n",
       "      <td>0</td>\n",
       "      <td>199</td>\n",
       "    </tr>\n",
       "    <tr>\n",
       "      <th>6498</th>\n",
       "      <td>699</td>\n",
       "      <td>4707.845501</td>\n",
       "      <td>15.839579</td>\n",
       "      <td>2021-10-17</td>\n",
       "      <td>10</td>\n",
       "      <td>Оксана</td>\n",
       "      <td>22</td>\n",
       "      <td>Москва</td>\n",
       "      <td>ultra</td>\n",
       "      <td>6</td>\n",
       "      <td>0</td>\n",
       "      <td>199</td>\n",
       "    </tr>\n",
       "    <tr>\n",
       "      <th>6499</th>\n",
       "      <td>699</td>\n",
       "      <td>3202.890770</td>\n",
       "      <td>25.217345</td>\n",
       "      <td>2021-12-03</td>\n",
       "      <td>12</td>\n",
       "      <td>Оксана</td>\n",
       "      <td>22</td>\n",
       "      <td>Москва</td>\n",
       "      <td>ultra</td>\n",
       "      <td>6</td>\n",
       "      <td>0</td>\n",
       "      <td>199</td>\n",
       "    </tr>\n",
       "  </tbody>\n",
       "</table>\n",
       "<p>6500 rows × 12 columns</p>\n",
       "</div>"
      ],
      "text/plain": [
       "      user_id     distance   duration       date  date_month    name  age  \\\n",
       "0           1  4409.919140  25.599769 2021-01-01           1    Кира   22   \n",
       "1           1  2617.592153  15.816871 2021-01-18           1    Кира   22   \n",
       "2           1   754.159807   6.232113 2021-04-20           4    Кира   22   \n",
       "3           1  2694.783254  18.511000 2021-08-11           8    Кира   22   \n",
       "4           1  4028.687306  26.265803 2021-08-28           8    Кира   22   \n",
       "...       ...          ...        ...        ...         ...     ...  ...   \n",
       "6495      699  3973.046497  24.671163 2021-08-29           8  Оксана   22   \n",
       "6496      699  3288.702563  15.892886 2021-09-12           9  Оксана   22   \n",
       "6497      699  3076.159348  14.389525 2021-09-26           9  Оксана   22   \n",
       "6498      699  4707.845501  15.839579 2021-10-17          10  Оксана   22   \n",
       "6499      699  3202.890770  25.217345 2021-12-03          12  Оксана   22   \n",
       "\n",
       "        city subscription_type  minute_price  start_ride_price  \\\n",
       "0     Тюмень             ultra             6                 0   \n",
       "1     Тюмень             ultra             6                 0   \n",
       "2     Тюмень             ultra             6                 0   \n",
       "3     Тюмень             ultra             6                 0   \n",
       "4     Тюмень             ultra             6                 0   \n",
       "...      ...               ...           ...               ...   \n",
       "6495  Москва             ultra             6                 0   \n",
       "6496  Москва             ultra             6                 0   \n",
       "6497  Москва             ultra             6                 0   \n",
       "6498  Москва             ultra             6                 0   \n",
       "6499  Москва             ultra             6                 0   \n",
       "\n",
       "      subscription_fee  \n",
       "0                  199  \n",
       "1                  199  \n",
       "2                  199  \n",
       "3                  199  \n",
       "4                  199  \n",
       "...                ...  \n",
       "6495               199  \n",
       "6496               199  \n",
       "6497               199  \n",
       "6498               199  \n",
       "6499               199  \n",
       "\n",
       "[6500 rows x 12 columns]"
      ]
     },
     "execution_count": 32,
     "metadata": {},
     "output_type": "execute_result"
    }
   ],
   "source": [
    "data_general_with_subs = data_general.query('subscription_type == \"ultra\"')\n",
    "data_general_with_subs"
   ]
  },
  {
   "cell_type": "markdown",
   "id": "66a7739b",
   "metadata": {},
   "source": [
    "Создал еще два дата фрейма на основе data_general с данными о пользователях без подписки (data_general_without_subs (количество строк = 11568)) и с данными о пользователях с подпиской (data_general_with_subs (количество строк = 6500)).  \n",
    "Общее количество строк 18068, что равно изначально датафрейму до деления."
   ]
  },
  {
   "cell_type": "code",
   "execution_count": 33,
   "id": "78fd9f84",
   "metadata": {},
   "outputs": [
    {
     "name": "stdout",
     "output_type": "stream",
     "text": [
      "count    11568.000000\n",
      "mean      3045.495282\n",
      "std       1246.173806\n",
      "min          0.855683\n",
      "25%       2366.562689\n",
      "50%       3114.648465\n",
      "75%       3905.697894\n",
      "max       7211.007745\n",
      "Name: distance, dtype: float64\n",
      "\n",
      "count    6500.000000\n",
      "mean     3115.445388\n",
      "std       836.895330\n",
      "min       244.210438\n",
      "25%      2785.444017\n",
      "50%      3148.637229\n",
      "75%      3560.574425\n",
      "max      5699.769662\n",
      "Name: distance, dtype: float64\n"
     ]
    }
   ],
   "source": [
    "print(data_general_without_subs['distance'].describe())\n",
    "print()\n",
    "print(data_general_with_subs['distance'].describe())"
   ]
  },
  {
   "cell_type": "code",
   "execution_count": 34,
   "id": "2c111e31",
   "metadata": {},
   "outputs": [
    {
     "data": {
      "image/png": "[encoded data removed]",
      "text/plain": [
       "<Figure size 640x480 with 1 Axes>"
      ]
     },
     "metadata": {},
     "output_type": "display_data"
    }
   ],
   "source": [
    "plt.hist(data_general_without_subs['distance'], label = 'без подписки', bins=100)\n",
    "plt.hist(data_general_with_subs['distance'], label = 'с подпиской ultra', bins=100)\n",
    "plt.title('Гистограмма дальности поездок с подпиской и без')\n",
    "plt.xlabel('дальность')\n",
    "plt.ylabel('частота')\n",
    "plt.legend()\n",
    "plt.show()"
   ]
  },
  {
   "cell_type": "markdown",
   "id": "22dc5029",
   "metadata": {},
   "source": [
    "Видим похожие распределения с присущими похожими аномалиями слева, вцелом распределение близкое к нормальному.  \n",
    "Без подписки - среднее значение дальности 3045, медиана 3114, первый квартиль 2366, третий квартиль 3905.  \n",
    "С подпиской - среднее значение дальности 3115, медиана 3148, первый квартиль 2785, третий квартиль 3560. \n",
    "  \n",
    "Значения с подпиской больше, но разница не значительна."
   ]
  },
  {
   "cell_type": "code",
   "execution_count": 35,
   "id": "1d0cc81c",
   "metadata": {},
   "outputs": [
    {
     "name": "stdout",
     "output_type": "stream",
     "text": [
      "count    11568.000000\n",
      "mean        17.390909\n",
      "std          6.326803\n",
      "min          0.500000\n",
      "25%         12.958437\n",
      "50%         17.326890\n",
      "75%         21.594071\n",
      "max         34.948498\n",
      "Name: duration, dtype: float64\n",
      "\n",
      "count    6500.000000\n",
      "mean       18.541985\n",
      "std         5.572048\n",
      "min         3.760353\n",
      "25%        14.524654\n",
      "50%        18.178153\n",
      "75%        21.884129\n",
      "max        40.823963\n",
      "Name: duration, dtype: float64\n"
     ]
    }
   ],
   "source": [
    "print(data_general_without_subs['duration'].describe())\n",
    "print()\n",
    "print(data_general_with_subs['duration'].describe())"
   ]
  },
  {
   "cell_type": "code",
   "execution_count": 36,
   "id": "5f265410",
   "metadata": {},
   "outputs": [
    {
     "data": {
      "image/png": "[encoded data removed]",
      "text/plain": [
       "<Figure size 640x480 with 1 Axes>"
      ]
     },
     "metadata": {},
     "output_type": "display_data"
    }
   ],
   "source": [
    "plt.hist(data_general_without_subs['duration'], label = 'без подписки', bins=100)\n",
    "plt.hist(data_general_with_subs['duration'], label = 'c подпиской', bins=100)\n",
    "plt.legend()\n",
    "plt.title('Гистограмма длительности поездок с подпиской и без')\n",
    "plt.xlabel('длительность')\n",
    "plt.ylabel('частота')\n",
    "plt.show()"
   ]
  },
  {
   "cell_type": "markdown",
   "id": "8ea87cfd",
   "metadata": {},
   "source": [
    "Видим похожие распределения, графики с нормальными распределениями. \n",
    "Без подписки - среднее значение длительности 17, медиана 17, первый квартиль 13, третий квартиль 22.  \n",
    "С подпиской - среднее значение длительности 19, медиана 18, первый квартиль 15, третий квартиль 22. \n",
    "  \n",
    "Значения с подпиской больше, но разница не значительна."
   ]
  },
  {
   "cell_type": "markdown",
   "id": "d652a635",
   "metadata": {},
   "source": [
    "#### Шаг 5. Подсчёт выручки"
   ]
  },
  {
   "cell_type": "code",
   "execution_count": 37,
   "id": "bd140ad8",
   "metadata": {
    "scrolled": true
   },
   "outputs": [
    {
     "data": {
      "text/html": [
       "<div>\n",
       "<style scoped>\n",
       "    .dataframe tbody tr th:only-of-type {\n",
       "        vertical-align: middle;\n",
       "    }\n",
       "\n",
       "    .dataframe tbody tr th {\n",
       "        vertical-align: top;\n",
       "    }\n",
       "\n",
       "    .dataframe thead th {\n",
       "        text-align: right;\n",
       "    }\n",
       "</style>\n",
       "<table border=\"1\" class=\"dataframe\">\n",
       "  <thead>\n",
       "    <tr style=\"text-align: right;\">\n",
       "      <th></th>\n",
       "      <th>user_id</th>\n",
       "      <th>distance</th>\n",
       "      <th>duration</th>\n",
       "      <th>date</th>\n",
       "      <th>date_month</th>\n",
       "      <th>name</th>\n",
       "      <th>age</th>\n",
       "      <th>city</th>\n",
       "      <th>subscription_type</th>\n",
       "      <th>minute_price</th>\n",
       "      <th>start_ride_price</th>\n",
       "      <th>subscription_fee</th>\n",
       "    </tr>\n",
       "  </thead>\n",
       "  <tbody>\n",
       "    <tr>\n",
       "      <th>0</th>\n",
       "      <td>1</td>\n",
       "      <td>4409.919140</td>\n",
       "      <td>25.599769</td>\n",
       "      <td>2021-01-01</td>\n",
       "      <td>1</td>\n",
       "      <td>Кира</td>\n",
       "      <td>22</td>\n",
       "      <td>Тюмень</td>\n",
       "      <td>ultra</td>\n",
       "      <td>6</td>\n",
       "      <td>0</td>\n",
       "      <td>199</td>\n",
       "    </tr>\n",
       "    <tr>\n",
       "      <th>1</th>\n",
       "      <td>1</td>\n",
       "      <td>2617.592153</td>\n",
       "      <td>15.816871</td>\n",
       "      <td>2021-01-18</td>\n",
       "      <td>1</td>\n",
       "      <td>Кира</td>\n",
       "      <td>22</td>\n",
       "      <td>Тюмень</td>\n",
       "      <td>ultra</td>\n",
       "      <td>6</td>\n",
       "      <td>0</td>\n",
       "      <td>199</td>\n",
       "    </tr>\n",
       "    <tr>\n",
       "      <th>2</th>\n",
       "      <td>1</td>\n",
       "      <td>754.159807</td>\n",
       "      <td>6.232113</td>\n",
       "      <td>2021-04-20</td>\n",
       "      <td>4</td>\n",
       "      <td>Кира</td>\n",
       "      <td>22</td>\n",
       "      <td>Тюмень</td>\n",
       "      <td>ultra</td>\n",
       "      <td>6</td>\n",
       "      <td>0</td>\n",
       "      <td>199</td>\n",
       "    </tr>\n",
       "    <tr>\n",
       "      <th>3</th>\n",
       "      <td>1</td>\n",
       "      <td>2694.783254</td>\n",
       "      <td>18.511000</td>\n",
       "      <td>2021-08-11</td>\n",
       "      <td>8</td>\n",
       "      <td>Кира</td>\n",
       "      <td>22</td>\n",
       "      <td>Тюмень</td>\n",
       "      <td>ultra</td>\n",
       "      <td>6</td>\n",
       "      <td>0</td>\n",
       "      <td>199</td>\n",
       "    </tr>\n",
       "    <tr>\n",
       "      <th>4</th>\n",
       "      <td>1</td>\n",
       "      <td>4028.687306</td>\n",
       "      <td>26.265803</td>\n",
       "      <td>2021-08-28</td>\n",
       "      <td>8</td>\n",
       "      <td>Кира</td>\n",
       "      <td>22</td>\n",
       "      <td>Тюмень</td>\n",
       "      <td>ultra</td>\n",
       "      <td>6</td>\n",
       "      <td>0</td>\n",
       "      <td>199</td>\n",
       "    </tr>\n",
       "    <tr>\n",
       "      <th>...</th>\n",
       "      <td>...</td>\n",
       "      <td>...</td>\n",
       "      <td>...</td>\n",
       "      <td>...</td>\n",
       "      <td>...</td>\n",
       "      <td>...</td>\n",
       "      <td>...</td>\n",
       "      <td>...</td>\n",
       "      <td>...</td>\n",
       "      <td>...</td>\n",
       "      <td>...</td>\n",
       "      <td>...</td>\n",
       "    </tr>\n",
       "    <tr>\n",
       "      <th>18063</th>\n",
       "      <td>1534</td>\n",
       "      <td>3781.098080</td>\n",
       "      <td>19.822962</td>\n",
       "      <td>2021-11-04</td>\n",
       "      <td>11</td>\n",
       "      <td>Альберт</td>\n",
       "      <td>25</td>\n",
       "      <td>Краснодар</td>\n",
       "      <td>free</td>\n",
       "      <td>8</td>\n",
       "      <td>50</td>\n",
       "      <td>0</td>\n",
       "    </tr>\n",
       "    <tr>\n",
       "      <th>18064</th>\n",
       "      <td>1534</td>\n",
       "      <td>2840.423057</td>\n",
       "      <td>21.409799</td>\n",
       "      <td>2021-11-16</td>\n",
       "      <td>11</td>\n",
       "      <td>Альберт</td>\n",
       "      <td>25</td>\n",
       "      <td>Краснодар</td>\n",
       "      <td>free</td>\n",
       "      <td>8</td>\n",
       "      <td>50</td>\n",
       "      <td>0</td>\n",
       "    </tr>\n",
       "    <tr>\n",
       "      <th>18065</th>\n",
       "      <td>1534</td>\n",
       "      <td>3826.185507</td>\n",
       "      <td>18.435051</td>\n",
       "      <td>2021-11-18</td>\n",
       "      <td>11</td>\n",
       "      <td>Альберт</td>\n",
       "      <td>25</td>\n",
       "      <td>Краснодар</td>\n",
       "      <td>free</td>\n",
       "      <td>8</td>\n",
       "      <td>50</td>\n",
       "      <td>0</td>\n",
       "    </tr>\n",
       "    <tr>\n",
       "      <th>18066</th>\n",
       "      <td>1534</td>\n",
       "      <td>2902.308661</td>\n",
       "      <td>16.674362</td>\n",
       "      <td>2021-11-27</td>\n",
       "      <td>11</td>\n",
       "      <td>Альберт</td>\n",
       "      <td>25</td>\n",
       "      <td>Краснодар</td>\n",
       "      <td>free</td>\n",
       "      <td>8</td>\n",
       "      <td>50</td>\n",
       "      <td>0</td>\n",
       "    </tr>\n",
       "    <tr>\n",
       "      <th>18067</th>\n",
       "      <td>1534</td>\n",
       "      <td>2371.711192</td>\n",
       "      <td>15.893917</td>\n",
       "      <td>2021-12-29</td>\n",
       "      <td>12</td>\n",
       "      <td>Альберт</td>\n",
       "      <td>25</td>\n",
       "      <td>Краснодар</td>\n",
       "      <td>free</td>\n",
       "      <td>8</td>\n",
       "      <td>50</td>\n",
       "      <td>0</td>\n",
       "    </tr>\n",
       "  </tbody>\n",
       "</table>\n",
       "<p>18068 rows × 12 columns</p>\n",
       "</div>"
      ],
      "text/plain": [
       "       user_id     distance   duration       date  date_month     name  age  \\\n",
       "0            1  4409.919140  25.599769 2021-01-01           1     Кира   22   \n",
       "1            1  2617.592153  15.816871 2021-01-18           1     Кира   22   \n",
       "2            1   754.159807   6.232113 2021-04-20           4     Кира   22   \n",
       "3            1  2694.783254  18.511000 2021-08-11           8     Кира   22   \n",
       "4            1  4028.687306  26.265803 2021-08-28           8     Кира   22   \n",
       "...        ...          ...        ...        ...         ...      ...  ...   \n",
       "18063     1534  3781.098080  19.822962 2021-11-04          11  Альберт   25   \n",
       "18064     1534  2840.423057  21.409799 2021-11-16          11  Альберт   25   \n",
       "18065     1534  3826.185507  18.435051 2021-11-18          11  Альберт   25   \n",
       "18066     1534  2902.308661  16.674362 2021-11-27          11  Альберт   25   \n",
       "18067     1534  2371.711192  15.893917 2021-12-29          12  Альберт   25   \n",
       "\n",
       "            city subscription_type  minute_price  start_ride_price  \\\n",
       "0         Тюмень             ultra             6                 0   \n",
       "1         Тюмень             ultra             6                 0   \n",
       "2         Тюмень             ultra             6                 0   \n",
       "3         Тюмень             ultra             6                 0   \n",
       "4         Тюмень             ultra             6                 0   \n",
       "...          ...               ...           ...               ...   \n",
       "18063  Краснодар              free             8                50   \n",
       "18064  Краснодар              free             8                50   \n",
       "18065  Краснодар              free             8                50   \n",
       "18066  Краснодар              free             8                50   \n",
       "18067  Краснодар              free             8                50   \n",
       "\n",
       "       subscription_fee  \n",
       "0                   199  \n",
       "1                   199  \n",
       "2                   199  \n",
       "3                   199  \n",
       "4                   199  \n",
       "...                 ...  \n",
       "18063                 0  \n",
       "18064                 0  \n",
       "18065                 0  \n",
       "18066                 0  \n",
       "18067                 0  \n",
       "\n",
       "[18068 rows x 12 columns]"
      ]
     },
     "execution_count": 37,
     "metadata": {},
     "output_type": "execute_result"
    }
   ],
   "source": [
    "data_general"
   ]
  },
  {
   "cell_type": "code",
   "execution_count": 38,
   "id": "528c08b0",
   "metadata": {
    "scrolled": false
   },
   "outputs": [
    {
     "data": {
      "text/html": [
       "<div>\n",
       "<style scoped>\n",
       "    .dataframe tbody tr th:only-of-type {\n",
       "        vertical-align: middle;\n",
       "    }\n",
       "\n",
       "    .dataframe tbody tr th {\n",
       "        vertical-align: top;\n",
       "    }\n",
       "\n",
       "    .dataframe thead th {\n",
       "        text-align: right;\n",
       "    }\n",
       "</style>\n",
       "<table border=\"1\" class=\"dataframe\">\n",
       "  <thead>\n",
       "    <tr style=\"text-align: right;\">\n",
       "      <th></th>\n",
       "      <th>user_id</th>\n",
       "      <th>distance</th>\n",
       "      <th>duration</th>\n",
       "      <th>date</th>\n",
       "      <th>date_month</th>\n",
       "      <th>name</th>\n",
       "      <th>age</th>\n",
       "      <th>city</th>\n",
       "      <th>subscription_type</th>\n",
       "      <th>minute_price</th>\n",
       "      <th>start_ride_price</th>\n",
       "      <th>subscription_fee</th>\n",
       "    </tr>\n",
       "  </thead>\n",
       "  <tbody>\n",
       "    <tr>\n",
       "      <th>0</th>\n",
       "      <td>1</td>\n",
       "      <td>4409.919140</td>\n",
       "      <td>26.0</td>\n",
       "      <td>2021-01-01</td>\n",
       "      <td>1</td>\n",
       "      <td>Кира</td>\n",
       "      <td>22</td>\n",
       "      <td>Тюмень</td>\n",
       "      <td>ultra</td>\n",
       "      <td>6</td>\n",
       "      <td>0</td>\n",
       "      <td>199</td>\n",
       "    </tr>\n",
       "    <tr>\n",
       "      <th>1</th>\n",
       "      <td>1</td>\n",
       "      <td>2617.592153</td>\n",
       "      <td>16.0</td>\n",
       "      <td>2021-01-18</td>\n",
       "      <td>1</td>\n",
       "      <td>Кира</td>\n",
       "      <td>22</td>\n",
       "      <td>Тюмень</td>\n",
       "      <td>ultra</td>\n",
       "      <td>6</td>\n",
       "      <td>0</td>\n",
       "      <td>199</td>\n",
       "    </tr>\n",
       "    <tr>\n",
       "      <th>2</th>\n",
       "      <td>1</td>\n",
       "      <td>754.159807</td>\n",
       "      <td>7.0</td>\n",
       "      <td>2021-04-20</td>\n",
       "      <td>4</td>\n",
       "      <td>Кира</td>\n",
       "      <td>22</td>\n",
       "      <td>Тюмень</td>\n",
       "      <td>ultra</td>\n",
       "      <td>6</td>\n",
       "      <td>0</td>\n",
       "      <td>199</td>\n",
       "    </tr>\n",
       "    <tr>\n",
       "      <th>3</th>\n",
       "      <td>1</td>\n",
       "      <td>2694.783254</td>\n",
       "      <td>19.0</td>\n",
       "      <td>2021-08-11</td>\n",
       "      <td>8</td>\n",
       "      <td>Кира</td>\n",
       "      <td>22</td>\n",
       "      <td>Тюмень</td>\n",
       "      <td>ultra</td>\n",
       "      <td>6</td>\n",
       "      <td>0</td>\n",
       "      <td>199</td>\n",
       "    </tr>\n",
       "    <tr>\n",
       "      <th>4</th>\n",
       "      <td>1</td>\n",
       "      <td>4028.687306</td>\n",
       "      <td>27.0</td>\n",
       "      <td>2021-08-28</td>\n",
       "      <td>8</td>\n",
       "      <td>Кира</td>\n",
       "      <td>22</td>\n",
       "      <td>Тюмень</td>\n",
       "      <td>ultra</td>\n",
       "      <td>6</td>\n",
       "      <td>0</td>\n",
       "      <td>199</td>\n",
       "    </tr>\n",
       "    <tr>\n",
       "      <th>...</th>\n",
       "      <td>...</td>\n",
       "      <td>...</td>\n",
       "      <td>...</td>\n",
       "      <td>...</td>\n",
       "      <td>...</td>\n",
       "      <td>...</td>\n",
       "      <td>...</td>\n",
       "      <td>...</td>\n",
       "      <td>...</td>\n",
       "      <td>...</td>\n",
       "      <td>...</td>\n",
       "      <td>...</td>\n",
       "    </tr>\n",
       "    <tr>\n",
       "      <th>18063</th>\n",
       "      <td>1534</td>\n",
       "      <td>3781.098080</td>\n",
       "      <td>20.0</td>\n",
       "      <td>2021-11-04</td>\n",
       "      <td>11</td>\n",
       "      <td>Альберт</td>\n",
       "      <td>25</td>\n",
       "      <td>Краснодар</td>\n",
       "      <td>free</td>\n",
       "      <td>8</td>\n",
       "      <td>50</td>\n",
       "      <td>0</td>\n",
       "    </tr>\n",
       "    <tr>\n",
       "      <th>18064</th>\n",
       "      <td>1534</td>\n",
       "      <td>2840.423057</td>\n",
       "      <td>22.0</td>\n",
       "      <td>2021-11-16</td>\n",
       "      <td>11</td>\n",
       "      <td>Альберт</td>\n",
       "      <td>25</td>\n",
       "      <td>Краснодар</td>\n",
       "      <td>free</td>\n",
       "      <td>8</td>\n",
       "      <td>50</td>\n",
       "      <td>0</td>\n",
       "    </tr>\n",
       "    <tr>\n",
       "      <th>18065</th>\n",
       "      <td>1534</td>\n",
       "      <td>3826.185507</td>\n",
       "      <td>19.0</td>\n",
       "      <td>2021-11-18</td>\n",
       "      <td>11</td>\n",
       "      <td>Альберт</td>\n",
       "      <td>25</td>\n",
       "      <td>Краснодар</td>\n",
       "      <td>free</td>\n",
       "      <td>8</td>\n",
       "      <td>50</td>\n",
       "      <td>0</td>\n",
       "    </tr>\n",
       "    <tr>\n",
       "      <th>18066</th>\n",
       "      <td>1534</td>\n",
       "      <td>2902.308661</td>\n",
       "      <td>17.0</td>\n",
       "      <td>2021-11-27</td>\n",
       "      <td>11</td>\n",
       "      <td>Альберт</td>\n",
       "      <td>25</td>\n",
       "      <td>Краснодар</td>\n",
       "      <td>free</td>\n",
       "      <td>8</td>\n",
       "      <td>50</td>\n",
       "      <td>0</td>\n",
       "    </tr>\n",
       "    <tr>\n",
       "      <th>18067</th>\n",
       "      <td>1534</td>\n",
       "      <td>2371.711192</td>\n",
       "      <td>16.0</td>\n",
       "      <td>2021-12-29</td>\n",
       "      <td>12</td>\n",
       "      <td>Альберт</td>\n",
       "      <td>25</td>\n",
       "      <td>Краснодар</td>\n",
       "      <td>free</td>\n",
       "      <td>8</td>\n",
       "      <td>50</td>\n",
       "      <td>0</td>\n",
       "    </tr>\n",
       "  </tbody>\n",
       "</table>\n",
       "<p>18068 rows × 12 columns</p>\n",
       "</div>"
      ],
      "text/plain": [
       "       user_id     distance  duration       date  date_month     name  age  \\\n",
       "0            1  4409.919140      26.0 2021-01-01           1     Кира   22   \n",
       "1            1  2617.592153      16.0 2021-01-18           1     Кира   22   \n",
       "2            1   754.159807       7.0 2021-04-20           4     Кира   22   \n",
       "3            1  2694.783254      19.0 2021-08-11           8     Кира   22   \n",
       "4            1  4028.687306      27.0 2021-08-28           8     Кира   22   \n",
       "...        ...          ...       ...        ...         ...      ...  ...   \n",
       "18063     1534  3781.098080      20.0 2021-11-04          11  Альберт   25   \n",
       "18064     1534  2840.423057      22.0 2021-11-16          11  Альберт   25   \n",
       "18065     1534  3826.185507      19.0 2021-11-18          11  Альберт   25   \n",
       "18066     1534  2902.308661      17.0 2021-11-27          11  Альберт   25   \n",
       "18067     1534  2371.711192      16.0 2021-12-29          12  Альберт   25   \n",
       "\n",
       "            city subscription_type  minute_price  start_ride_price  \\\n",
       "0         Тюмень             ultra             6                 0   \n",
       "1         Тюмень             ultra             6                 0   \n",
       "2         Тюмень             ultra             6                 0   \n",
       "3         Тюмень             ultra             6                 0   \n",
       "4         Тюмень             ultra             6                 0   \n",
       "...          ...               ...           ...               ...   \n",
       "18063  Краснодар              free             8                50   \n",
       "18064  Краснодар              free             8                50   \n",
       "18065  Краснодар              free             8                50   \n",
       "18066  Краснодар              free             8                50   \n",
       "18067  Краснодар              free             8                50   \n",
       "\n",
       "       subscription_fee  \n",
       "0                   199  \n",
       "1                   199  \n",
       "2                   199  \n",
       "3                   199  \n",
       "4                   199  \n",
       "...                 ...  \n",
       "18063                 0  \n",
       "18064                 0  \n",
       "18065                 0  \n",
       "18066                 0  \n",
       "18067                 0  \n",
       "\n",
       "[18068 rows x 12 columns]"
      ]
     },
     "execution_count": 38,
     "metadata": {},
     "output_type": "execute_result"
    }
   ],
   "source": [
    "data_general['duration'] = np.ceil(data_general['duration'])\n",
    "data_general"
   ]
  },
  {
   "cell_type": "code",
   "execution_count": 39,
   "id": "ca794361",
   "metadata": {},
   "outputs": [
    {
     "data": {
      "text/html": [
       "<div>\n",
       "<style scoped>\n",
       "    .dataframe tbody tr th:only-of-type {\n",
       "        vertical-align: middle;\n",
       "    }\n",
       "\n",
       "    .dataframe tbody tr th {\n",
       "        vertical-align: top;\n",
       "    }\n",
       "\n",
       "    .dataframe thead th {\n",
       "        text-align: right;\n",
       "    }\n",
       "</style>\n",
       "<table border=\"1\" class=\"dataframe\">\n",
       "  <thead>\n",
       "    <tr style=\"text-align: right;\">\n",
       "      <th></th>\n",
       "      <th>user_id</th>\n",
       "      <th>date_month</th>\n",
       "      <th>number_of_trips</th>\n",
       "      <th>full_distance</th>\n",
       "      <th>full_duration</th>\n",
       "      <th>minute_price</th>\n",
       "      <th>start_ride_price</th>\n",
       "      <th>subscription_fee</th>\n",
       "      <th>subscription_type</th>\n",
       "    </tr>\n",
       "  </thead>\n",
       "  <tbody>\n",
       "    <tr>\n",
       "      <th>0</th>\n",
       "      <td>1</td>\n",
       "      <td>1</td>\n",
       "      <td>2</td>\n",
       "      <td>7027.511294</td>\n",
       "      <td>42.0</td>\n",
       "      <td>6</td>\n",
       "      <td>0</td>\n",
       "      <td>199</td>\n",
       "      <td>ultra</td>\n",
       "    </tr>\n",
       "    <tr>\n",
       "      <th>1</th>\n",
       "      <td>1</td>\n",
       "      <td>4</td>\n",
       "      <td>1</td>\n",
       "      <td>754.159807</td>\n",
       "      <td>7.0</td>\n",
       "      <td>6</td>\n",
       "      <td>0</td>\n",
       "      <td>199</td>\n",
       "      <td>ultra</td>\n",
       "    </tr>\n",
       "    <tr>\n",
       "      <th>2</th>\n",
       "      <td>1</td>\n",
       "      <td>8</td>\n",
       "      <td>2</td>\n",
       "      <td>6723.470560</td>\n",
       "      <td>46.0</td>\n",
       "      <td>6</td>\n",
       "      <td>0</td>\n",
       "      <td>199</td>\n",
       "      <td>ultra</td>\n",
       "    </tr>\n",
       "    <tr>\n",
       "      <th>3</th>\n",
       "      <td>1</td>\n",
       "      <td>10</td>\n",
       "      <td>2</td>\n",
       "      <td>5809.911100</td>\n",
       "      <td>32.0</td>\n",
       "      <td>6</td>\n",
       "      <td>0</td>\n",
       "      <td>199</td>\n",
       "      <td>ultra</td>\n",
       "    </tr>\n",
       "    <tr>\n",
       "      <th>4</th>\n",
       "      <td>1</td>\n",
       "      <td>11</td>\n",
       "      <td>3</td>\n",
       "      <td>7003.499363</td>\n",
       "      <td>56.0</td>\n",
       "      <td>6</td>\n",
       "      <td>0</td>\n",
       "      <td>199</td>\n",
       "      <td>ultra</td>\n",
       "    </tr>\n",
       "    <tr>\n",
       "      <th>...</th>\n",
       "      <td>...</td>\n",
       "      <td>...</td>\n",
       "      <td>...</td>\n",
       "      <td>...</td>\n",
       "      <td>...</td>\n",
       "      <td>...</td>\n",
       "      <td>...</td>\n",
       "      <td>...</td>\n",
       "      <td>...</td>\n",
       "    </tr>\n",
       "    <tr>\n",
       "      <th>11326</th>\n",
       "      <td>1534</td>\n",
       "      <td>6</td>\n",
       "      <td>2</td>\n",
       "      <td>3409.468534</td>\n",
       "      <td>26.0</td>\n",
       "      <td>8</td>\n",
       "      <td>50</td>\n",
       "      <td>0</td>\n",
       "      <td>free</td>\n",
       "    </tr>\n",
       "    <tr>\n",
       "      <th>11327</th>\n",
       "      <td>1534</td>\n",
       "      <td>8</td>\n",
       "      <td>2</td>\n",
       "      <td>7622.453034</td>\n",
       "      <td>48.0</td>\n",
       "      <td>8</td>\n",
       "      <td>50</td>\n",
       "      <td>0</td>\n",
       "      <td>free</td>\n",
       "    </tr>\n",
       "    <tr>\n",
       "      <th>11328</th>\n",
       "      <td>1534</td>\n",
       "      <td>9</td>\n",
       "      <td>1</td>\n",
       "      <td>4928.173852</td>\n",
       "      <td>23.0</td>\n",
       "      <td>8</td>\n",
       "      <td>50</td>\n",
       "      <td>0</td>\n",
       "      <td>free</td>\n",
       "    </tr>\n",
       "    <tr>\n",
       "      <th>11329</th>\n",
       "      <td>1534</td>\n",
       "      <td>11</td>\n",
       "      <td>4</td>\n",
       "      <td>13350.015305</td>\n",
       "      <td>78.0</td>\n",
       "      <td>8</td>\n",
       "      <td>50</td>\n",
       "      <td>0</td>\n",
       "      <td>free</td>\n",
       "    </tr>\n",
       "    <tr>\n",
       "      <th>11330</th>\n",
       "      <td>1534</td>\n",
       "      <td>12</td>\n",
       "      <td>1</td>\n",
       "      <td>2371.711192</td>\n",
       "      <td>16.0</td>\n",
       "      <td>8</td>\n",
       "      <td>50</td>\n",
       "      <td>0</td>\n",
       "      <td>free</td>\n",
       "    </tr>\n",
       "  </tbody>\n",
       "</table>\n",
       "<p>11331 rows × 9 columns</p>\n",
       "</div>"
      ],
      "text/plain": [
       "       user_id  date_month  number_of_trips  full_distance  full_duration  \\\n",
       "0            1           1                2    7027.511294           42.0   \n",
       "1            1           4                1     754.159807            7.0   \n",
       "2            1           8                2    6723.470560           46.0   \n",
       "3            1          10                2    5809.911100           32.0   \n",
       "4            1          11                3    7003.499363           56.0   \n",
       "...        ...         ...              ...            ...            ...   \n",
       "11326     1534           6                2    3409.468534           26.0   \n",
       "11327     1534           8                2    7622.453034           48.0   \n",
       "11328     1534           9                1    4928.173852           23.0   \n",
       "11329     1534          11                4   13350.015305           78.0   \n",
       "11330     1534          12                1    2371.711192           16.0   \n",
       "\n",
       "       minute_price  start_ride_price  subscription_fee subscription_type  \n",
       "0                 6                 0               199             ultra  \n",
       "1                 6                 0               199             ultra  \n",
       "2                 6                 0               199             ultra  \n",
       "3                 6                 0               199             ultra  \n",
       "4                 6                 0               199             ultra  \n",
       "...             ...               ...               ...               ...  \n",
       "11326             8                50                 0              free  \n",
       "11327             8                50                 0              free  \n",
       "11328             8                50                 0              free  \n",
       "11329             8                50                 0              free  \n",
       "11330             8                50                 0              free  \n",
       "\n",
       "[11331 rows x 9 columns]"
      ]
     },
     "execution_count": 39,
     "metadata": {},
     "output_type": "execute_result"
    }
   ],
   "source": [
    "gendata_agg = data_general.pivot_table(\n",
    "    index=['user_id', 'date_month'], \n",
    "    values=['distance', 'duration', 'date', 'subscription_type', 'minute_price', 'start_ride_price', 'subscription_fee'], \n",
    "    aggfunc={'distance' : 'sum', 'duration' : 'sum', 'date' : 'count', 'subscription_type' : 'first', \\\n",
    "            'minute_price' : 'first', 'start_ride_price' : 'first','subscription_fee' : 'first',}\n",
    "                                            ).reset_index(). rename(columns={'date' : 'number_of_trips',\n",
    "                                                               'distance' : 'full_distance',\n",
    "                                                               'duration' : 'full_duration'})\n",
    "gendata_agg"
   ]
  },
  {
   "cell_type": "markdown",
   "id": "c42f2e78",
   "metadata": {},
   "source": [
    "Создал сводную тублицу, на основании общей таблицы, с общим количеством поездок по каждому пользователю, суммарным расстоянием и времени поездок"
   ]
  },
  {
   "cell_type": "code",
   "execution_count": 40,
   "id": "86e60d35",
   "metadata": {},
   "outputs": [],
   "source": [
    "def total_monthprice(data):\n",
    "    duration = data['full_duration']\n",
    "    min = data['minute_price']\n",
    "    number = data['number_of_trips']\n",
    "    start = data['start_ride_price']\n",
    "    sub_fee = data['subscription_fee']\n",
    "    total_monthprice = sub_fee + start * number + min * duration\n",
    "    return total_monthprice\n",
    "    "
   ]
  },
  {
   "cell_type": "code",
   "execution_count": 41,
   "id": "0489bcb1",
   "metadata": {},
   "outputs": [],
   "source": [
    "gendata_agg['total_monthprice'] = gendata_agg.apply(total_monthprice, axis=1)"
   ]
  },
  {
   "cell_type": "code",
   "execution_count": 42,
   "id": "7b57e705",
   "metadata": {
    "scrolled": false
   },
   "outputs": [
    {
     "data": {
      "text/html": [
       "<div>\n",
       "<style scoped>\n",
       "    .dataframe tbody tr th:only-of-type {\n",
       "        vertical-align: middle;\n",
       "    }\n",
       "\n",
       "    .dataframe tbody tr th {\n",
       "        vertical-align: top;\n",
       "    }\n",
       "\n",
       "    .dataframe thead th {\n",
       "        text-align: right;\n",
       "    }\n",
       "</style>\n",
       "<table border=\"1\" class=\"dataframe\">\n",
       "  <thead>\n",
       "    <tr style=\"text-align: right;\">\n",
       "      <th></th>\n",
       "      <th>user_id</th>\n",
       "      <th>date_month</th>\n",
       "      <th>number_of_trips</th>\n",
       "      <th>full_distance</th>\n",
       "      <th>full_duration</th>\n",
       "      <th>minute_price</th>\n",
       "      <th>start_ride_price</th>\n",
       "      <th>subscription_fee</th>\n",
       "      <th>subscription_type</th>\n",
       "      <th>total_monthprice</th>\n",
       "    </tr>\n",
       "  </thead>\n",
       "  <tbody>\n",
       "    <tr>\n",
       "      <th>0</th>\n",
       "      <td>1</td>\n",
       "      <td>1</td>\n",
       "      <td>2</td>\n",
       "      <td>7027.511294</td>\n",
       "      <td>42.0</td>\n",
       "      <td>6</td>\n",
       "      <td>0</td>\n",
       "      <td>199</td>\n",
       "      <td>ultra</td>\n",
       "      <td>451.0</td>\n",
       "    </tr>\n",
       "    <tr>\n",
       "      <th>1</th>\n",
       "      <td>1</td>\n",
       "      <td>4</td>\n",
       "      <td>1</td>\n",
       "      <td>754.159807</td>\n",
       "      <td>7.0</td>\n",
       "      <td>6</td>\n",
       "      <td>0</td>\n",
       "      <td>199</td>\n",
       "      <td>ultra</td>\n",
       "      <td>241.0</td>\n",
       "    </tr>\n",
       "    <tr>\n",
       "      <th>2</th>\n",
       "      <td>1</td>\n",
       "      <td>8</td>\n",
       "      <td>2</td>\n",
       "      <td>6723.470560</td>\n",
       "      <td>46.0</td>\n",
       "      <td>6</td>\n",
       "      <td>0</td>\n",
       "      <td>199</td>\n",
       "      <td>ultra</td>\n",
       "      <td>475.0</td>\n",
       "    </tr>\n",
       "    <tr>\n",
       "      <th>3</th>\n",
       "      <td>1</td>\n",
       "      <td>10</td>\n",
       "      <td>2</td>\n",
       "      <td>5809.911100</td>\n",
       "      <td>32.0</td>\n",
       "      <td>6</td>\n",
       "      <td>0</td>\n",
       "      <td>199</td>\n",
       "      <td>ultra</td>\n",
       "      <td>391.0</td>\n",
       "    </tr>\n",
       "    <tr>\n",
       "      <th>4</th>\n",
       "      <td>1</td>\n",
       "      <td>11</td>\n",
       "      <td>3</td>\n",
       "      <td>7003.499363</td>\n",
       "      <td>56.0</td>\n",
       "      <td>6</td>\n",
       "      <td>0</td>\n",
       "      <td>199</td>\n",
       "      <td>ultra</td>\n",
       "      <td>535.0</td>\n",
       "    </tr>\n",
       "    <tr>\n",
       "      <th>...</th>\n",
       "      <td>...</td>\n",
       "      <td>...</td>\n",
       "      <td>...</td>\n",
       "      <td>...</td>\n",
       "      <td>...</td>\n",
       "      <td>...</td>\n",
       "      <td>...</td>\n",
       "      <td>...</td>\n",
       "      <td>...</td>\n",
       "      <td>...</td>\n",
       "    </tr>\n",
       "    <tr>\n",
       "      <th>11326</th>\n",
       "      <td>1534</td>\n",
       "      <td>6</td>\n",
       "      <td>2</td>\n",
       "      <td>3409.468534</td>\n",
       "      <td>26.0</td>\n",
       "      <td>8</td>\n",
       "      <td>50</td>\n",
       "      <td>0</td>\n",
       "      <td>free</td>\n",
       "      <td>308.0</td>\n",
       "    </tr>\n",
       "    <tr>\n",
       "      <th>11327</th>\n",
       "      <td>1534</td>\n",
       "      <td>8</td>\n",
       "      <td>2</td>\n",
       "      <td>7622.453034</td>\n",
       "      <td>48.0</td>\n",
       "      <td>8</td>\n",
       "      <td>50</td>\n",
       "      <td>0</td>\n",
       "      <td>free</td>\n",
       "      <td>484.0</td>\n",
       "    </tr>\n",
       "    <tr>\n",
       "      <th>11328</th>\n",
       "      <td>1534</td>\n",
       "      <td>9</td>\n",
       "      <td>1</td>\n",
       "      <td>4928.173852</td>\n",
       "      <td>23.0</td>\n",
       "      <td>8</td>\n",
       "      <td>50</td>\n",
       "      <td>0</td>\n",
       "      <td>free</td>\n",
       "      <td>234.0</td>\n",
       "    </tr>\n",
       "    <tr>\n",
       "      <th>11329</th>\n",
       "      <td>1534</td>\n",
       "      <td>11</td>\n",
       "      <td>4</td>\n",
       "      <td>13350.015305</td>\n",
       "      <td>78.0</td>\n",
       "      <td>8</td>\n",
       "      <td>50</td>\n",
       "      <td>0</td>\n",
       "      <td>free</td>\n",
       "      <td>824.0</td>\n",
       "    </tr>\n",
       "    <tr>\n",
       "      <th>11330</th>\n",
       "      <td>1534</td>\n",
       "      <td>12</td>\n",
       "      <td>1</td>\n",
       "      <td>2371.711192</td>\n",
       "      <td>16.0</td>\n",
       "      <td>8</td>\n",
       "      <td>50</td>\n",
       "      <td>0</td>\n",
       "      <td>free</td>\n",
       "      <td>178.0</td>\n",
       "    </tr>\n",
       "  </tbody>\n",
       "</table>\n",
       "<p>11331 rows × 10 columns</p>\n",
       "</div>"
      ],
      "text/plain": [
       "       user_id  date_month  number_of_trips  full_distance  full_duration  \\\n",
       "0            1           1                2    7027.511294           42.0   \n",
       "1            1           4                1     754.159807            7.0   \n",
       "2            1           8                2    6723.470560           46.0   \n",
       "3            1          10                2    5809.911100           32.0   \n",
       "4            1          11                3    7003.499363           56.0   \n",
       "...        ...         ...              ...            ...            ...   \n",
       "11326     1534           6                2    3409.468534           26.0   \n",
       "11327     1534           8                2    7622.453034           48.0   \n",
       "11328     1534           9                1    4928.173852           23.0   \n",
       "11329     1534          11                4   13350.015305           78.0   \n",
       "11330     1534          12                1    2371.711192           16.0   \n",
       "\n",
       "       minute_price  start_ride_price  subscription_fee subscription_type  \\\n",
       "0                 6                 0               199             ultra   \n",
       "1                 6                 0               199             ultra   \n",
       "2                 6                 0               199             ultra   \n",
       "3                 6                 0               199             ultra   \n",
       "4                 6                 0               199             ultra   \n",
       "...             ...               ...               ...               ...   \n",
       "11326             8                50                 0              free   \n",
       "11327             8                50                 0              free   \n",
       "11328             8                50                 0              free   \n",
       "11329             8                50                 0              free   \n",
       "11330             8                50                 0              free   \n",
       "\n",
       "       total_monthprice  \n",
       "0                 451.0  \n",
       "1                 241.0  \n",
       "2                 475.0  \n",
       "3                 391.0  \n",
       "4                 535.0  \n",
       "...                 ...  \n",
       "11326             308.0  \n",
       "11327             484.0  \n",
       "11328             234.0  \n",
       "11329             824.0  \n",
       "11330             178.0  \n",
       "\n",
       "[11331 rows x 10 columns]"
      ]
     },
     "execution_count": 42,
     "metadata": {},
     "output_type": "execute_result"
    }
   ],
   "source": [
    "gendata_agg"
   ]
  },
  {
   "cell_type": "code",
   "execution_count": 43,
   "id": "235fe5be",
   "metadata": {},
   "outputs": [
    {
     "name": "stdout",
     "output_type": "stream",
     "text": [
      "Общая выручка от пользователей с подпиской 1644537.0, средняя выручка с человека 363.0\n",
      "\n",
      "Общая выручка от пользователей без подписки 2234104.0, средняя выручка с человека 329.0\n"
     ]
    }
   ],
   "source": [
    "number_of_users_withsubs = gendata_agg.query('subscription_type==\"ultra\"')['total_monthprice'].count()\n",
    "number_of_users_withoutsubs = gendata_agg.query('subscription_type!=\"ultra\"')['total_monthprice'].count()\n",
    "total_revenue_withsubs = gendata_agg.query('subscription_type==\"ultra\"')['total_monthprice'].sum()\n",
    "total_revenue_withoutsubs = gendata_agg.query('subscription_type!=\"ultra\"')['total_monthprice'].sum()\n",
    "mean_ratio_withsubs = np.ceil(total_revenue_withsubs / number_of_users_withsubs)\n",
    "mean_ratio_withoutsubs = np.ceil(total_revenue_withoutsubs / number_of_users_withoutsubs)\n",
    "\n",
    "print(f'Общая выручка от пользователей с подпиской {total_revenue_withsubs}, \\\n",
    "средняя выручка с человека {mean_ratio_withsubs}')\n",
    "print()\n",
    "print(f'Общая выручка от пользователей без подписки {total_revenue_withoutsubs}, \\\n",
    "средняя выручка с человека {mean_ratio_withoutsubs}')"
   ]
  },
  {
   "cell_type": "markdown",
   "id": "de90ae1e",
   "metadata": {},
   "source": [
    "**Средне месячная выручка от пользователей с подпиской составляет 363 , без подписки 329.  \n",
    "Пользователи с подпиской приносят больше прибыли сервису**"
   ]
  },
  {
   "cell_type": "markdown",
   "id": "ff526961",
   "metadata": {},
   "source": [
    "#### Шаг 6. Проверка гипотез"
   ]
  },
  {
   "cell_type": "markdown",
   "id": "76e5db84",
   "metadata": {},
   "source": [
    "##### Проверяю гипотезу о том, тратят ли пользователи с подпиской больше времени на поездки?  \n",
    "##### Нулевая гипотеза: средняя продолжительность поездок пользователей с подпиской равна средней продолжительности поездки пользователей без подписки  \n",
    "##### Альтернативная гипотеза: средняя продолжительность поездок пользователей с подпиской больше средней продолжительности поездки пользователей без подписки  "
   ]
  },
  {
   "cell_type": "code",
   "execution_count": 44,
   "id": "eec3fe1c",
   "metadata": {},
   "outputs": [],
   "source": [
    "duration_with_subs = data_general.query('subscription_type == \"ultra\"')['duration']\n",
    "duration_without_subs = data_general.query('subscription_type != \"ultra\"')['duration']"
   ]
  },
  {
   "cell_type": "code",
   "execution_count": 45,
   "id": "6c2c53e6",
   "metadata": {},
   "outputs": [
    {
     "name": "stdout",
     "output_type": "stream",
     "text": [
      "p-значение 1.1814679253701353e-36\n",
      "отвергаем нулевую гипотезу (о том, что пользователи с подпиской и без тратят одинаковое время на поездки), \n",
      "есть основания полагать, что пользователи с подпиской тратят больше времени на поездки с уровнем \n",
      " статистической значимости в 0.05\n"
     ]
    }
   ],
   "source": [
    "# задаю уровень статистической значимости alpha\n",
    "alpha = 0.05 \n",
    "# equal_var указал как False, так как размеры выборок с подпиской и без различны в два раза\n",
    "# и судя по гистограммам дисперсии отличны\n",
    "results = st.ttest_ind(duration_with_subs, duration_without_subs, equal_var=False, alternative='greater')\n",
    "\n",
    "print('p-значение', results.pvalue)\n",
    "\n",
    "if results.pvalue < alpha:\n",
    "    print('отвергаем нулевую гипотезу (о том, что пользователи с подпиской и без тратят одинаковое время на поездки),',\n",
    "         '\\nесть основания полагать, что пользователи с подпиской тратят больше времени на поездки с уровнем',\n",
    "         '\\n статистической значимости в 0.05')\n",
    "else:\n",
    "    print('не получилось отвергнуть нулевую гипотезу',\n",
    "          '(нет оснований полагать, что пользователи с подпиской и без тратят одинаковое время на поездки)')\n"
   ]
  },
  {
   "cell_type": "markdown",
   "id": "ca307499",
   "metadata": {},
   "source": [
    "Провел статистический ttest о том, что пользователи с подпиской тратят больше времени на поездки.  \n",
    "Результаты теста с уровнем статистической значимости в 0.05 показали, что пользователи с подпиской тратят больше времени на поездки"
   ]
  },
  {
   "cell_type": "markdown",
   "id": "2ffa6219",
   "metadata": {},
   "source": [
    "##### Проверяю гипотезу о том,  что среднее расстояние, которое проезжают пользователи с подпиской за одну поездку, не превышает 3130 метров?  \n",
    "##### Нулевая гипотеза: средняя длительность поездки пользователей с подпиской равна 3130 м  \n",
    "##### Альтернативная гипотеза: средняя продолжительность поездок пользователей с подпиской более 3130 м"
   ]
  },
  {
   "cell_type": "code",
   "execution_count": 46,
   "id": "a1880d4b",
   "metadata": {},
   "outputs": [],
   "source": [
    "distance_with_subs = data_general.query('subscription_type == \"ultra\"')['distance']"
   ]
  },
  {
   "cell_type": "code",
   "execution_count": 47,
   "id": "ced7b22f",
   "metadata": {},
   "outputs": [
    {
     "name": "stdout",
     "output_type": "stream",
     "text": [
      "p-значение 0.9195368847849785\n",
      "Не получилось отвергнуть нулевую гипотезу,  \n",
      "нет оснований полагать, что среднее расстояние не более nominal_dist\n"
     ]
    }
   ],
   "source": [
    "# задаю уровень статистической значимости alpha\n",
    "alpha = 0.05 \n",
    "\n",
    "nominal_dist = 3130\n",
    "\n",
    "results_1 = st.ttest_1samp( \n",
    "    distance_with_subs,\n",
    "    nominal_dist,\n",
    "    alternative='greater'\n",
    ")\n",
    "print('p-значение', results_1.pvalue)\n",
    "\n",
    "if results_1.pvalue < alpha:\n",
    "    print('Отвергаем нулевую гипотезу (среднее расстояние с подпиской равно nominal_dist,',\n",
    "         '\\nесть основания полагать, что среднее расстояние более nominal_dist')\n",
    "else:\n",
    "    print('Не получилось отвергнуть нулевую гипотезу, ',\n",
    "         '\\nнет оснований полагать, что среднее расстояние не более nominal_dist')"
   ]
  },
  {
   "cell_type": "markdown",
   "id": "b73f2642",
   "metadata": {},
   "source": [
    "Провел статистический ttest о том, что среднее расстояние с подпиской с уровнем статистической значимости в 0.05 равно или менее 3130 м, что является номинальным расстоянием за одну поездку с точки зрения износа самоката.  \n",
    "Для сервиса это хороший показатель, так как издержки на обслуживание самокатов при не превышении номинальных дальностей поездок будут меньше"
   ]
  },
  {
   "cell_type": "code",
   "execution_count": 48,
   "id": "1cec44b7",
   "metadata": {},
   "outputs": [],
   "source": [
    "monthprice_with_subs = gendata_agg.query('subscription_type == \"ultra\"')['total_monthprice']\n",
    "monthprice_without_subs = gendata_agg.query('subscription_type != \"ultra\"')['total_monthprice']"
   ]
  },
  {
   "cell_type": "code",
   "execution_count": 49,
   "id": "e2ac3360",
   "metadata": {
    "scrolled": true
   },
   "outputs": [
    {
     "name": "stdout",
     "output_type": "stream",
     "text": [
      "p-значение 8.874140893976874e-40\n",
      "отвергаем нулевую гипотезу (о том, что пользователи с подпиской и без в месяц тратят на поездки одинаково), \n",
      "есть основания полагать, что пользователи с подпиской в месяц тратят больше на поездки\n"
     ]
    }
   ],
   "source": [
    "# задаю уровень статистической значимости alpha\n",
    "alpha = 0.05 \n",
    "# equal_var указал как False, так как размеры выборок с подпиской и без различны в два раза\n",
    "# и судя по гистограммам дисперсии отличны\n",
    "results = st.ttest_ind(monthprice_with_subs, monthprice_without_subs, equal_var=False, alternative='greater')\n",
    "\n",
    "print('p-значение', results.pvalue)\n",
    "\n",
    "if results.pvalue < alpha:\n",
    "    print('отвергаем нулевую гипотезу (о том, что пользователи с подпиской и без в месяц тратят на поездки одинаково),',\n",
    "         '\\nесть основания полагать, что пользователи с подпиской в месяц тратят больше на поездки')\n",
    "else:\n",
    "    print('не получилось отвергнуть нулевую гипотезу')\n"
   ]
  },
  {
   "cell_type": "markdown",
   "id": "1a76e745",
   "metadata": {},
   "source": [
    "Выручка сервиса от пользователей с подпиской выше, чем от пользователей без подписки"
   ]
  },
  {
   "cell_type": "markdown",
   "id": "90760763",
   "metadata": {},
   "source": [
    "#### Шаг 7. Распределения"
   ]
  },
  {
   "cell_type": "markdown",
   "id": "d2590a11",
   "metadata": {},
   "source": [
    "#### Задача 1  \n",
    "Отделу маркетинга GoFast поставили задачу: нужно провести акцию с раздачей промокодов на один бесплатный месяц подписки, в рамках которой как минимум 100 существующих клиентов должны продлить эту подписку. То есть по завершении периода действия подписки пользователь может либо отказаться от неё, либо продлить, совершив соответствующий платёж.  \n",
    "Эта акция уже проводилась ранее и по итогу выяснилось, что после бесплатного пробного периода подписку продлевают 10 % пользователей. Выясните, какое минимальное количество промокодов нужно разослать, чтобы вероятность не выполнить план была примерно 5 %.  \n",
    "Подберите параметры распределения, описывающего эту ситуацию, постройте график распределения и сформулируйте ответ на вопрос о количестве промокодов."
   ]
  },
  {
   "cell_type": "code",
   "execution_count": 50,
   "id": "8e4b23b1",
   "metadata": {},
   "outputs": [
    {
     "data": {
      "image/png": "[encoded data removed]",
      "text/plain": [
       "<Figure size 640x480 with 1 Axes>"
      ]
     },
     "metadata": {},
     "output_type": "display_data"
    }
   ],
   "source": [
    "# Для такой задачи выбираю биномиальное распределение\n",
    "# т.к. у биномиального распеределения есть только два исхода\n",
    "# в  нашем случае или продлили подписку или нет\n",
    "\n",
    "n = 1000\n",
    "p = 0.1\n",
    "\n",
    "distr = []\n",
    "\n",
    "for k in range(0, n+1):\n",
    "    choose = factorial(n) / (factorial(k) * factorial(n-k))\n",
    "    freq = choose * p**k * (1-p)**(n-k)\n",
    "    distr.append(freq)\n",
    "    \n",
    "plt.bar(range(0, n+1), distr);\n"
   ]
  },
  {
   "cell_type": "markdown",
   "id": "eb39ccaf",
   "metadata": {},
   "source": [
    "Построил график распределения удачных исходов (продления подписки) при раздаче бесплатных подписок 1000 человек, при n = 1000 наиболее вероятное количество удачных исходов = 100"
   ]
  },
  {
   "cell_type": "code",
   "execution_count": 51,
   "id": "d84d4716",
   "metadata": {},
   "outputs": [
    {
     "data": {
      "text/plain": [
       "0.5"
      ]
     },
     "execution_count": 51,
     "metadata": {},
     "output_type": "execute_result"
    }
   ],
   "source": [
    "n = 1000\n",
    "p = 0.1\n",
    "# далее считаю математическое ожидание и стандартное отклонение \n",
    "mu = n * p \n",
    "sigma = sqrt(n * p * (1-p))\n",
    "\n",
    "distr = st.norm(mu, sigma)\n",
    "aint = 100\n",
    "\n",
    "result = 1 - distr.cdf(aint)\n",
    "result"
   ]
  },
  {
   "cell_type": "markdown",
   "id": "ae164794",
   "metadata": {},
   "source": [
    "Получили, что с вероятностью в 50% мы сможем выполнить план, изменим количество n так, чтобы вероятность была близка к 95%"
   ]
  },
  {
   "cell_type": "code",
   "execution_count": 52,
   "id": "344046ee",
   "metadata": {},
   "outputs": [
    {
     "data": {
      "text/plain": [
       "0.9512064034722397"
      ]
     },
     "execution_count": 52,
     "metadata": {},
     "output_type": "execute_result"
    }
   ],
   "source": [
    "n = 1170\n",
    "p = 0.1\n",
    "\n",
    "mu = n * p \n",
    "sigma = sqrt(n * p * (1-p))\n",
    "\n",
    "distr = st.norm(mu, sigma)\n",
    "aint = 100\n",
    "\n",
    "result = 1 - distr.cdf(aint)\n",
    "result"
   ]
  },
  {
   "cell_type": "markdown",
   "id": "9458ff0d",
   "metadata": {},
   "source": [
    "Получили нужный ответ, при 1170 раз использования промокодов на бесплатный месяц подписки, вероятность того, что менее 100 клиентов продляч подписку платно является около 5%"
   ]
  },
  {
   "cell_type": "markdown",
   "id": "f17e86d5",
   "metadata": {},
   "source": [
    "#### Задача 2  \n",
    "Отдел маркетинга рассылает клиентам push-уведомления в мобильном приложении.  \n",
    "Клиенты могут открыть его или не открывать. Известно, что уведомления открывают около 40 % получивших клиентов.\n",
    "Отдел планирует разослать 1 млн уведомлений. \n",
    "С помощью аппроксимации постройте примерный график распределения\n",
    "и оцените вероятность того, что уведомление откроют не более 399,5 тыс. пользователей."
   ]
  },
  {
   "cell_type": "code",
   "execution_count": 53,
   "id": "62c13e21",
   "metadata": {},
   "outputs": [
    {
     "data": {
      "image/png": "[encoded data removed]",
      "text/plain": [
       "<Figure size 640x480 with 1 Axes>"
      ]
     },
     "metadata": {},
     "output_type": "display_data"
    }
   ],
   "source": [
    "# Для такой задачи выбираю биномиальное распределение\n",
    "# т.к. у биномиального распеределения есть только два исхода\n",
    "# в  нашем случае или уведомление или нет\n",
    "\n",
    "\n",
    "\n",
    " \n",
    "# зададим функцию, которая выдаёт <num> чисел,\n",
    "# равномерно распределённых от <start> до <stop>\n",
    "# (понадобится для визуализации нормального распределения)\n",
    "def linspace(start, stop, num):\n",
    "    step = (stop - start) / (num - 1)\n",
    "    result = []\n",
    "    for i in range(num):\n",
    "        result.append(start + step * i)\n",
    "    return result\n",
    " \n",
    "# задаём параметры биномиального распределения\n",
    "n = 10**6\n",
    "p = 0.4\n",
    "\n",
    "# границы промежутка, в котором будем строить аппроксимацию -\n",
    "# от n*p минус 4 ст.отклонения бином.распределения\n",
    "# до n*p плюс 4 ст.отклонения бином.распределения\n",
    "# (там, где вероятности значений почти не равны нулю)\n",
    "left = int(n * p - 4 * sqrt(n * p * (1 - p)))\n",
    "right = int(n * p + 4 * sqrt(n * p * (1 - p)))\n",
    " \n",
    "# зададим набор значений биномиальной величины на выбранном промежутке:\n",
    "# все неотрицательные целые числа от left до right\n",
    "x = list(range(max(0, left), right))\n",
    "# рисуем график биномиального распределения\n",
    "ax = plt.subplot()\n",
    "# используем синие о-образные маркеры и размер маркера 5\n",
    "ax.plot(x, binom.pmf(x, n, p), 'bo', ms=5,\n",
    "\t      label='вероятности биномиального распределения')\n",
    "\n",
    "# зададим мат.ожидание и ст.отклонение нормального распределения равными\n",
    "# мат.ожиданию и ст.отклонению биномиального распределения\n",
    "mu = n * p\n",
    "sigma = sqrt(n * p * (1 - p))\n",
    " \n",
    "# рисуем график нормального распределения:\n",
    "# получим список из 100 чисел от left до right\n",
    "x = linspace(left, right, 100)\n",
    "# используем красную линию ширины 3 и прозрачности 0.3\n",
    "ax.plot(x, norm.pdf(x, mu, sigma), 'r-', lw=3, alpha=0.3, label='плотность вероятности нормального распределения')\n",
    " \n",
    "# зададим подписи по оси x в пределах ± 3 ст.отклонений от мат.ожидания\n",
    "# (последний аргумент в методе range - интервал между подписями)\n",
    "x_ticks = list(range(int(mu - 3 * sigma), int(mu + 3 * sigma), 1))\n",
    "ax.set_xticks(x_ticks)\n",
    "\n",
    "# настраиваем оптимальное расположение легенды и выводим график\n",
    "ax.legend(loc='best')\n",
    "plt.show()\n",
    "\n"
   ]
  },
  {
   "cell_type": "markdown",
   "id": "9e1f0f60",
   "metadata": {},
   "source": [
    "**На самом деле не полностью разобрался в этом вопросе,НО нашел в теории разбор такойже задачи и подставил в код из теории данные нашей задачи, чтобы построить распределение**"
   ]
  },
  {
   "cell_type": "code",
   "execution_count": 54,
   "id": "b5449d62",
   "metadata": {},
   "outputs": [
    {
     "data": {
      "text/plain": [
       "0.15371708296369768"
      ]
     },
     "execution_count": 54,
     "metadata": {},
     "output_type": "execute_result"
    }
   ],
   "source": [
    "n = 10**6\n",
    "p = 0.4\n",
    "\n",
    "mu = n * p \n",
    "sigma = sqrt(n * p * (1-p))\n",
    "\n",
    "distr = st.norm(mu, sigma)\n",
    "aint = 399.5 * 10**3\n",
    "\n",
    "result = distr.cdf(aint)\n",
    "result"
   ]
  },
  {
   "cell_type": "markdown",
   "id": "1e211ecd",
   "metadata": {},
   "source": [
    "С помощью метода .cdf оценил вероятность того, что удачных исходов (откроют уведомление) биномиального эксперимента будет не более 399.5 тыс. раз. Вероятность составляет около 15 процентов "
   ]
  },
  {
   "cell_type": "markdown",
   "id": "8b822560",
   "metadata": {},
   "source": [
    "# Общий вывод  \n",
    "Провел аналитику выборок данных с информацией о пользователях, о поездках и о наличии подписок популярного сервиса аренды самокатов GoFast.  \n",
    "* Посмотрел общую информацию о хранящихся данных в нескольких наборах данных, проверил наличие пропусков и явных дубликатов в данных.  \n",
    "* Выполнил предобработку данных, столбец с информациией о дате размещения обявления перевел в формат дат и добавил столбец с номером месяца.  \n",
    "* Исследовал пропуски в данных - пропуски в столбце с информацией о балконах были заменены на 0.  \n",
    "* Построил гистограммы по основным характеристикам (информацию о городе, о наличии полписки, возрасте пользователей, расстоянии и продолжительности поездок).\n",
    "* В исследуемых данных больше всего пользователей было из Пятигорска - 219, меньше всего из Москвы - 168, вцелом данные количества пользователей по городам различаются не сильно. Количество пользователей с платной подпиской на сервис и без отличается тоже не координально, но разница естьЮ без подписки 835 (54.4 %) пользователей, с подпиской 699 (45.6 %) пользователей. \n",
    "* Сравнил длительность и дальность поездок пользователей с подпиской и без нее, в данных получились похожие распределения близкие к нормальным распределениям, значения с подпиской практически по всем наблюденим выше, но не значительно, до 10 %.\n",
    "\n",
    "\n",
    "* Добавил столбец с данными о выручке по каждому пользователю. \n",
    "* Провел статистические ttest о влиянии подписки на сервис на длительность, дальность поездок, а также на выручку компании от пользователя с подпиской или без.\n",
    "\n",
    "### Резюмируя, хочу подчеркнуть, что для компании пользователи с подпиской значительно более выгодны и ценны:\n",
    "#### - !пользователи с подпиской надежнее \"привязаны к сервису\" и будут давть более стабильный и длительный доход для компании\n",
    "#### - пользователи с подпиской приносят бОльшую средне месячную выручку сервису\n",
    "#### - чаще всего они не превышают номинально комфортную длительность поездки для самоката\n",
    "\n",
    "\n"
   ]
  }
 ],
 "metadata": {
  "ExecuteTimeLog": [
   {
    "duration": 1867,
    "start_time": "2024-05-17T15:05:09.672Z"
   },
   {
    "duration": 0,
    "start_time": "2024-05-17T15:05:11.542Z"
   },
   {
    "duration": 0,
    "start_time": "2024-05-17T15:05:11.543Z"
   },
   {
    "duration": 0,
    "start_time": "2024-05-17T15:05:11.545Z"
   },
   {
    "duration": 0,
    "start_time": "2024-05-17T15:05:11.546Z"
   },
   {
    "duration": 0,
    "start_time": "2024-05-17T15:05:11.547Z"
   },
   {
    "duration": 0,
    "start_time": "2024-05-17T15:05:11.548Z"
   },
   {
    "duration": 0,
    "start_time": "2024-05-17T15:05:11.549Z"
   },
   {
    "duration": 0,
    "start_time": "2024-05-17T15:05:11.550Z"
   },
   {
    "duration": 0,
    "start_time": "2024-05-17T15:05:11.551Z"
   },
   {
    "duration": 0,
    "start_time": "2024-05-17T15:05:11.552Z"
   },
   {
    "duration": 0,
    "start_time": "2024-05-17T15:05:11.553Z"
   },
   {
    "duration": 0,
    "start_time": "2024-05-17T15:05:11.554Z"
   },
   {
    "duration": 0,
    "start_time": "2024-05-17T15:05:11.555Z"
   },
   {
    "duration": 0,
    "start_time": "2024-05-17T15:05:11.557Z"
   },
   {
    "duration": 0,
    "start_time": "2024-05-17T15:05:11.558Z"
   },
   {
    "duration": 0,
    "start_time": "2024-05-17T15:05:11.559Z"
   },
   {
    "duration": 0,
    "start_time": "2024-05-17T15:05:11.560Z"
   },
   {
    "duration": 0,
    "start_time": "2024-05-17T15:05:11.561Z"
   },
   {
    "duration": 0,
    "start_time": "2024-05-17T15:05:11.562Z"
   },
   {
    "duration": 0,
    "start_time": "2024-05-17T15:05:11.563Z"
   },
   {
    "duration": 0,
    "start_time": "2024-05-17T15:05:11.565Z"
   },
   {
    "duration": 0,
    "start_time": "2024-05-17T15:05:11.566Z"
   },
   {
    "duration": 0,
    "start_time": "2024-05-17T15:05:11.567Z"
   },
   {
    "duration": 0,
    "start_time": "2024-05-17T15:05:11.569Z"
   },
   {
    "duration": 0,
    "start_time": "2024-05-17T15:05:11.570Z"
   },
   {
    "duration": 0,
    "start_time": "2024-05-17T15:05:11.571Z"
   },
   {
    "duration": 1,
    "start_time": "2024-05-17T15:05:11.572Z"
   },
   {
    "duration": 0,
    "start_time": "2024-05-17T15:05:11.574Z"
   },
   {
    "duration": 0,
    "start_time": "2024-05-17T15:05:11.575Z"
   },
   {
    "duration": 0,
    "start_time": "2024-05-17T15:05:11.629Z"
   },
   {
    "duration": 0,
    "start_time": "2024-05-17T15:05:11.630Z"
   },
   {
    "duration": 0,
    "start_time": "2024-05-17T15:05:11.631Z"
   },
   {
    "duration": 0,
    "start_time": "2024-05-17T15:05:11.633Z"
   },
   {
    "duration": 0,
    "start_time": "2024-05-17T15:05:11.634Z"
   },
   {
    "duration": 0,
    "start_time": "2024-05-17T15:05:11.635Z"
   },
   {
    "duration": 1405,
    "start_time": "2024-05-17T15:08:29.470Z"
   },
   {
    "duration": 17,
    "start_time": "2024-05-17T15:08:30.877Z"
   },
   {
    "duration": 118,
    "start_time": "2024-05-17T15:08:30.896Z"
   },
   {
    "duration": 199,
    "start_time": "2024-05-17T15:08:31.017Z"
   },
   {
    "duration": 212,
    "start_time": "2024-05-17T15:08:31.219Z"
   },
   {
    "duration": 145,
    "start_time": "2024-05-17T15:08:31.433Z"
   },
   {
    "duration": 140,
    "start_time": "2024-05-17T15:08:31.580Z"
   },
   {
    "duration": 126,
    "start_time": "2024-05-17T15:08:31.723Z"
   },
   {
    "duration": 134,
    "start_time": "2024-05-17T15:08:31.851Z"
   },
   {
    "duration": 98,
    "start_time": "2024-05-17T15:08:31.987Z"
   },
   {
    "duration": 43,
    "start_time": "2024-05-17T15:08:32.086Z"
   },
   {
    "duration": 34,
    "start_time": "2024-05-17T15:08:32.130Z"
   },
   {
    "duration": 313,
    "start_time": "2024-05-17T15:08:32.166Z"
   },
   {
    "duration": 340,
    "start_time": "2024-05-17T15:08:32.482Z"
   },
   {
    "duration": 264,
    "start_time": "2024-05-17T15:08:32.824Z"
   },
   {
    "duration": 419,
    "start_time": "2024-05-17T15:08:33.090Z"
   },
   {
    "duration": 416,
    "start_time": "2024-05-17T15:08:33.510Z"
   },
   {
    "duration": 26,
    "start_time": "2024-05-17T15:08:33.929Z"
   },
   {
    "duration": 43,
    "start_time": "2024-05-17T15:08:33.957Z"
   },
   {
    "duration": 38,
    "start_time": "2024-05-17T15:08:34.003Z"
   },
   {
    "duration": 510,
    "start_time": "2024-05-17T15:08:34.043Z"
   },
   {
    "duration": 443,
    "start_time": "2024-05-17T15:08:34.555Z"
   },
   {
    "duration": 406,
    "start_time": "2024-05-17T15:08:35.000Z"
   },
   {
    "duration": 540,
    "start_time": "2024-05-17T15:08:35.408Z"
   },
   {
    "duration": 22,
    "start_time": "2024-05-17T15:08:35.950Z"
   },
   {
    "duration": 21,
    "start_time": "2024-05-17T15:08:35.974Z"
   },
   {
    "duration": 29,
    "start_time": "2024-05-17T15:08:35.996Z"
   },
   {
    "duration": 270,
    "start_time": "2024-05-17T15:08:36.029Z"
   },
   {
    "duration": 30,
    "start_time": "2024-05-17T15:08:36.300Z"
   },
   {
    "duration": 18,
    "start_time": "2024-05-17T15:08:36.331Z"
   },
   {
    "duration": 18,
    "start_time": "2024-05-17T15:08:36.351Z"
   },
   {
    "duration": 15,
    "start_time": "2024-05-17T15:08:36.371Z"
   },
   {
    "duration": 14,
    "start_time": "2024-05-17T15:08:36.388Z"
   },
   {
    "duration": 25,
    "start_time": "2024-05-17T15:08:36.404Z"
   },
   {
    "duration": 8,
    "start_time": "2024-05-17T15:08:36.431Z"
   },
   {
    "duration": 6,
    "start_time": "2024-05-17T15:08:36.440Z"
   },
   {
    "duration": 1627,
    "start_time": "2024-05-19T12:15:47.771Z"
   },
   {
    "duration": 17,
    "start_time": "2024-05-19T12:15:49.400Z"
   },
   {
    "duration": 12,
    "start_time": "2024-05-19T12:15:49.419Z"
   },
   {
    "duration": 13,
    "start_time": "2024-05-19T12:15:49.433Z"
   },
   {
    "duration": 8,
    "start_time": "2024-05-19T12:15:49.448Z"
   },
   {
    "duration": 16,
    "start_time": "2024-05-19T12:15:49.458Z"
   },
   {
    "duration": 5,
    "start_time": "2024-05-19T12:15:49.476Z"
   },
   {
    "duration": 23,
    "start_time": "2024-05-19T12:15:49.483Z"
   },
   {
    "duration": 13,
    "start_time": "2024-05-19T12:15:49.507Z"
   },
   {
    "duration": 66,
    "start_time": "2024-05-19T12:15:49.523Z"
   },
   {
    "duration": 5,
    "start_time": "2024-05-19T12:15:49.591Z"
   },
   {
    "duration": 4,
    "start_time": "2024-05-19T12:15:49.598Z"
   },
   {
    "duration": 179,
    "start_time": "2024-05-19T12:15:49.603Z"
   },
   {
    "duration": 111,
    "start_time": "2024-05-19T12:15:49.784Z"
   },
   {
    "duration": 188,
    "start_time": "2024-05-19T12:15:49.896Z"
   },
   {
    "duration": 439,
    "start_time": "2024-05-19T12:15:50.086Z"
   },
   {
    "duration": 390,
    "start_time": "2024-05-19T12:15:50.527Z"
   },
   {
    "duration": 25,
    "start_time": "2024-05-19T12:15:50.920Z"
   },
   {
    "duration": 42,
    "start_time": "2024-05-19T12:15:50.947Z"
   },
   {
    "duration": 16,
    "start_time": "2024-05-19T12:15:50.991Z"
   },
   {
    "duration": 493,
    "start_time": "2024-05-19T12:15:51.008Z"
   },
   {
    "duration": 400,
    "start_time": "2024-05-19T12:15:51.503Z"
   },
   {
    "duration": 413,
    "start_time": "2024-05-19T12:15:51.905Z"
   },
   {
    "duration": 474,
    "start_time": "2024-05-19T12:15:52.319Z"
   },
   {
    "duration": 19,
    "start_time": "2024-05-19T12:15:52.795Z"
   },
   {
    "duration": 3,
    "start_time": "2024-05-19T12:15:52.816Z"
   },
   {
    "duration": 20,
    "start_time": "2024-05-19T12:15:52.820Z"
   },
   {
    "duration": 221,
    "start_time": "2024-05-19T12:15:52.858Z"
   },
   {
    "duration": 22,
    "start_time": "2024-05-19T12:15:53.081Z"
   },
   {
    "duration": 15,
    "start_time": "2024-05-19T12:15:53.105Z"
   },
   {
    "duration": 8,
    "start_time": "2024-05-19T12:15:53.122Z"
   },
   {
    "duration": 33,
    "start_time": "2024-05-19T12:15:53.132Z"
   },
   {
    "duration": 11,
    "start_time": "2024-05-19T12:15:53.167Z"
   },
   {
    "duration": 27,
    "start_time": "2024-05-19T12:15:53.181Z"
   },
   {
    "duration": 6,
    "start_time": "2024-05-19T12:15:53.210Z"
   },
   {
    "duration": 3,
    "start_time": "2024-05-19T12:15:53.218Z"
   },
   {
    "duration": 1377,
    "start_time": "2024-05-19T12:30:47.147Z"
   },
   {
    "duration": 16,
    "start_time": "2024-05-19T12:30:48.526Z"
   },
   {
    "duration": 13,
    "start_time": "2024-05-19T12:30:48.544Z"
   },
   {
    "duration": 19,
    "start_time": "2024-05-19T12:30:48.558Z"
   },
   {
    "duration": 22,
    "start_time": "2024-05-19T12:30:48.579Z"
   },
   {
    "duration": 10,
    "start_time": "2024-05-19T12:30:48.603Z"
   },
   {
    "duration": 5,
    "start_time": "2024-05-19T12:30:48.615Z"
   },
   {
    "duration": 24,
    "start_time": "2024-05-19T12:30:48.621Z"
   },
   {
    "duration": 11,
    "start_time": "2024-05-19T12:30:48.646Z"
   },
   {
    "duration": 14,
    "start_time": "2024-05-19T12:30:48.659Z"
   },
   {
    "duration": 134,
    "start_time": "2024-05-19T12:30:48.675Z"
   },
   {
    "duration": 10,
    "start_time": "2024-05-19T12:30:48.811Z"
   },
   {
    "duration": 191,
    "start_time": "2024-05-19T12:30:48.822Z"
   },
   {
    "duration": 124,
    "start_time": "2024-05-19T12:30:49.016Z"
   },
   {
    "duration": 234,
    "start_time": "2024-05-19T12:30:49.141Z"
   },
   {
    "duration": 435,
    "start_time": "2024-05-19T12:30:49.377Z"
   },
   {
    "duration": 424,
    "start_time": "2024-05-19T12:30:49.814Z"
   },
   {
    "duration": 35,
    "start_time": "2024-05-19T12:30:50.239Z"
   },
   {
    "duration": 34,
    "start_time": "2024-05-19T12:30:50.276Z"
   },
   {
    "duration": 17,
    "start_time": "2024-05-19T12:30:50.312Z"
   },
   {
    "duration": 546,
    "start_time": "2024-05-19T12:30:50.330Z"
   },
   {
    "duration": 419,
    "start_time": "2024-05-19T12:30:50.878Z"
   },
   {
    "duration": 399,
    "start_time": "2024-05-19T12:30:51.298Z"
   },
   {
    "duration": 529,
    "start_time": "2024-05-19T12:30:51.699Z"
   },
   {
    "duration": 23,
    "start_time": "2024-05-19T12:30:52.230Z"
   },
   {
    "duration": 4,
    "start_time": "2024-05-19T12:30:52.254Z"
   },
   {
    "duration": 29,
    "start_time": "2024-05-19T12:30:52.273Z"
   },
   {
    "duration": 295,
    "start_time": "2024-05-19T12:30:52.303Z"
   },
   {
    "duration": 24,
    "start_time": "2024-05-19T12:30:52.599Z"
   },
   {
    "duration": 9,
    "start_time": "2024-05-19T12:30:52.625Z"
   },
   {
    "duration": 5,
    "start_time": "2024-05-19T12:30:52.636Z"
   },
   {
    "duration": 98,
    "start_time": "2024-05-19T12:30:52.643Z"
   },
   {
    "duration": 129,
    "start_time": "2024-05-19T12:30:52.742Z"
   },
   {
    "duration": 32,
    "start_time": "2024-05-19T12:30:52.873Z"
   },
   {
    "duration": 11,
    "start_time": "2024-05-19T12:30:52.907Z"
   },
   {
    "duration": 6,
    "start_time": "2024-05-19T12:30:52.920Z"
   },
   {
    "duration": 176,
    "start_time": "2024-05-19T13:10:12.595Z"
   },
   {
    "duration": 120,
    "start_time": "2024-05-19T13:20:38.042Z"
   },
   {
    "duration": 14,
    "start_time": "2024-05-19T14:41:10.236Z"
   },
   {
    "duration": 17,
    "start_time": "2024-05-19T14:41:52.040Z"
   },
   {
    "duration": 14,
    "start_time": "2024-05-19T14:42:35.114Z"
   },
   {
    "duration": 21,
    "start_time": "2024-05-19T15:00:33.863Z"
   },
   {
    "duration": 10,
    "start_time": "2024-05-19T15:01:58.161Z"
   },
   {
    "duration": 8,
    "start_time": "2024-05-19T15:02:11.257Z"
   },
   {
    "duration": 9,
    "start_time": "2024-05-19T15:04:20.280Z"
   },
   {
    "duration": 10,
    "start_time": "2024-05-19T15:05:21.425Z"
   },
   {
    "duration": 9,
    "start_time": "2024-05-19T15:05:26.289Z"
   },
   {
    "duration": 7,
    "start_time": "2024-05-19T15:08:47.385Z"
   },
   {
    "duration": 1500,
    "start_time": "2024-05-19T15:10:22.559Z"
   },
   {
    "duration": 17,
    "start_time": "2024-05-19T15:10:24.061Z"
   },
   {
    "duration": 40,
    "start_time": "2024-05-19T15:10:24.081Z"
   },
   {
    "duration": 92,
    "start_time": "2024-05-19T15:10:24.124Z"
   },
   {
    "duration": 13,
    "start_time": "2024-05-19T15:10:24.218Z"
   },
   {
    "duration": 33,
    "start_time": "2024-05-19T15:10:24.233Z"
   },
   {
    "duration": 12,
    "start_time": "2024-05-19T15:10:24.268Z"
   },
   {
    "duration": 38,
    "start_time": "2024-05-19T15:10:24.282Z"
   },
   {
    "duration": 15,
    "start_time": "2024-05-19T15:10:24.322Z"
   },
   {
    "duration": 6,
    "start_time": "2024-05-19T15:10:24.339Z"
   },
   {
    "duration": 14,
    "start_time": "2024-05-19T15:10:24.347Z"
   },
   {
    "duration": 11,
    "start_time": "2024-05-19T15:10:24.363Z"
   },
   {
    "duration": 220,
    "start_time": "2024-05-19T15:10:24.375Z"
   },
   {
    "duration": 123,
    "start_time": "2024-05-19T15:10:24.597Z"
   },
   {
    "duration": 201,
    "start_time": "2024-05-19T15:10:24.722Z"
   },
   {
    "duration": 413,
    "start_time": "2024-05-19T15:10:24.925Z"
   },
   {
    "duration": 414,
    "start_time": "2024-05-19T15:10:25.340Z"
   },
   {
    "duration": 35,
    "start_time": "2024-05-19T15:10:25.756Z"
   },
   {
    "duration": 51,
    "start_time": "2024-05-19T15:10:25.793Z"
   },
   {
    "duration": 74,
    "start_time": "2024-05-19T15:10:25.846Z"
   },
   {
    "duration": 513,
    "start_time": "2024-05-19T15:10:25.922Z"
   },
   {
    "duration": 411,
    "start_time": "2024-05-19T15:10:26.437Z"
   },
   {
    "duration": 411,
    "start_time": "2024-05-19T15:10:26.850Z"
   },
   {
    "duration": 529,
    "start_time": "2024-05-19T15:10:27.263Z"
   },
   {
    "duration": 23,
    "start_time": "2024-05-19T15:10:27.793Z"
   },
   {
    "duration": 4,
    "start_time": "2024-05-19T15:10:27.818Z"
   },
   {
    "duration": 98,
    "start_time": "2024-05-19T15:10:27.824Z"
   },
   {
    "duration": 237,
    "start_time": "2024-05-19T15:10:27.925Z"
   },
   {
    "duration": 26,
    "start_time": "2024-05-19T15:10:28.164Z"
   },
   {
    "duration": 37,
    "start_time": "2024-05-19T15:10:28.192Z"
   },
   {
    "duration": 30,
    "start_time": "2024-05-19T15:10:28.231Z"
   },
   {
    "duration": 32,
    "start_time": "2024-05-19T15:10:28.263Z"
   },
   {
    "duration": 6,
    "start_time": "2024-05-19T15:10:28.297Z"
   },
   {
    "duration": 10,
    "start_time": "2024-05-19T15:10:28.305Z"
   },
   {
    "duration": 18,
    "start_time": "2024-05-19T15:10:28.317Z"
   },
   {
    "duration": 10,
    "start_time": "2024-05-19T15:10:28.337Z"
   },
   {
    "duration": 1380,
    "start_time": "2024-05-19T15:11:32.377Z"
   },
   {
    "duration": 17,
    "start_time": "2024-05-19T15:11:33.760Z"
   },
   {
    "duration": 30,
    "start_time": "2024-05-19T15:11:33.779Z"
   },
   {
    "duration": 62,
    "start_time": "2024-05-19T15:11:33.811Z"
   },
   {
    "duration": 24,
    "start_time": "2024-05-19T15:11:33.875Z"
   },
   {
    "duration": 11,
    "start_time": "2024-05-19T15:11:33.902Z"
   },
   {
    "duration": 6,
    "start_time": "2024-05-19T15:11:33.915Z"
   },
   {
    "duration": 19,
    "start_time": "2024-05-19T15:11:33.923Z"
   },
   {
    "duration": 19,
    "start_time": "2024-05-19T15:11:33.943Z"
   },
   {
    "duration": 12,
    "start_time": "2024-05-19T15:11:33.964Z"
   },
   {
    "duration": 60,
    "start_time": "2024-05-19T15:11:33.978Z"
   },
   {
    "duration": 63,
    "start_time": "2024-05-19T15:11:34.039Z"
   },
   {
    "duration": 250,
    "start_time": "2024-05-19T15:11:34.104Z"
   },
   {
    "duration": 123,
    "start_time": "2024-05-19T15:11:34.357Z"
   },
   {
    "duration": 205,
    "start_time": "2024-05-19T15:11:34.481Z"
   },
   {
    "duration": 425,
    "start_time": "2024-05-19T15:11:34.688Z"
   },
   {
    "duration": 423,
    "start_time": "2024-05-19T15:11:35.115Z"
   },
   {
    "duration": 53,
    "start_time": "2024-05-19T15:11:35.540Z"
   },
   {
    "duration": 68,
    "start_time": "2024-05-19T15:11:35.595Z"
   },
   {
    "duration": 28,
    "start_time": "2024-05-19T15:11:35.665Z"
   },
   {
    "duration": 515,
    "start_time": "2024-05-19T15:11:35.694Z"
   },
   {
    "duration": 441,
    "start_time": "2024-05-19T15:11:36.210Z"
   },
   {
    "duration": 420,
    "start_time": "2024-05-19T15:11:36.653Z"
   },
   {
    "duration": 531,
    "start_time": "2024-05-19T15:11:37.075Z"
   },
   {
    "duration": 21,
    "start_time": "2024-05-19T15:11:37.608Z"
   },
   {
    "duration": 7,
    "start_time": "2024-05-19T15:11:37.631Z"
   },
   {
    "duration": 35,
    "start_time": "2024-05-19T15:11:37.640Z"
   },
   {
    "duration": 246,
    "start_time": "2024-05-19T15:11:37.676Z"
   },
   {
    "duration": 23,
    "start_time": "2024-05-19T15:11:37.923Z"
   },
   {
    "duration": 51,
    "start_time": "2024-05-19T15:11:37.947Z"
   },
   {
    "duration": 8,
    "start_time": "2024-05-19T15:11:38.000Z"
   },
   {
    "duration": 69,
    "start_time": "2024-05-19T15:11:38.010Z"
   },
   {
    "duration": 89,
    "start_time": "2024-05-19T15:11:38.081Z"
   },
   {
    "duration": 68,
    "start_time": "2024-05-19T15:11:38.172Z"
   },
   {
    "duration": 15,
    "start_time": "2024-05-19T15:11:38.242Z"
   },
   {
    "duration": 16,
    "start_time": "2024-05-19T15:11:38.259Z"
   },
   {
    "duration": 1383,
    "start_time": "2024-05-19T15:12:42.652Z"
   },
   {
    "duration": 16,
    "start_time": "2024-05-19T15:12:44.037Z"
   },
   {
    "duration": 45,
    "start_time": "2024-05-19T15:12:44.058Z"
   },
   {
    "duration": 16,
    "start_time": "2024-05-19T15:12:44.105Z"
   },
   {
    "duration": 72,
    "start_time": "2024-05-19T15:12:44.123Z"
   },
   {
    "duration": 15,
    "start_time": "2024-05-19T15:12:44.198Z"
   },
   {
    "duration": 7,
    "start_time": "2024-05-19T15:12:44.215Z"
   },
   {
    "duration": 16,
    "start_time": "2024-05-19T15:12:44.224Z"
   },
   {
    "duration": 10,
    "start_time": "2024-05-19T15:12:44.244Z"
   },
   {
    "duration": 6,
    "start_time": "2024-05-19T15:12:44.256Z"
   },
   {
    "duration": 12,
    "start_time": "2024-05-19T15:12:44.263Z"
   },
   {
    "duration": 11,
    "start_time": "2024-05-19T15:12:44.277Z"
   },
   {
    "duration": 190,
    "start_time": "2024-05-19T15:12:44.290Z"
   },
   {
    "duration": 126,
    "start_time": "2024-05-19T15:12:44.482Z"
   },
   {
    "duration": 200,
    "start_time": "2024-05-19T15:12:44.610Z"
   },
   {
    "duration": 452,
    "start_time": "2024-05-19T15:12:44.813Z"
   },
   {
    "duration": 413,
    "start_time": "2024-05-19T15:12:45.267Z"
   },
   {
    "duration": 24,
    "start_time": "2024-05-19T15:12:45.682Z"
   },
   {
    "duration": 33,
    "start_time": "2024-05-19T15:12:45.707Z"
   },
   {
    "duration": 38,
    "start_time": "2024-05-19T15:12:45.741Z"
   },
   {
    "duration": 495,
    "start_time": "2024-05-19T15:12:45.780Z"
   },
   {
    "duration": 424,
    "start_time": "2024-05-19T15:12:46.277Z"
   },
   {
    "duration": 429,
    "start_time": "2024-05-19T15:12:46.704Z"
   },
   {
    "duration": 515,
    "start_time": "2024-05-19T15:12:47.135Z"
   },
   {
    "duration": 30,
    "start_time": "2024-05-19T15:12:47.652Z"
   },
   {
    "duration": 3,
    "start_time": "2024-05-19T15:12:47.684Z"
   },
   {
    "duration": 26,
    "start_time": "2024-05-19T15:12:47.690Z"
   },
   {
    "duration": 262,
    "start_time": "2024-05-19T15:12:47.717Z"
   },
   {
    "duration": 34,
    "start_time": "2024-05-19T15:12:47.981Z"
   },
   {
    "duration": 99,
    "start_time": "2024-05-19T15:12:48.017Z"
   },
   {
    "duration": 78,
    "start_time": "2024-05-19T15:12:48.117Z"
   },
   {
    "duration": 8,
    "start_time": "2024-05-19T15:12:48.197Z"
   },
   {
    "duration": 7,
    "start_time": "2024-05-19T15:12:48.208Z"
   },
   {
    "duration": 18,
    "start_time": "2024-05-19T15:12:48.218Z"
   },
   {
    "duration": 30,
    "start_time": "2024-05-19T15:12:48.238Z"
   },
   {
    "duration": 16,
    "start_time": "2024-05-19T15:12:48.270Z"
   },
   {
    "duration": 1133,
    "start_time": "2024-05-20T14:11:18.032Z"
   },
   {
    "duration": 186,
    "start_time": "2024-05-20T14:11:19.166Z"
   },
   {
    "duration": 16,
    "start_time": "2024-05-20T14:11:19.353Z"
   },
   {
    "duration": 39,
    "start_time": "2024-05-20T14:11:19.371Z"
   },
   {
    "duration": 35,
    "start_time": "2024-05-20T14:11:19.411Z"
   },
   {
    "duration": 34,
    "start_time": "2024-05-20T14:11:19.447Z"
   },
   {
    "duration": 22,
    "start_time": "2024-05-20T14:11:19.483Z"
   },
   {
    "duration": 30,
    "start_time": "2024-05-20T14:11:19.507Z"
   },
   {
    "duration": 16,
    "start_time": "2024-05-20T14:11:19.539Z"
   },
   {
    "duration": 15,
    "start_time": "2024-05-20T14:11:19.557Z"
   },
   {
    "duration": 29,
    "start_time": "2024-05-20T14:11:19.573Z"
   },
   {
    "duration": 27,
    "start_time": "2024-05-20T14:11:19.603Z"
   },
   {
    "duration": 24,
    "start_time": "2024-05-20T14:11:19.632Z"
   },
   {
    "duration": 102,
    "start_time": "2024-05-20T14:11:19.657Z"
   },
   {
    "duration": 199,
    "start_time": "2024-05-20T14:11:19.760Z"
   },
   {
    "duration": 5,
    "start_time": "2024-05-20T14:11:19.961Z"
   },
   {
    "duration": 135,
    "start_time": "2024-05-20T14:11:19.967Z"
   },
   {
    "duration": 9,
    "start_time": "2024-05-20T14:11:20.104Z"
   },
   {
    "duration": 277,
    "start_time": "2024-05-20T14:11:20.115Z"
   },
   {
    "duration": 8,
    "start_time": "2024-05-20T14:11:20.394Z"
   },
   {
    "duration": 435,
    "start_time": "2024-05-20T14:11:20.403Z"
   },
   {
    "duration": 9,
    "start_time": "2024-05-20T14:11:20.840Z"
   },
   {
    "duration": 463,
    "start_time": "2024-05-20T14:11:20.850Z"
   },
   {
    "duration": 17,
    "start_time": "2024-05-20T14:11:21.315Z"
   },
   {
    "duration": 28,
    "start_time": "2024-05-20T14:11:21.333Z"
   },
   {
    "duration": 26,
    "start_time": "2024-05-20T14:11:21.363Z"
   },
   {
    "duration": 46,
    "start_time": "2024-05-20T14:11:21.390Z"
   },
   {
    "duration": 14,
    "start_time": "2024-05-20T14:11:21.440Z"
   },
   {
    "duration": 16,
    "start_time": "2024-05-20T14:11:21.455Z"
   },
   {
    "duration": 17,
    "start_time": "2024-05-20T14:11:21.472Z"
   },
   {
    "duration": 21,
    "start_time": "2024-05-20T14:11:21.490Z"
   },
   {
    "duration": 20,
    "start_time": "2024-05-20T14:11:21.513Z"
   },
   {
    "duration": 10,
    "start_time": "2024-05-20T14:11:21.534Z"
   },
   {
    "duration": 502,
    "start_time": "2024-05-20T14:11:21.546Z"
   },
   {
    "duration": 24,
    "start_time": "2024-05-20T14:11:22.050Z"
   },
   {
    "duration": 556,
    "start_time": "2024-05-20T14:11:22.078Z"
   },
   {
    "duration": 19,
    "start_time": "2024-05-20T14:11:22.635Z"
   },
   {
    "duration": 38,
    "start_time": "2024-05-20T14:11:22.655Z"
   },
   {
    "duration": 3,
    "start_time": "2024-05-20T14:11:22.695Z"
   },
   {
    "duration": 47,
    "start_time": "2024-05-20T14:11:22.700Z"
   },
   {
    "duration": 30,
    "start_time": "2024-05-20T14:11:22.748Z"
   },
   {
    "duration": 20,
    "start_time": "2024-05-20T14:11:22.779Z"
   },
   {
    "duration": 16,
    "start_time": "2024-05-20T14:11:22.801Z"
   },
   {
    "duration": 9,
    "start_time": "2024-05-20T14:11:22.818Z"
   },
   {
    "duration": 41,
    "start_time": "2024-05-20T14:11:22.829Z"
   },
   {
    "duration": 8,
    "start_time": "2024-05-20T14:11:22.872Z"
   },
   {
    "duration": 17,
    "start_time": "2024-05-20T14:11:22.881Z"
   },
   {
    "duration": 68,
    "start_time": "2024-05-20T14:11:22.900Z"
   },
   {
    "duration": 15,
    "start_time": "2024-05-20T14:11:22.970Z"
   },
   {
    "duration": 1563,
    "start_time": "2024-05-20T14:11:22.986Z"
   },
   {
    "duration": 6,
    "start_time": "2024-05-20T14:11:24.550Z"
   },
   {
    "duration": 17,
    "start_time": "2024-05-20T14:11:24.558Z"
   },
   {
    "duration": 36913,
    "start_time": "2024-05-20T14:11:24.577Z"
   },
   {
    "duration": 7,
    "start_time": "2024-05-20T14:12:01.491Z"
   },
   {
    "duration": 10,
    "start_time": "2024-05-20T15:02:35.124Z"
   },
   {
    "duration": 33,
    "start_time": "2024-05-20T15:04:44.517Z"
   },
   {
    "duration": 124,
    "start_time": "2024-05-20T15:04:47.133Z"
   },
   {
    "duration": 23,
    "start_time": "2024-05-20T15:05:46.221Z"
   },
   {
    "duration": 5,
    "start_time": "2024-05-20T15:05:58.412Z"
   },
   {
    "duration": 21,
    "start_time": "2024-05-20T15:06:00.636Z"
   },
   {
    "duration": 10,
    "start_time": "2024-05-20T15:07:47.158Z"
   },
   {
    "duration": 16,
    "start_time": "2024-05-20T15:07:55.918Z"
   },
   {
    "duration": 59,
    "start_time": "2024-05-20T15:08:13.558Z"
   },
   {
    "duration": 24,
    "start_time": "2024-05-20T15:08:21.638Z"
   },
   {
    "duration": 4,
    "start_time": "2024-05-20T15:08:25.585Z"
   },
   {
    "duration": 67,
    "start_time": "2024-05-20T15:08:39.991Z"
   },
   {
    "duration": 87,
    "start_time": "2024-05-20T15:08:44.599Z"
   },
   {
    "duration": 17,
    "start_time": "2024-05-20T15:09:17.122Z"
   },
   {
    "duration": 9,
    "start_time": "2024-05-20T15:09:32.798Z"
   },
   {
    "duration": 1221,
    "start_time": "2024-05-20T15:21:16.725Z"
   },
   {
    "duration": 358,
    "start_time": "2024-05-20T15:21:17.948Z"
   },
   {
    "duration": 16,
    "start_time": "2024-05-20T15:21:18.308Z"
   },
   {
    "duration": 90,
    "start_time": "2024-05-20T15:21:18.327Z"
   },
   {
    "duration": 30,
    "start_time": "2024-05-20T15:21:18.419Z"
   },
   {
    "duration": 23,
    "start_time": "2024-05-20T15:21:18.450Z"
   },
   {
    "duration": 23,
    "start_time": "2024-05-20T15:21:18.475Z"
   },
   {
    "duration": 22,
    "start_time": "2024-05-20T15:21:18.499Z"
   },
   {
    "duration": 56,
    "start_time": "2024-05-20T15:21:18.523Z"
   },
   {
    "duration": 46,
    "start_time": "2024-05-20T15:21:18.582Z"
   },
   {
    "duration": 11,
    "start_time": "2024-05-20T15:21:18.629Z"
   },
   {
    "duration": 5,
    "start_time": "2024-05-20T15:21:18.642Z"
   },
   {
    "duration": 13,
    "start_time": "2024-05-20T15:21:18.648Z"
   },
   {
    "duration": 15,
    "start_time": "2024-05-20T15:21:18.662Z"
   },
   {
    "duration": 208,
    "start_time": "2024-05-20T15:21:18.679Z"
   },
   {
    "duration": 6,
    "start_time": "2024-05-20T15:21:18.889Z"
   },
   {
    "duration": 95,
    "start_time": "2024-05-20T15:21:18.896Z"
   },
   {
    "duration": 8,
    "start_time": "2024-05-20T15:21:18.992Z"
   },
   {
    "duration": 234,
    "start_time": "2024-05-20T15:21:19.002Z"
   },
   {
    "duration": 9,
    "start_time": "2024-05-20T15:21:19.237Z"
   },
   {
    "duration": 438,
    "start_time": "2024-05-20T15:21:19.247Z"
   },
   {
    "duration": 9,
    "start_time": "2024-05-20T15:21:19.687Z"
   },
   {
    "duration": 525,
    "start_time": "2024-05-20T15:21:19.697Z"
   },
   {
    "duration": 17,
    "start_time": "2024-05-20T15:21:20.223Z"
   },
   {
    "duration": 38,
    "start_time": "2024-05-20T15:21:20.241Z"
   },
   {
    "duration": 130,
    "start_time": "2024-05-20T15:21:20.281Z"
   },
   {
    "duration": 33,
    "start_time": "2024-05-20T15:21:20.413Z"
   },
   {
    "duration": 14,
    "start_time": "2024-05-20T15:21:20.450Z"
   },
   {
    "duration": 33,
    "start_time": "2024-05-20T15:21:20.466Z"
   },
   {
    "duration": 27,
    "start_time": "2024-05-20T15:21:20.501Z"
   },
   {
    "duration": 51,
    "start_time": "2024-05-20T15:21:20.529Z"
   },
   {
    "duration": 61,
    "start_time": "2024-05-20T15:21:20.582Z"
   },
   {
    "duration": 11,
    "start_time": "2024-05-20T15:21:20.645Z"
   },
   {
    "duration": 479,
    "start_time": "2024-05-20T15:21:20.658Z"
   },
   {
    "duration": 15,
    "start_time": "2024-05-20T15:21:21.140Z"
   },
   {
    "duration": 566,
    "start_time": "2024-05-20T15:21:21.158Z"
   },
   {
    "duration": 20,
    "start_time": "2024-05-20T15:21:21.725Z"
   },
   {
    "duration": 42,
    "start_time": "2024-05-20T15:21:21.746Z"
   },
   {
    "duration": 3,
    "start_time": "2024-05-20T15:21:21.790Z"
   },
   {
    "duration": 46,
    "start_time": "2024-05-20T15:21:21.795Z"
   },
   {
    "duration": 17,
    "start_time": "2024-05-20T15:21:21.843Z"
   },
   {
    "duration": 14,
    "start_time": "2024-05-20T15:21:21.874Z"
   },
   {
    "duration": 14,
    "start_time": "2024-05-20T15:21:21.890Z"
   },
   {
    "duration": 18,
    "start_time": "2024-05-20T15:21:21.906Z"
   },
   {
    "duration": 11,
    "start_time": "2024-05-20T15:21:21.926Z"
   },
   {
    "duration": 16,
    "start_time": "2024-05-20T15:21:21.938Z"
   },
   {
    "duration": 107,
    "start_time": "2024-05-20T15:21:21.955Z"
   },
   {
    "duration": 22,
    "start_time": "2024-05-20T15:21:22.063Z"
   },
   {
    "duration": 27,
    "start_time": "2024-05-20T15:21:22.087Z"
   },
   {
    "duration": 1650,
    "start_time": "2024-05-20T15:21:22.116Z"
   },
   {
    "duration": 8,
    "start_time": "2024-05-20T15:21:23.768Z"
   },
   {
    "duration": 35,
    "start_time": "2024-05-20T15:21:23.777Z"
   },
   {
    "duration": 38271,
    "start_time": "2024-05-20T15:21:23.814Z"
   },
   {
    "duration": 9,
    "start_time": "2024-05-20T15:22:02.086Z"
   },
   {
    "duration": 1105,
    "start_time": "2024-05-21T16:31:01.080Z"
   },
   {
    "duration": 318,
    "start_time": "2024-05-21T16:31:02.187Z"
   },
   {
    "duration": 14,
    "start_time": "2024-05-21T16:31:02.509Z"
   },
   {
    "duration": 36,
    "start_time": "2024-05-21T16:31:02.524Z"
   },
   {
    "duration": 49,
    "start_time": "2024-05-21T16:31:02.562Z"
   },
   {
    "duration": 27,
    "start_time": "2024-05-21T16:31:02.613Z"
   },
   {
    "duration": 21,
    "start_time": "2024-05-21T16:31:02.641Z"
   },
   {
    "duration": 36,
    "start_time": "2024-05-21T16:31:02.664Z"
   },
   {
    "duration": 30,
    "start_time": "2024-05-21T16:31:02.703Z"
   },
   {
    "duration": 63,
    "start_time": "2024-05-21T16:31:02.735Z"
   },
   {
    "duration": 25,
    "start_time": "2024-05-21T16:31:02.800Z"
   },
   {
    "duration": 28,
    "start_time": "2024-05-21T16:31:02.827Z"
   },
   {
    "duration": 28,
    "start_time": "2024-05-21T16:31:02.857Z"
   },
   {
    "duration": 38,
    "start_time": "2024-05-21T16:31:02.887Z"
   },
   {
    "duration": 174,
    "start_time": "2024-05-21T16:31:02.926Z"
   },
   {
    "duration": 5,
    "start_time": "2024-05-21T16:31:03.101Z"
   },
   {
    "duration": 96,
    "start_time": "2024-05-21T16:31:03.108Z"
   },
   {
    "duration": 7,
    "start_time": "2024-05-21T16:31:03.206Z"
   },
   {
    "duration": 185,
    "start_time": "2024-05-21T16:31:03.214Z"
   },
   {
    "duration": 8,
    "start_time": "2024-05-21T16:31:03.400Z"
   },
   {
    "duration": 340,
    "start_time": "2024-05-21T16:31:03.409Z"
   },
   {
    "duration": 8,
    "start_time": "2024-05-21T16:31:03.756Z"
   },
   {
    "duration": 428,
    "start_time": "2024-05-21T16:31:03.765Z"
   },
   {
    "duration": 17,
    "start_time": "2024-05-21T16:31:04.195Z"
   },
   {
    "duration": 14,
    "start_time": "2024-05-21T16:31:04.214Z"
   },
   {
    "duration": 30,
    "start_time": "2024-05-21T16:31:04.230Z"
   },
   {
    "duration": 27,
    "start_time": "2024-05-21T16:31:04.264Z"
   },
   {
    "duration": 13,
    "start_time": "2024-05-21T16:31:04.293Z"
   },
   {
    "duration": 19,
    "start_time": "2024-05-21T16:31:04.307Z"
   },
   {
    "duration": 40,
    "start_time": "2024-05-21T16:31:04.328Z"
   },
   {
    "duration": 19,
    "start_time": "2024-05-21T16:31:04.370Z"
   },
   {
    "duration": 18,
    "start_time": "2024-05-21T16:31:04.391Z"
   },
   {
    "duration": 10,
    "start_time": "2024-05-21T16:31:04.411Z"
   },
   {
    "duration": 444,
    "start_time": "2024-05-21T16:31:04.423Z"
   },
   {
    "duration": 11,
    "start_time": "2024-05-21T16:31:04.869Z"
   },
   {
    "duration": 435,
    "start_time": "2024-05-21T16:31:04.881Z"
   },
   {
    "duration": 19,
    "start_time": "2024-05-21T16:31:05.318Z"
   },
   {
    "duration": 30,
    "start_time": "2024-05-21T16:31:05.339Z"
   },
   {
    "duration": 36,
    "start_time": "2024-05-21T16:31:05.371Z"
   },
   {
    "duration": 4,
    "start_time": "2024-05-21T16:31:05.409Z"
   },
   {
    "duration": 202,
    "start_time": "2024-05-21T16:31:05.414Z"
   },
   {
    "duration": 17,
    "start_time": "2024-05-21T16:31:05.617Z"
   },
   {
    "duration": 25,
    "start_time": "2024-05-21T16:31:05.635Z"
   },
   {
    "duration": 9,
    "start_time": "2024-05-21T16:31:05.661Z"
   },
   {
    "duration": 6,
    "start_time": "2024-05-21T16:31:05.672Z"
   },
   {
    "duration": 16,
    "start_time": "2024-05-21T16:31:05.679Z"
   },
   {
    "duration": 10,
    "start_time": "2024-05-21T16:31:05.697Z"
   },
   {
    "duration": 9,
    "start_time": "2024-05-21T16:31:05.709Z"
   },
   {
    "duration": 6,
    "start_time": "2024-05-21T16:31:05.720Z"
   },
   {
    "duration": 6,
    "start_time": "2024-05-21T16:31:05.728Z"
   },
   {
    "duration": 1432,
    "start_time": "2024-05-21T16:31:05.735Z"
   },
   {
    "duration": 5,
    "start_time": "2024-05-21T16:31:07.169Z"
   },
   {
    "duration": 6,
    "start_time": "2024-05-21T16:31:07.176Z"
   },
   {
    "duration": 32391,
    "start_time": "2024-05-21T16:31:07.183Z"
   },
   {
    "duration": 7,
    "start_time": "2024-05-21T16:31:39.576Z"
   },
   {
    "duration": 97,
    "start_time": "2024-05-21T17:37:51.184Z"
   },
   {
    "duration": 8,
    "start_time": "2024-05-21T17:37:55.767Z"
   },
   {
    "duration": 998,
    "start_time": "2024-05-21T17:38:54.003Z"
   },
   {
    "duration": 305,
    "start_time": "2024-05-21T17:38:55.003Z"
   },
   {
    "duration": 20,
    "start_time": "2024-05-21T17:38:55.310Z"
   },
   {
    "duration": 12,
    "start_time": "2024-05-21T17:38:55.331Z"
   },
   {
    "duration": 13,
    "start_time": "2024-05-21T17:38:55.344Z"
   },
   {
    "duration": 8,
    "start_time": "2024-05-21T17:38:55.358Z"
   },
   {
    "duration": 10,
    "start_time": "2024-05-21T17:38:55.367Z"
   },
   {
    "duration": 8,
    "start_time": "2024-05-21T17:38:55.378Z"
   },
   {
    "duration": 4,
    "start_time": "2024-05-21T17:38:55.388Z"
   },
   {
    "duration": 18,
    "start_time": "2024-05-21T17:38:55.395Z"
   },
   {
    "duration": 46,
    "start_time": "2024-05-21T17:38:55.414Z"
   },
   {
    "duration": 6,
    "start_time": "2024-05-21T17:38:55.462Z"
   },
   {
    "duration": 7,
    "start_time": "2024-05-21T17:38:55.469Z"
   },
   {
    "duration": 7,
    "start_time": "2024-05-21T17:38:55.477Z"
   },
   {
    "duration": 185,
    "start_time": "2024-05-21T17:38:55.486Z"
   },
   {
    "duration": 5,
    "start_time": "2024-05-21T17:38:55.672Z"
   },
   {
    "duration": 80,
    "start_time": "2024-05-21T17:38:55.679Z"
   },
   {
    "duration": 9,
    "start_time": "2024-05-21T17:38:55.761Z"
   },
   {
    "duration": 224,
    "start_time": "2024-05-21T17:38:55.771Z"
   },
   {
    "duration": 9,
    "start_time": "2024-05-21T17:38:55.996Z"
   },
   {
    "duration": 362,
    "start_time": "2024-05-21T17:38:56.006Z"
   },
   {
    "duration": 8,
    "start_time": "2024-05-21T17:38:56.370Z"
   },
   {
    "duration": 449,
    "start_time": "2024-05-21T17:38:56.379Z"
   },
   {
    "duration": 16,
    "start_time": "2024-05-21T17:38:56.830Z"
   },
   {
    "duration": 22,
    "start_time": "2024-05-21T17:38:56.847Z"
   },
   {
    "duration": 7,
    "start_time": "2024-05-21T17:38:56.871Z"
   },
   {
    "duration": 28,
    "start_time": "2024-05-21T17:38:56.880Z"
   },
   {
    "duration": 12,
    "start_time": "2024-05-21T17:38:56.911Z"
   },
   {
    "duration": 38,
    "start_time": "2024-05-21T17:38:56.924Z"
   },
   {
    "duration": 15,
    "start_time": "2024-05-21T17:38:56.964Z"
   },
   {
    "duration": 19,
    "start_time": "2024-05-21T17:38:56.980Z"
   },
   {
    "duration": 20,
    "start_time": "2024-05-21T17:38:57.000Z"
   },
   {
    "duration": 40,
    "start_time": "2024-05-21T17:38:57.021Z"
   },
   {
    "duration": 409,
    "start_time": "2024-05-21T17:38:57.062Z"
   },
   {
    "duration": 10,
    "start_time": "2024-05-21T17:38:57.473Z"
   },
   {
    "duration": 466,
    "start_time": "2024-05-21T17:38:57.485Z"
   },
   {
    "duration": 25,
    "start_time": "2024-05-21T17:38:57.953Z"
   },
   {
    "duration": 25,
    "start_time": "2024-05-21T17:38:57.980Z"
   },
   {
    "duration": 36,
    "start_time": "2024-05-21T17:38:58.006Z"
   },
   {
    "duration": 15,
    "start_time": "2024-05-21T17:38:58.043Z"
   },
   {
    "duration": 189,
    "start_time": "2024-05-21T17:38:58.060Z"
   },
   {
    "duration": 18,
    "start_time": "2024-05-21T17:38:58.250Z"
   },
   {
    "duration": 16,
    "start_time": "2024-05-21T17:38:58.269Z"
   },
   {
    "duration": 8,
    "start_time": "2024-05-21T17:38:58.286Z"
   },
   {
    "duration": 106,
    "start_time": "2024-05-21T17:38:58.296Z"
   },
   {
    "duration": 0,
    "start_time": "2024-05-21T17:38:58.403Z"
   },
   {
    "duration": 0,
    "start_time": "2024-05-21T17:38:58.404Z"
   },
   {
    "duration": 0,
    "start_time": "2024-05-21T17:38:58.405Z"
   },
   {
    "duration": 0,
    "start_time": "2024-05-21T17:38:58.406Z"
   },
   {
    "duration": 0,
    "start_time": "2024-05-21T17:38:58.407Z"
   },
   {
    "duration": 0,
    "start_time": "2024-05-21T17:38:58.408Z"
   },
   {
    "duration": 0,
    "start_time": "2024-05-21T17:38:58.409Z"
   },
   {
    "duration": 0,
    "start_time": "2024-05-21T17:38:58.410Z"
   },
   {
    "duration": 0,
    "start_time": "2024-05-21T17:38:58.411Z"
   },
   {
    "duration": 0,
    "start_time": "2024-05-21T17:38:58.412Z"
   },
   {
    "duration": 1153,
    "start_time": "2024-05-21T17:39:34.550Z"
   },
   {
    "duration": 232,
    "start_time": "2024-05-21T17:39:35.705Z"
   },
   {
    "duration": 17,
    "start_time": "2024-05-21T17:39:35.938Z"
   },
   {
    "duration": 18,
    "start_time": "2024-05-21T17:39:35.957Z"
   },
   {
    "duration": 13,
    "start_time": "2024-05-21T17:39:35.977Z"
   },
   {
    "duration": 9,
    "start_time": "2024-05-21T17:39:35.991Z"
   },
   {
    "duration": 10,
    "start_time": "2024-05-21T17:39:36.001Z"
   },
   {
    "duration": 9,
    "start_time": "2024-05-21T17:39:36.012Z"
   },
   {
    "duration": 4,
    "start_time": "2024-05-21T17:39:36.023Z"
   },
   {
    "duration": 19,
    "start_time": "2024-05-21T17:39:36.056Z"
   },
   {
    "duration": 10,
    "start_time": "2024-05-21T17:39:36.077Z"
   },
   {
    "duration": 5,
    "start_time": "2024-05-21T17:39:36.088Z"
   },
   {
    "duration": 8,
    "start_time": "2024-05-21T17:39:36.095Z"
   },
   {
    "duration": 17,
    "start_time": "2024-05-21T17:39:36.104Z"
   },
   {
    "duration": 174,
    "start_time": "2024-05-21T17:39:36.122Z"
   },
   {
    "duration": 5,
    "start_time": "2024-05-21T17:39:36.298Z"
   },
   {
    "duration": 81,
    "start_time": "2024-05-21T17:39:36.305Z"
   },
   {
    "duration": 8,
    "start_time": "2024-05-21T17:39:36.388Z"
   },
   {
    "duration": 208,
    "start_time": "2024-05-21T17:39:36.398Z"
   },
   {
    "duration": 9,
    "start_time": "2024-05-21T17:39:36.607Z"
   },
   {
    "duration": 356,
    "start_time": "2024-05-21T17:39:36.617Z"
   },
   {
    "duration": 8,
    "start_time": "2024-05-21T17:39:36.975Z"
   },
   {
    "duration": 441,
    "start_time": "2024-05-21T17:39:36.984Z"
   },
   {
    "duration": 14,
    "start_time": "2024-05-21T17:39:37.427Z"
   },
   {
    "duration": 25,
    "start_time": "2024-05-21T17:39:37.442Z"
   },
   {
    "duration": 8,
    "start_time": "2024-05-21T17:39:37.469Z"
   },
   {
    "duration": 31,
    "start_time": "2024-05-21T17:39:37.479Z"
   },
   {
    "duration": 12,
    "start_time": "2024-05-21T17:39:37.514Z"
   },
   {
    "duration": 13,
    "start_time": "2024-05-21T17:39:37.556Z"
   },
   {
    "duration": 14,
    "start_time": "2024-05-21T17:39:37.570Z"
   },
   {
    "duration": 18,
    "start_time": "2024-05-21T17:39:37.585Z"
   },
   {
    "duration": 25,
    "start_time": "2024-05-21T17:39:37.604Z"
   },
   {
    "duration": 27,
    "start_time": "2024-05-21T17:39:37.630Z"
   },
   {
    "duration": 412,
    "start_time": "2024-05-21T17:39:37.658Z"
   },
   {
    "duration": 10,
    "start_time": "2024-05-21T17:39:38.072Z"
   },
   {
    "duration": 440,
    "start_time": "2024-05-21T17:39:38.084Z"
   },
   {
    "duration": 17,
    "start_time": "2024-05-21T17:39:38.526Z"
   },
   {
    "duration": 28,
    "start_time": "2024-05-21T17:39:38.544Z"
   },
   {
    "duration": 40,
    "start_time": "2024-05-21T17:39:38.573Z"
   },
   {
    "duration": 4,
    "start_time": "2024-05-21T17:39:38.616Z"
   },
   {
    "duration": 207,
    "start_time": "2024-05-21T17:39:38.622Z"
   },
   {
    "duration": 17,
    "start_time": "2024-05-21T17:39:38.830Z"
   },
   {
    "duration": 24,
    "start_time": "2024-05-21T17:39:38.848Z"
   },
   {
    "duration": 12,
    "start_time": "2024-05-21T17:39:38.873Z"
   },
   {
    "duration": 7,
    "start_time": "2024-05-21T17:39:38.886Z"
   },
   {
    "duration": 9,
    "start_time": "2024-05-21T17:39:38.894Z"
   },
   {
    "duration": 6,
    "start_time": "2024-05-21T17:39:38.904Z"
   },
   {
    "duration": 46,
    "start_time": "2024-05-21T17:39:38.911Z"
   },
   {
    "duration": 5,
    "start_time": "2024-05-21T17:39:38.959Z"
   },
   {
    "duration": 3,
    "start_time": "2024-05-21T17:39:38.966Z"
   },
   {
    "duration": 1398,
    "start_time": "2024-05-21T17:39:38.970Z"
   },
   {
    "duration": 6,
    "start_time": "2024-05-21T17:39:40.370Z"
   },
   {
    "duration": 7,
    "start_time": "2024-05-21T17:39:40.377Z"
   },
   {
    "duration": 195,
    "start_time": "2024-05-21T17:39:40.385Z"
   },
   {
    "duration": 0,
    "start_time": "2024-05-21T17:39:40.582Z"
   },
   {
    "duration": 153,
    "start_time": "2024-05-21T17:39:48.079Z"
   },
   {
    "duration": 32631,
    "start_time": "2024-05-21T17:39:59.258Z"
   },
   {
    "duration": 11,
    "start_time": "2024-05-21T17:49:52.633Z"
   },
   {
    "duration": 7,
    "start_time": "2024-05-21T17:50:21.132Z"
   },
   {
    "duration": 1113,
    "start_time": "2024-05-21T17:55:22.258Z"
   },
   {
    "duration": 173,
    "start_time": "2024-05-21T17:55:23.373Z"
   },
   {
    "duration": 15,
    "start_time": "2024-05-21T17:55:23.547Z"
   },
   {
    "duration": 10,
    "start_time": "2024-05-21T17:55:23.564Z"
   },
   {
    "duration": 26,
    "start_time": "2024-05-21T17:55:23.576Z"
   },
   {
    "duration": 10,
    "start_time": "2024-05-21T17:55:23.603Z"
   },
   {
    "duration": 10,
    "start_time": "2024-05-21T17:55:23.614Z"
   },
   {
    "duration": 7,
    "start_time": "2024-05-21T17:55:23.626Z"
   },
   {
    "duration": 4,
    "start_time": "2024-05-21T17:55:23.634Z"
   },
   {
    "duration": 26,
    "start_time": "2024-05-21T17:55:23.641Z"
   },
   {
    "duration": 8,
    "start_time": "2024-05-21T17:55:23.669Z"
   },
   {
    "duration": 4,
    "start_time": "2024-05-21T17:55:23.679Z"
   },
   {
    "duration": 10,
    "start_time": "2024-05-21T17:55:23.685Z"
   },
   {
    "duration": 10,
    "start_time": "2024-05-21T17:55:23.696Z"
   },
   {
    "duration": 185,
    "start_time": "2024-05-21T17:55:23.707Z"
   },
   {
    "duration": 5,
    "start_time": "2024-05-21T17:55:23.893Z"
   },
   {
    "duration": 87,
    "start_time": "2024-05-21T17:55:23.900Z"
   },
   {
    "duration": 8,
    "start_time": "2024-05-21T17:55:23.988Z"
   },
   {
    "duration": 207,
    "start_time": "2024-05-21T17:55:23.997Z"
   },
   {
    "duration": 9,
    "start_time": "2024-05-21T17:55:24.205Z"
   },
   {
    "duration": 376,
    "start_time": "2024-05-21T17:55:24.215Z"
   },
   {
    "duration": 7,
    "start_time": "2024-05-21T17:55:24.592Z"
   },
   {
    "duration": 431,
    "start_time": "2024-05-21T17:55:24.601Z"
   },
   {
    "duration": 23,
    "start_time": "2024-05-21T17:55:25.034Z"
   },
   {
    "duration": 15,
    "start_time": "2024-05-21T17:55:25.059Z"
   },
   {
    "duration": 7,
    "start_time": "2024-05-21T17:55:25.075Z"
   },
   {
    "duration": 29,
    "start_time": "2024-05-21T17:55:25.083Z"
   },
   {
    "duration": 13,
    "start_time": "2024-05-21T17:55:25.115Z"
   },
   {
    "duration": 39,
    "start_time": "2024-05-21T17:55:25.129Z"
   },
   {
    "duration": 15,
    "start_time": "2024-05-21T17:55:25.170Z"
   },
   {
    "duration": 39,
    "start_time": "2024-05-21T17:55:25.187Z"
   },
   {
    "duration": 17,
    "start_time": "2024-05-21T17:55:25.227Z"
   },
   {
    "duration": 18,
    "start_time": "2024-05-21T17:55:25.246Z"
   },
   {
    "duration": 431,
    "start_time": "2024-05-21T17:55:25.266Z"
   },
   {
    "duration": 11,
    "start_time": "2024-05-21T17:55:25.698Z"
   },
   {
    "duration": 445,
    "start_time": "2024-05-21T17:55:25.711Z"
   },
   {
    "duration": 17,
    "start_time": "2024-05-21T17:55:26.157Z"
   },
   {
    "duration": 18,
    "start_time": "2024-05-21T17:55:26.175Z"
   },
   {
    "duration": 35,
    "start_time": "2024-05-21T17:55:26.194Z"
   },
   {
    "duration": 26,
    "start_time": "2024-05-21T17:55:26.230Z"
   },
   {
    "duration": 175,
    "start_time": "2024-05-21T17:55:26.257Z"
   },
   {
    "duration": 23,
    "start_time": "2024-05-21T17:55:26.434Z"
   },
   {
    "duration": 15,
    "start_time": "2024-05-21T17:55:26.459Z"
   },
   {
    "duration": 14,
    "start_time": "2024-05-21T17:55:26.476Z"
   },
   {
    "duration": 5,
    "start_time": "2024-05-21T17:55:26.492Z"
   },
   {
    "duration": 13,
    "start_time": "2024-05-21T17:55:26.498Z"
   },
   {
    "duration": 9,
    "start_time": "2024-05-21T17:55:26.512Z"
   },
   {
    "duration": 10,
    "start_time": "2024-05-21T17:55:26.522Z"
   },
   {
    "duration": 23,
    "start_time": "2024-05-21T17:55:26.533Z"
   },
   {
    "duration": 10,
    "start_time": "2024-05-21T17:55:26.558Z"
   },
   {
    "duration": 1383,
    "start_time": "2024-05-21T17:55:26.569Z"
   },
   {
    "duration": 7,
    "start_time": "2024-05-21T17:55:27.953Z"
   },
   {
    "duration": 10,
    "start_time": "2024-05-21T17:55:27.961Z"
   },
   {
    "duration": 32944,
    "start_time": "2024-05-21T17:55:27.973Z"
   },
   {
    "duration": 5,
    "start_time": "2024-05-21T17:56:00.919Z"
   }
  ],
  "kernelspec": {
   "display_name": "Python 3 (ipykernel)",
   "language": "python",
   "name": "python3"
  },
  "language_info": {
   "codemirror_mode": {
    "name": "ipython",
    "version": 3
   },
   "file_extension": ".py",
   "mimetype": "text/x-python",
   "name": "python",
   "nbconvert_exporter": "python",
   "pygments_lexer": "ipython3",
   "version": "3.11.5"
  },
  "toc": {
   "base_numbering": 1,
   "nav_menu": {},
   "number_sections": true,
   "sideBar": true,
   "skip_h1_title": true,
   "title_cell": "Table of Contents",
   "title_sidebar": "Contents",
   "toc_cell": false,
   "toc_position": {},
   "toc_section_display": true,
   "toc_window_display": false
  }
 },
 "nbformat": 4,
 "nbformat_minor": 5
}
