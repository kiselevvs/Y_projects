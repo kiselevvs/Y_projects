{
 "cells": [
  {
   "cell_type": "markdown",
   "id": "922c319b",
   "metadata": {},
   "source": [
    "## Проект по спринту \"Принятие решений в бизнесе\""
   ]
  },
  {
   "cell_type": "markdown",
   "id": "4ceb1bc7",
   "metadata": {},
   "source": [
    "### Описание проекта:\n",
    "  \n",
    "  В этом проекте мы выступим в роли аналитика крупного интернет магазина. По подготовленным, вместе с отделом маркетинга, гипотезам для увеличения выручки подготовим, запустим и проведем A/B-тест и проанализируем полученные результаты.\n",
    "  "
   ]
  },
  {
   "cell_type": "markdown",
   "id": "fb2b48f3",
   "metadata": {},
   "source": [
    "#### Этапы проекта:  \n",
    "  \n",
    "*Загрузим библиотеки для работы, загрузим данные.* \n",
    " \n",
    "**Часть 1 - Приоритизация гипотез:**  \n",
    "1. Применим фраймворки ICE, RICE для приоритизации гипотез. Проанализируем результаты приоритизации  \n",
    "  \n",
    "**Часть 2 - результаты A/B теста:**  \n",
    "1. Загрузим данные. Построим график кумулятивной выручки по группам. Сделаем выводы и предположения.\n",
    "2. Построим график кумулятивного среднего чека по группам. Сделаем выводы и предположения.\n",
    "3. Построим график относительного изменения кумулятивного среднего чека группы B к группе A. Сделаем выводы и предположения.\n",
    "4. Построим график кумулятивного среднего количества заказов на посетителя по группам. Сделаем выводы и предположения.\n",
    "5. Построим график относительного изменения кумулятивного среднего количества заказов на посетителя группы B к группе A. Сделаем выводы и предположения.\n",
    "6. Построим точечный график количества заказов по пользователям. Сделаем выводы и предположения.\n",
    "7. Посчитаем 95-й и 99-й перцентили количества заказов на пользователя. Выберите границу для определения аномальных пользователей.\n",
    "8. Построим точечный график стоимостей заказов. Сделаем выводы и предположения.\n",
    "9. Посчитаем 95-й и 99-й перцентили стоимости заказов. Выберем границу для определения аномальных заказов.\n",
    "10. Посчитаем статистическую значимость различий в среднем количестве заказов на посетителя между группами по «сырым» данным. Сделаем выводы и предположения.\n",
    "11. Посчитаем статистическую значимость различий в среднем чеке заказа между группами по «сырым» данным. Сделаем выводы и предположения.\n",
    "12. Посчитаем статистическую значимость различий в среднем количестве заказов на посетителя между группами по «очищенным» данным. Сделаем выводы и предположения.\n",
    "13. Посчитаем статистическую значимость различий в среднем чеке заказа между группами по «очищенным» данным. Сделаем выводы и предположения.\n",
    "14. Примем решение по результатам теста и объясним его. Варианты решений:\n",
    "  - Остановить тест, зафиксировать победу одной из групп.\n",
    "  - Остановить тест, зафиксировать отсутствие различий между группами.\n",
    "  - Продолжить тест."
   ]
  },
  {
   "cell_type": "markdown",
   "id": "65aef2fe",
   "metadata": {},
   "source": [
    "### Загрузка данных и библиотек python для работы"
   ]
  },
  {
   "cell_type": "code",
   "execution_count": 1,
   "id": "72665f9c",
   "metadata": {},
   "outputs": [],
   "source": [
    "import pandas as pd\n",
    "import matplotlib.pyplot as plt\n",
    "from matplotlib.pyplot import figure\n",
    "import numpy as np\n",
    "from datetime import datetime as dt\n",
    "from scipy import stats as st"
   ]
  },
  {
   "cell_type": "code",
   "execution_count": 2,
   "id": "568a5e58",
   "metadata": {},
   "outputs": [],
   "source": [
    "try:\n",
    "    \n",
    "    hypotesis = pd.read_csv(\n",
    "        'C:/Users/kiselevvs/Desktop/Data analyst/datasets/hypothesis.csv'\n",
    "    )\n",
    "    orders = pd.read_csv(\n",
    "        'C:/Users/kiselevvs/Desktop/Data analyst/datasets/orders.csv',\n",
    "        parse_dates=['date'])\n",
    "    visitors = pd.read_csv('C:/Users/kiselevvs/Desktop/Data analyst/datasets/visitors.csv',\n",
    "        parse_dates=['date'])\n",
    "except:\n",
    "    hypotesis = pd.read_csv(\n",
    "        'https:/)\n",
    "    orders = pd.read_csv(\n",
    "        'https:/, parse_dates=['date'])\n",
    "    visitors = pd.read_csv('https://, parse_dates=['date'])\n",
    "    "
   ]
  },
  {
   "cell_type": "markdown",
   "id": "a32cde1c",
   "metadata": {},
   "source": [
    "### Часть 1 - Приоритизация гипотез"
   ]
  },
  {
   "cell_type": "code",
   "execution_count": 3,
   "id": "709e4542",
   "metadata": {},
   "outputs": [
    {
     "data": {
      "text/html": [
       "<div>\n",
       "<style scoped>\n",
       "    .dataframe tbody tr th:only-of-type {\n",
       "        vertical-align: middle;\n",
       "    }\n",
       "\n",
       "    .dataframe tbody tr th {\n",
       "        vertical-align: top;\n",
       "    }\n",
       "\n",
       "    .dataframe thead th {\n",
       "        text-align: right;\n",
       "    }\n",
       "</style>\n",
       "<table border=\"1\" class=\"dataframe\">\n",
       "  <thead>\n",
       "    <tr style=\"text-align: right;\">\n",
       "      <th></th>\n",
       "      <th>Hypothesis</th>\n",
       "      <th>Reach</th>\n",
       "      <th>Impact</th>\n",
       "      <th>Confidence</th>\n",
       "      <th>Efforts</th>\n",
       "    </tr>\n",
       "  </thead>\n",
       "  <tbody>\n",
       "    <tr>\n",
       "      <th>0</th>\n",
       "      <td>Добавить два новых канала привлечения трафика,...</td>\n",
       "      <td>3</td>\n",
       "      <td>10</td>\n",
       "      <td>8</td>\n",
       "      <td>6</td>\n",
       "    </tr>\n",
       "    <tr>\n",
       "      <th>1</th>\n",
       "      <td>Запустить собственную службу доставки, что сок...</td>\n",
       "      <td>2</td>\n",
       "      <td>5</td>\n",
       "      <td>4</td>\n",
       "      <td>10</td>\n",
       "    </tr>\n",
       "    <tr>\n",
       "      <th>2</th>\n",
       "      <td>Добавить блоки рекомендаций товаров на сайт ин...</td>\n",
       "      <td>8</td>\n",
       "      <td>3</td>\n",
       "      <td>7</td>\n",
       "      <td>3</td>\n",
       "    </tr>\n",
       "    <tr>\n",
       "      <th>3</th>\n",
       "      <td>Изменить структура категорий, что увеличит кон...</td>\n",
       "      <td>8</td>\n",
       "      <td>3</td>\n",
       "      <td>3</td>\n",
       "      <td>8</td>\n",
       "    </tr>\n",
       "    <tr>\n",
       "      <th>4</th>\n",
       "      <td>Изменить цвет фона главной страницы, чтобы уве...</td>\n",
       "      <td>3</td>\n",
       "      <td>1</td>\n",
       "      <td>1</td>\n",
       "      <td>1</td>\n",
       "    </tr>\n",
       "    <tr>\n",
       "      <th>5</th>\n",
       "      <td>Добавить страницу отзывов клиентов о магазине,...</td>\n",
       "      <td>3</td>\n",
       "      <td>2</td>\n",
       "      <td>2</td>\n",
       "      <td>3</td>\n",
       "    </tr>\n",
       "    <tr>\n",
       "      <th>6</th>\n",
       "      <td>Показать на главной странице баннеры с актуаль...</td>\n",
       "      <td>5</td>\n",
       "      <td>3</td>\n",
       "      <td>8</td>\n",
       "      <td>3</td>\n",
       "    </tr>\n",
       "    <tr>\n",
       "      <th>7</th>\n",
       "      <td>Добавить форму подписки на все основные страни...</td>\n",
       "      <td>10</td>\n",
       "      <td>7</td>\n",
       "      <td>8</td>\n",
       "      <td>5</td>\n",
       "    </tr>\n",
       "    <tr>\n",
       "      <th>8</th>\n",
       "      <td>Запустить акцию, дающую скидку на товар в день...</td>\n",
       "      <td>1</td>\n",
       "      <td>9</td>\n",
       "      <td>9</td>\n",
       "      <td>5</td>\n",
       "    </tr>\n",
       "  </tbody>\n",
       "</table>\n",
       "</div>"
      ],
      "text/plain": [
       "                                          Hypothesis  Reach  Impact  \\\n",
       "0  Добавить два новых канала привлечения трафика,...      3      10   \n",
       "1  Запустить собственную службу доставки, что сок...      2       5   \n",
       "2  Добавить блоки рекомендаций товаров на сайт ин...      8       3   \n",
       "3  Изменить структура категорий, что увеличит кон...      8       3   \n",
       "4  Изменить цвет фона главной страницы, чтобы уве...      3       1   \n",
       "5  Добавить страницу отзывов клиентов о магазине,...      3       2   \n",
       "6  Показать на главной странице баннеры с актуаль...      5       3   \n",
       "7  Добавить форму подписки на все основные страни...     10       7   \n",
       "8  Запустить акцию, дающую скидку на товар в день...      1       9   \n",
       "\n",
       "   Confidence  Efforts  \n",
       "0           8        6  \n",
       "1           4       10  \n",
       "2           7        3  \n",
       "3           3        8  \n",
       "4           1        1  \n",
       "5           2        3  \n",
       "6           8        3  \n",
       "7           8        5  \n",
       "8           9        5  "
      ]
     },
     "metadata": {},
     "output_type": "display_data"
    }
   ],
   "source": [
    "display(hypotesis) "
   ]
  },
  {
   "cell_type": "code",
   "execution_count": 4,
   "id": "bb76e100",
   "metadata": {},
   "outputs": [],
   "source": [
    "hypotesis['ICE'] = round((hypotesis['Impact'] * hypotesis['Confidence'] / hypotesis['Efforts']), 2)"
   ]
  },
  {
   "cell_type": "code",
   "execution_count": 5,
   "id": "e97a9054",
   "metadata": {},
   "outputs": [
    {
     "data": {
      "text/html": [
       "<div>\n",
       "<style scoped>\n",
       "    .dataframe tbody tr th:only-of-type {\n",
       "        vertical-align: middle;\n",
       "    }\n",
       "\n",
       "    .dataframe tbody tr th {\n",
       "        vertical-align: top;\n",
       "    }\n",
       "\n",
       "    .dataframe thead th {\n",
       "        text-align: right;\n",
       "    }\n",
       "</style>\n",
       "<table border=\"1\" class=\"dataframe\">\n",
       "  <thead>\n",
       "    <tr style=\"text-align: right;\">\n",
       "      <th></th>\n",
       "      <th>Hypothesis</th>\n",
       "      <th>Reach</th>\n",
       "      <th>Impact</th>\n",
       "      <th>Confidence</th>\n",
       "      <th>Efforts</th>\n",
       "      <th>ICE</th>\n",
       "    </tr>\n",
       "  </thead>\n",
       "  <tbody>\n",
       "    <tr>\n",
       "      <th>8</th>\n",
       "      <td>Запустить акцию, дающую скидку на товар в день...</td>\n",
       "      <td>1</td>\n",
       "      <td>9</td>\n",
       "      <td>9</td>\n",
       "      <td>5</td>\n",
       "      <td>16.20</td>\n",
       "    </tr>\n",
       "    <tr>\n",
       "      <th>0</th>\n",
       "      <td>Добавить два новых канала привлечения трафика,...</td>\n",
       "      <td>3</td>\n",
       "      <td>10</td>\n",
       "      <td>8</td>\n",
       "      <td>6</td>\n",
       "      <td>13.33</td>\n",
       "    </tr>\n",
       "    <tr>\n",
       "      <th>7</th>\n",
       "      <td>Добавить форму подписки на все основные страни...</td>\n",
       "      <td>10</td>\n",
       "      <td>7</td>\n",
       "      <td>8</td>\n",
       "      <td>5</td>\n",
       "      <td>11.20</td>\n",
       "    </tr>\n",
       "    <tr>\n",
       "      <th>6</th>\n",
       "      <td>Показать на главной странице баннеры с актуаль...</td>\n",
       "      <td>5</td>\n",
       "      <td>3</td>\n",
       "      <td>8</td>\n",
       "      <td>3</td>\n",
       "      <td>8.00</td>\n",
       "    </tr>\n",
       "    <tr>\n",
       "      <th>2</th>\n",
       "      <td>Добавить блоки рекомендаций товаров на сайт ин...</td>\n",
       "      <td>8</td>\n",
       "      <td>3</td>\n",
       "      <td>7</td>\n",
       "      <td>3</td>\n",
       "      <td>7.00</td>\n",
       "    </tr>\n",
       "    <tr>\n",
       "      <th>1</th>\n",
       "      <td>Запустить собственную службу доставки, что сок...</td>\n",
       "      <td>2</td>\n",
       "      <td>5</td>\n",
       "      <td>4</td>\n",
       "      <td>10</td>\n",
       "      <td>2.00</td>\n",
       "    </tr>\n",
       "    <tr>\n",
       "      <th>5</th>\n",
       "      <td>Добавить страницу отзывов клиентов о магазине,...</td>\n",
       "      <td>3</td>\n",
       "      <td>2</td>\n",
       "      <td>2</td>\n",
       "      <td>3</td>\n",
       "      <td>1.33</td>\n",
       "    </tr>\n",
       "    <tr>\n",
       "      <th>3</th>\n",
       "      <td>Изменить структура категорий, что увеличит кон...</td>\n",
       "      <td>8</td>\n",
       "      <td>3</td>\n",
       "      <td>3</td>\n",
       "      <td>8</td>\n",
       "      <td>1.12</td>\n",
       "    </tr>\n",
       "    <tr>\n",
       "      <th>4</th>\n",
       "      <td>Изменить цвет фона главной страницы, чтобы уве...</td>\n",
       "      <td>3</td>\n",
       "      <td>1</td>\n",
       "      <td>1</td>\n",
       "      <td>1</td>\n",
       "      <td>1.00</td>\n",
       "    </tr>\n",
       "  </tbody>\n",
       "</table>\n",
       "</div>"
      ],
      "text/plain": [
       "                                          Hypothesis  Reach  Impact  \\\n",
       "8  Запустить акцию, дающую скидку на товар в день...      1       9   \n",
       "0  Добавить два новых канала привлечения трафика,...      3      10   \n",
       "7  Добавить форму подписки на все основные страни...     10       7   \n",
       "6  Показать на главной странице баннеры с актуаль...      5       3   \n",
       "2  Добавить блоки рекомендаций товаров на сайт ин...      8       3   \n",
       "1  Запустить собственную службу доставки, что сок...      2       5   \n",
       "5  Добавить страницу отзывов клиентов о магазине,...      3       2   \n",
       "3  Изменить структура категорий, что увеличит кон...      8       3   \n",
       "4  Изменить цвет фона главной страницы, чтобы уве...      3       1   \n",
       "\n",
       "   Confidence  Efforts    ICE  \n",
       "8           9        5  16.20  \n",
       "0           8        6  13.33  \n",
       "7           8        5  11.20  \n",
       "6           8        3   8.00  \n",
       "2           7        3   7.00  \n",
       "1           4       10   2.00  \n",
       "5           2        3   1.33  \n",
       "3           3        8   1.12  \n",
       "4           1        1   1.00  "
      ]
     },
     "metadata": {},
     "output_type": "display_data"
    }
   ],
   "source": [
    "display(hypotesis.sort_values('ICE', ascending=False))\n",
    "pd.set_option('max_colwidth', 200)"
   ]
  },
  {
   "cell_type": "markdown",
   "id": "4b65e0e3",
   "metadata": {},
   "source": [
    "Добавили столбик приоритизации гиоптез методом **ICE(impact confidence effort)**.  \n",
    "Видим, что в тройке лидеров гиоптезы с изначальными индексами 8, 0, 7 "
   ]
  },
  {
   "cell_type": "code",
   "execution_count": 6,
   "id": "d6ba2f56",
   "metadata": {},
   "outputs": [
    {
     "data": {
      "text/html": [
       "<div>\n",
       "<style scoped>\n",
       "    .dataframe tbody tr th:only-of-type {\n",
       "        vertical-align: middle;\n",
       "    }\n",
       "\n",
       "    .dataframe tbody tr th {\n",
       "        vertical-align: top;\n",
       "    }\n",
       "\n",
       "    .dataframe thead th {\n",
       "        text-align: right;\n",
       "    }\n",
       "</style>\n",
       "<table border=\"1\" class=\"dataframe\">\n",
       "  <thead>\n",
       "    <tr style=\"text-align: right;\">\n",
       "      <th></th>\n",
       "      <th>Hypothesis</th>\n",
       "      <th>Reach</th>\n",
       "      <th>Impact</th>\n",
       "      <th>Confidence</th>\n",
       "      <th>Efforts</th>\n",
       "      <th>ICE</th>\n",
       "      <th>RICE</th>\n",
       "    </tr>\n",
       "  </thead>\n",
       "  <tbody>\n",
       "    <tr>\n",
       "      <th>7</th>\n",
       "      <td>Добавить форму подписки на все основные страницы, чтобы собрать базу клиентов для email-рассылок</td>\n",
       "      <td>10</td>\n",
       "      <td>7</td>\n",
       "      <td>8</td>\n",
       "      <td>5</td>\n",
       "      <td>11.20</td>\n",
       "      <td>112.0</td>\n",
       "    </tr>\n",
       "    <tr>\n",
       "      <th>2</th>\n",
       "      <td>Добавить блоки рекомендаций товаров на сайт интернет магазина, чтобы повысить конверсию и средний чек заказа</td>\n",
       "      <td>8</td>\n",
       "      <td>3</td>\n",
       "      <td>7</td>\n",
       "      <td>3</td>\n",
       "      <td>7.00</td>\n",
       "      <td>56.0</td>\n",
       "    </tr>\n",
       "    <tr>\n",
       "      <th>0</th>\n",
       "      <td>Добавить два новых канала привлечения трафика, что позволит привлекать на 30% больше пользователей</td>\n",
       "      <td>3</td>\n",
       "      <td>10</td>\n",
       "      <td>8</td>\n",
       "      <td>6</td>\n",
       "      <td>13.33</td>\n",
       "      <td>40.0</td>\n",
       "    </tr>\n",
       "    <tr>\n",
       "      <th>6</th>\n",
       "      <td>Показать на главной странице баннеры с актуальными акциями и распродажами, чтобы увеличить конверсию</td>\n",
       "      <td>5</td>\n",
       "      <td>3</td>\n",
       "      <td>8</td>\n",
       "      <td>3</td>\n",
       "      <td>8.00</td>\n",
       "      <td>40.0</td>\n",
       "    </tr>\n",
       "    <tr>\n",
       "      <th>8</th>\n",
       "      <td>Запустить акцию, дающую скидку на товар в день рождения</td>\n",
       "      <td>1</td>\n",
       "      <td>9</td>\n",
       "      <td>9</td>\n",
       "      <td>5</td>\n",
       "      <td>16.20</td>\n",
       "      <td>16.2</td>\n",
       "    </tr>\n",
       "    <tr>\n",
       "      <th>3</th>\n",
       "      <td>Изменить структура категорий, что увеличит конверсию, т.к. пользователи быстрее найдут нужный товар</td>\n",
       "      <td>8</td>\n",
       "      <td>3</td>\n",
       "      <td>3</td>\n",
       "      <td>8</td>\n",
       "      <td>1.12</td>\n",
       "      <td>9.0</td>\n",
       "    </tr>\n",
       "    <tr>\n",
       "      <th>1</th>\n",
       "      <td>Запустить собственную службу доставки, что сократит срок доставки заказов</td>\n",
       "      <td>2</td>\n",
       "      <td>5</td>\n",
       "      <td>4</td>\n",
       "      <td>10</td>\n",
       "      <td>2.00</td>\n",
       "      <td>4.0</td>\n",
       "    </tr>\n",
       "    <tr>\n",
       "      <th>5</th>\n",
       "      <td>Добавить страницу отзывов клиентов о магазине, что позволит увеличить количество заказов</td>\n",
       "      <td>3</td>\n",
       "      <td>2</td>\n",
       "      <td>2</td>\n",
       "      <td>3</td>\n",
       "      <td>1.33</td>\n",
       "      <td>4.0</td>\n",
       "    </tr>\n",
       "    <tr>\n",
       "      <th>4</th>\n",
       "      <td>Изменить цвет фона главной страницы, чтобы увеличить вовлеченность пользователей</td>\n",
       "      <td>3</td>\n",
       "      <td>1</td>\n",
       "      <td>1</td>\n",
       "      <td>1</td>\n",
       "      <td>1.00</td>\n",
       "      <td>3.0</td>\n",
       "    </tr>\n",
       "  </tbody>\n",
       "</table>\n",
       "</div>"
      ],
      "text/plain": [
       "                                                                                                     Hypothesis  \\\n",
       "7              Добавить форму подписки на все основные страницы, чтобы собрать базу клиентов для email-рассылок   \n",
       "2  Добавить блоки рекомендаций товаров на сайт интернет магазина, чтобы повысить конверсию и средний чек заказа   \n",
       "0            Добавить два новых канала привлечения трафика, что позволит привлекать на 30% больше пользователей   \n",
       "6          Показать на главной странице баннеры с актуальными акциями и распродажами, чтобы увеличить конверсию   \n",
       "8                                                       Запустить акцию, дающую скидку на товар в день рождения   \n",
       "3           Изменить структура категорий, что увеличит конверсию, т.к. пользователи быстрее найдут нужный товар   \n",
       "1                                     Запустить собственную службу доставки, что сократит срок доставки заказов   \n",
       "5                      Добавить страницу отзывов клиентов о магазине, что позволит увеличить количество заказов   \n",
       "4                              Изменить цвет фона главной страницы, чтобы увеличить вовлеченность пользователей   \n",
       "\n",
       "   Reach  Impact  Confidence  Efforts    ICE   RICE  \n",
       "7     10       7           8        5  11.20  112.0  \n",
       "2      8       3           7        3   7.00   56.0  \n",
       "0      3      10           8        6  13.33   40.0  \n",
       "6      5       3           8        3   8.00   40.0  \n",
       "8      1       9           9        5  16.20   16.2  \n",
       "3      8       3           3        8   1.12    9.0  \n",
       "1      2       5           4       10   2.00    4.0  \n",
       "5      3       2           2        3   1.33    4.0  \n",
       "4      3       1           1        1   1.00    3.0  "
      ]
     },
     "metadata": {},
     "output_type": "display_data"
    }
   ],
   "source": [
    "hypotesis['RICE'] = round((hypotesis['Reach'] * hypotesis['Impact'] * hypotesis['Confidence'] / hypotesis['Efforts']), 2)\n",
    "display(hypotesis.sort_values(['RICE', 'ICE'], ascending=False))"
   ]
  },
  {
   "cell_type": "markdown",
   "id": "10b139ef",
   "metadata": {},
   "source": [
    "Добавили столбик приоритизации гипотез методом **RICE(reach impact confidence effort)**.  \n",
    "Видим, что в тройке лидеров остались гипотезы с индексами 0, 7 и добавилась гипотеза с индексом 2\n",
    "Гипотеза 8, которая была в тройке лидеров по ICE опустилась на 5 позицию.  \n",
    "Эти изменения в приоритетности произошли, потому что мы добавили параметр reach, который показывает на какой объем пользователей могут повлиять изменения. Это важный параметр, когда мы достаточно точно можем оценить количество затронутых пользователей."
   ]
  },
  {
   "cell_type": "markdown",
   "id": "b6736292",
   "metadata": {},
   "source": [
    "Выбираем гипотезу 7 \"Добавить форму подписки на все основные страницы, чтобы собрать базу клиентов для email-рассылок\", запускаем А/В тест и далее будем анализировать результаты теста"
   ]
  },
  {
   "cell_type": "markdown",
   "id": "248a1574",
   "metadata": {},
   "source": [
    "### Часть 2 - результаты A/B теста"
   ]
  },
  {
   "cell_type": "code",
   "execution_count": 7,
   "id": "860287ca",
   "metadata": {},
   "outputs": [
    {
     "name": "stdout",
     "output_type": "stream",
     "text": [
      "<class 'pandas.core.frame.DataFrame'>\n",
      "RangeIndex: 1197 entries, 0 to 1196\n",
      "Data columns (total 5 columns):\n",
      " #   Column         Non-Null Count  Dtype         \n",
      "---  ------         --------------  -----         \n",
      " 0   transactionId  1197 non-null   int64         \n",
      " 1   visitorId      1197 non-null   int64         \n",
      " 2   date           1197 non-null   datetime64[ns]\n",
      " 3   revenue        1197 non-null   int64         \n",
      " 4   group          1197 non-null   object        \n",
      "dtypes: datetime64[ns](1), int64(3), object(1)\n",
      "memory usage: 46.9+ KB\n",
      "\n",
      "<class 'pandas.core.frame.DataFrame'>\n",
      "RangeIndex: 62 entries, 0 to 61\n",
      "Data columns (total 3 columns):\n",
      " #   Column    Non-Null Count  Dtype         \n",
      "---  ------    --------------  -----         \n",
      " 0   date      62 non-null     datetime64[ns]\n",
      " 1   group     62 non-null     object        \n",
      " 2   visitors  62 non-null     int64         \n",
      "dtypes: datetime64[ns](1), int64(1), object(1)\n",
      "memory usage: 1.6+ KB\n"
     ]
    }
   ],
   "source": [
    "orders.info()\n",
    "print()\n",
    "visitors.info()"
   ]
  },
  {
   "cell_type": "code",
   "execution_count": 8,
   "id": "198d12bc",
   "metadata": {},
   "outputs": [
    {
     "data": {
      "text/html": [
       "<div>\n",
       "<style scoped>\n",
       "    .dataframe tbody tr th:only-of-type {\n",
       "        vertical-align: middle;\n",
       "    }\n",
       "\n",
       "    .dataframe tbody tr th {\n",
       "        vertical-align: top;\n",
       "    }\n",
       "\n",
       "    .dataframe thead th {\n",
       "        text-align: right;\n",
       "    }\n",
       "</style>\n",
       "<table border=\"1\" class=\"dataframe\">\n",
       "  <thead>\n",
       "    <tr style=\"text-align: right;\">\n",
       "      <th></th>\n",
       "      <th>transactionId</th>\n",
       "      <th>visitorId</th>\n",
       "      <th>date</th>\n",
       "      <th>revenue</th>\n",
       "      <th>group</th>\n",
       "    </tr>\n",
       "  </thead>\n",
       "  <tbody>\n",
       "    <tr>\n",
       "      <th>0</th>\n",
       "      <td>3667963787</td>\n",
       "      <td>3312258926</td>\n",
       "      <td>2019-08-15</td>\n",
       "      <td>1650</td>\n",
       "      <td>B</td>\n",
       "    </tr>\n",
       "    <tr>\n",
       "      <th>1</th>\n",
       "      <td>2804400009</td>\n",
       "      <td>3642806036</td>\n",
       "      <td>2019-08-15</td>\n",
       "      <td>730</td>\n",
       "      <td>B</td>\n",
       "    </tr>\n",
       "    <tr>\n",
       "      <th>2</th>\n",
       "      <td>2961555356</td>\n",
       "      <td>4069496402</td>\n",
       "      <td>2019-08-15</td>\n",
       "      <td>400</td>\n",
       "      <td>A</td>\n",
       "    </tr>\n",
       "    <tr>\n",
       "      <th>3</th>\n",
       "      <td>3797467345</td>\n",
       "      <td>1196621759</td>\n",
       "      <td>2019-08-15</td>\n",
       "      <td>9759</td>\n",
       "      <td>B</td>\n",
       "    </tr>\n",
       "    <tr>\n",
       "      <th>4</th>\n",
       "      <td>2282983706</td>\n",
       "      <td>2322279887</td>\n",
       "      <td>2019-08-15</td>\n",
       "      <td>2308</td>\n",
       "      <td>B</td>\n",
       "    </tr>\n",
       "  </tbody>\n",
       "</table>\n",
       "</div>"
      ],
      "text/plain": [
       "   transactionId   visitorId       date  revenue group\n",
       "0     3667963787  3312258926 2019-08-15     1650     B\n",
       "1     2804400009  3642806036 2019-08-15      730     B\n",
       "2     2961555356  4069496402 2019-08-15      400     A\n",
       "3     3797467345  1196621759 2019-08-15     9759     B\n",
       "4     2282983706  2322279887 2019-08-15     2308     B"
      ]
     },
     "metadata": {},
     "output_type": "display_data"
    },
    {
     "data": {
      "text/html": [
       "<div>\n",
       "<style scoped>\n",
       "    .dataframe tbody tr th:only-of-type {\n",
       "        vertical-align: middle;\n",
       "    }\n",
       "\n",
       "    .dataframe tbody tr th {\n",
       "        vertical-align: top;\n",
       "    }\n",
       "\n",
       "    .dataframe thead th {\n",
       "        text-align: right;\n",
       "    }\n",
       "</style>\n",
       "<table border=\"1\" class=\"dataframe\">\n",
       "  <thead>\n",
       "    <tr style=\"text-align: right;\">\n",
       "      <th></th>\n",
       "      <th>date</th>\n",
       "      <th>group</th>\n",
       "      <th>visitors</th>\n",
       "    </tr>\n",
       "  </thead>\n",
       "  <tbody>\n",
       "    <tr>\n",
       "      <th>0</th>\n",
       "      <td>2019-08-01</td>\n",
       "      <td>A</td>\n",
       "      <td>719</td>\n",
       "    </tr>\n",
       "    <tr>\n",
       "      <th>1</th>\n",
       "      <td>2019-08-02</td>\n",
       "      <td>A</td>\n",
       "      <td>619</td>\n",
       "    </tr>\n",
       "    <tr>\n",
       "      <th>2</th>\n",
       "      <td>2019-08-03</td>\n",
       "      <td>A</td>\n",
       "      <td>507</td>\n",
       "    </tr>\n",
       "    <tr>\n",
       "      <th>3</th>\n",
       "      <td>2019-08-04</td>\n",
       "      <td>A</td>\n",
       "      <td>717</td>\n",
       "    </tr>\n",
       "    <tr>\n",
       "      <th>4</th>\n",
       "      <td>2019-08-05</td>\n",
       "      <td>A</td>\n",
       "      <td>756</td>\n",
       "    </tr>\n",
       "  </tbody>\n",
       "</table>\n",
       "</div>"
      ],
      "text/plain": [
       "        date group  visitors\n",
       "0 2019-08-01     A       719\n",
       "1 2019-08-02     A       619\n",
       "2 2019-08-03     A       507\n",
       "3 2019-08-04     A       717\n",
       "4 2019-08-05     A       756"
      ]
     },
     "metadata": {},
     "output_type": "display_data"
    }
   ],
   "source": [
    "display(orders.head(5))\n",
    "display(visitors.head(5))"
   ]
  },
  {
   "cell_type": "code",
   "execution_count": 9,
   "id": "8b0c8c69",
   "metadata": {},
   "outputs": [
    {
     "data": {
      "text/plain": [
       "0"
      ]
     },
     "execution_count": 9,
     "metadata": {},
     "output_type": "execute_result"
    }
   ],
   "source": [
    "orders[['transactionId', 'visitorId']].duplicated().sum()"
   ]
  },
  {
   "cell_type": "code",
   "execution_count": 10,
   "id": "a598a0d6",
   "metadata": {},
   "outputs": [
    {
     "data": {
      "text/plain": [
       "0"
      ]
     },
     "execution_count": 10,
     "metadata": {},
     "output_type": "execute_result"
    }
   ],
   "source": [
    "visitors.duplicated().sum()"
   ]
  },
  {
   "cell_type": "markdown",
   "id": "277f46f7",
   "metadata": {},
   "source": [
    "Проверили наличие явных дубликатов в столбцах таблицы с заказами и в таблице с информацией о посетителях.  \n",
    "Явных дубликтатов нет"
   ]
  },
  {
   "cell_type": "code",
   "execution_count": 11,
   "id": "0bfba148",
   "metadata": {},
   "outputs": [
    {
     "data": {
      "text/plain": [
       "108"
      ]
     },
     "execution_count": 11,
     "metadata": {},
     "output_type": "execute_result"
    }
   ],
   "source": [
    "orders[['visitorId', 'group']].duplicated().sum()"
   ]
  },
  {
   "cell_type": "code",
   "execution_count": 12,
   "id": "02c4401d",
   "metadata": {},
   "outputs": [
    {
     "data": {
      "text/html": [
       "<div>\n",
       "<style scoped>\n",
       "    .dataframe tbody tr th:only-of-type {\n",
       "        vertical-align: middle;\n",
       "    }\n",
       "\n",
       "    .dataframe tbody tr th {\n",
       "        vertical-align: top;\n",
       "    }\n",
       "\n",
       "    .dataframe thead th {\n",
       "        text-align: right;\n",
       "    }\n",
       "</style>\n",
       "<table border=\"1\" class=\"dataframe\">\n",
       "  <thead>\n",
       "    <tr style=\"text-align: right;\">\n",
       "      <th>group</th>\n",
       "      <th>visitorId</th>\n",
       "      <th>A</th>\n",
       "      <th>B</th>\n",
       "    </tr>\n",
       "  </thead>\n",
       "  <tbody>\n",
       "    <tr>\n",
       "      <th>2</th>\n",
       "      <td>8300375</td>\n",
       "      <td>4.293856e+09</td>\n",
       "      <td>3.679129e+09</td>\n",
       "    </tr>\n",
       "    <tr>\n",
       "      <th>44</th>\n",
       "      <td>199603092</td>\n",
       "      <td>1.799929e+09</td>\n",
       "      <td>4.376570e+08</td>\n",
       "    </tr>\n",
       "    <tr>\n",
       "      <th>51</th>\n",
       "      <td>232979603</td>\n",
       "      <td>8.356615e+07</td>\n",
       "      <td>2.670069e+09</td>\n",
       "    </tr>\n",
       "    <tr>\n",
       "      <th>55</th>\n",
       "      <td>237748145</td>\n",
       "      <td>2.656568e+09</td>\n",
       "      <td>1.630051e+09</td>\n",
       "    </tr>\n",
       "    <tr>\n",
       "      <th>66</th>\n",
       "      <td>276558944</td>\n",
       "      <td>3.894438e+09</td>\n",
       "      <td>1.701654e+09</td>\n",
       "    </tr>\n",
       "  </tbody>\n",
       "</table>\n",
       "</div>"
      ],
      "text/plain": [
       "group  visitorId             A             B\n",
       "2        8300375  4.293856e+09  3.679129e+09\n",
       "44     199603092  1.799929e+09  4.376570e+08\n",
       "51     232979603  8.356615e+07  2.670069e+09\n",
       "55     237748145  2.656568e+09  1.630051e+09\n",
       "66     276558944  3.894438e+09  1.701654e+09"
      ]
     },
     "metadata": {},
     "output_type": "display_data"
    },
    {
     "name": "stdout",
     "output_type": "stream",
     "text": [
      "\n",
      "Количество пользователей теста, которые попали в обе группы (А и В) составиило : 58\n"
     ]
    }
   ],
   "source": [
    "test_double_group = orders.pivot_table(values= 'transactionId' ,index= 'visitorId', columns=  'group').reset_index()\n",
    "test_double_group = test_double_group[~test_double_group.isnull().any(axis=1)]\n",
    "display(test_double_group.head())\n",
    "print()\n",
    "print('Количество пользователей теста, которые попали в обе группы (А и В) составиило :',\\\n",
    "      test_double_group['visitorId'].nunique())"
   ]
  },
  {
   "cell_type": "markdown",
   "id": "eea78841",
   "metadata": {},
   "source": [
    "**По результатам теста, оказалось, что 58 пользователей попали в обе группы теста, что является нарушением проведения А/В тестирования**.  \n",
    "Эти данные необходимо передать команде, которая настраивает алгоритмы распределения трафика по группам тестирования"
   ]
  },
  {
   "cell_type": "markdown",
   "id": "0af4ed70",
   "metadata": {},
   "source": [
    "Вывели оба датасета для общей информации о данных"
   ]
  },
  {
   "cell_type": "code",
   "execution_count": 13,
   "id": "b1c8c840",
   "metadata": {},
   "outputs": [
    {
     "name": "stdout",
     "output_type": "stream",
     "text": [
      "        date group  orders  buyers  revenue  visitors\n",
      "0 2019-08-01     A      24      20   148579       719\n",
      "1 2019-08-01     B      21      20   101217       713\n",
      "2 2019-08-02     A      44      38   242401      1338\n",
      "3 2019-08-02     B      45      43   266748      1294\n",
      "4 2019-08-03     A      68      62   354874      1845\n"
     ]
    }
   ],
   "source": [
    "# создаем массив уникальных пар значений дат и групп теста\n",
    "datesGroups = orders[['date','group']].drop_duplicates()\n",
    "\n",
    "# создаем таблицу куммулятивных данных о заказах\n",
    "ordersAggregated = (\n",
    "    datesGroups.apply(lambda x: orders[np.logical_and(orders['date'] <= x['date'], orders['group'] == x['group'])]\n",
    ".agg({'date' : 'max', 'group' : 'max', 'transactionId' : 'nunique', 'visitorId' : 'nunique', 'revenue' : 'sum'}), axis=1)\n",
    ".sort_values(by=['date','group'])\n",
    ")\n",
    "\n",
    "# создаем таблицу куммулятивных данных о посетителях\n",
    "visitorsAggregated = (\n",
    "    datesGroups.apply(lambda x: visitors[np.logical_and(visitors['date'] <= x['date'], visitors['group'] == x['group'])]\n",
    ".agg({'date' : 'max', 'group' : 'max', 'visitors' : 'sum'}), axis=1)\n",
    ".sort_values(by=['date','group'])\n",
    ")\n",
    "\n",
    "\n",
    "# объединяем кумулятивные данные в одной таблице и присваиваем ее столбцам понятные названия\n",
    "cumulativeData = ordersAggregated.merge(visitorsAggregated, left_on=['date', 'group'], right_on=['date', 'group'])\n",
    "cumulativeData.columns = ['date', 'group', 'orders', 'buyers', 'revenue', 'visitors']\n",
    "\n",
    "print(cumulativeData.head(5))"
   ]
  },
  {
   "cell_type": "code",
   "execution_count": 14,
   "id": "a04f06c0",
   "metadata": {},
   "outputs": [
    {
     "name": "stdout",
     "output_type": "stream",
     "text": [
      "Минимальная дата по изначальному датасету: 2019-08-01 00:00:00 По куммулятивному датасету: 2019-08-01 00:00:00\n",
      "\n",
      "Максимальная дата по изначальному датасету: 2019-08-31 00:00:00 По куммулятивному датасету: 2019-08-31 00:00:00\n"
     ]
    }
   ],
   "source": [
    "print('Минимальная дата по изначальному датасету:', cumulativeData['date'].min()\\\n",
    "      ,'По куммулятивному датасету:', orders['date'].min())\n",
    "print()\n",
    "print('Максимальная дата по изначальному датасету:', cumulativeData['date'].max()\\\n",
    "      ,'По куммулятивному датасету:', orders['date'].max())"
   ]
  },
  {
   "cell_type": "markdown",
   "id": "6bddf788",
   "metadata": {},
   "source": [
    "Минимальная и максимальная даты в исходном и куммулятивном датасетах совпадают, значит датафрейм создан корректно"
   ]
  },
  {
   "cell_type": "markdown",
   "id": "4b00a56a",
   "metadata": {},
   "source": [
    "Подготовили данные для дальнейшенго построения графиков"
   ]
  },
  {
   "cell_type": "code",
   "execution_count": 15,
   "id": "fbfbb069",
   "metadata": {},
   "outputs": [
    {
     "data": {
      "image/png": "[encoded data removed]",
      "text/plain": [
       "<Figure size 864x360 with 1 Axes>"
      ]
     },
     "metadata": {
      "needs_background": "light"
     },
     "output_type": "display_data"
    }
   ],
   "source": [
    "# датафрейм с кумулятивным количеством заказов и кумулятивной выручкой по дням в группе А\n",
    "cumulativeRevenueA = cumulativeData[cumulativeData['group']=='A'][['date','revenue', 'orders']]\n",
    "\n",
    "# датафрейм с кумулятивным количеством заказов и кумулятивной выручкой по дням в группе B\n",
    "cumulativeRevenueB = cumulativeData[cumulativeData['group']=='B'][['date','revenue', 'orders']]\n",
    "# задаем размер графика для корректного отображения\n",
    "plt.figure(figsize=(12,5))\n",
    "# Строим график выручки группы А\n",
    "plt.plot(cumulativeRevenueA['date'], cumulativeRevenueA['revenue'], label='A')\n",
    "\n",
    "# Строим график выручки группы B\n",
    "plt.plot(cumulativeRevenueB['date'], cumulativeRevenueB['revenue'], label='B')\n",
    "plt.xlabel('даты')\n",
    "plt.ylabel('выручка')\n",
    "plt.title('Куммулятивный график выручки групп А и В')\n",
    "plt.legend();\n"
   ]
  },
  {
   "cell_type": "markdown",
   "id": "e918d054",
   "metadata": {},
   "source": [
    "**Построили график куммулятивной выручки по дня в разбивке по группам теста A/B**  \n",
    "Видим, что версия теста B на всем протяжении выше по куммулятивной выруче, но в данных присутствует \"скачок\" от 2019-08-18, который может являться аномалией и вляить на резульатты теста"
   ]
  },
  {
   "cell_type": "code",
   "execution_count": 16,
   "id": "c6f0ffdb",
   "metadata": {
    "scrolled": false
   },
   "outputs": [
    {
     "data": {
      "image/png": "[encoded data removed]",
      "text/plain": [
       "<Figure size 864x360 with 1 Axes>"
      ]
     },
     "metadata": {
      "needs_background": "light"
     },
     "output_type": "display_data"
    }
   ],
   "source": [
    "# задаем размер графика для корректного отображения\n",
    "plt.figure(figsize=(12,5))\n",
    "\n",
    "plt.plot(cumulativeRevenueA['date'], cumulativeRevenueA['revenue']/cumulativeRevenueA['orders'], label='A')\n",
    "plt.plot(cumulativeRevenueB['date'], cumulativeRevenueB['revenue']/cumulativeRevenueB['orders'], label='B')\n",
    "plt.xlabel('даты')\n",
    "plt.ylabel('средний чек')\n",
    "plt.title('Куммулятивный график среднего чека групп А и В')\n",
    "plt.legend();"
   ]
  },
  {
   "cell_type": "markdown",
   "id": "63f1cb61",
   "metadata": {},
   "source": [
    "**Построили график куммулятивного среднего чека по дням в разбивке по группам теста A/B**  \n",
    "Видим похожу картину, В выше на протяжении большей части теста, но в данные есть аномалия, которая может некорректно менять результаты теста. Это может быть всплеском числа заказов 2019-08-18 или большая покупка пользователя, но это существенно меняет результат теста\n"
   ]
  },
  {
   "cell_type": "code",
   "execution_count": 17,
   "id": "42cb0320",
   "metadata": {
    "scrolled": false
   },
   "outputs": [
    {
     "data": {
      "image/png": "[encoded data removed]",
      "text/plain": [
       "<Figure size 864x360 with 1 Axes>"
      ]
     },
     "metadata": {
      "needs_background": "light"
     },
     "output_type": "display_data"
    }
   ],
   "source": [
    "# собираем данные в одном датафрейме\n",
    "mergedCumulativeRevenue = cumulativeRevenueA.merge(cumulativeRevenueB, left_on='date', right_on='date', how='left', suffixes=['A', 'B'])\n",
    "\n",
    "# задаем размер графика для корректного отображения\n",
    "plt.figure(figsize=(12,5))\n",
    "\n",
    "# cтроим отношение средних чеков\n",
    "plt.plot(mergedCumulativeRevenue['date'], (mergedCumulativeRevenue['revenueB']/mergedCumulativeRevenue['ordersB'])/(mergedCumulativeRevenue['revenueA']/mergedCumulativeRevenue['ordersA'])-1)\n",
    "plt.xlabel('даты')\n",
    "plt.ylabel('отношение среднего чека группы В к группе А')\n",
    "plt.title('Соотношение средних чеков группы В к группе А')\n",
    "\n",
    "# добавляем ось X\n",
    "plt.axhline(y=0, color='black', linestyle='--');"
   ]
  },
  {
   "cell_type": "markdown",
   "id": "8726fd35",
   "metadata": {},
   "source": [
    "**Построили график относительного изменения куммулятивного среднего чека группы В к группе А**  \n",
    "  \n",
    "На протяжении большей части теста  график резко \"скачет\", что информирует о некоторых всплесках в данных (возможно аномалии)"
   ]
  },
  {
   "cell_type": "code",
   "execution_count": 18,
   "id": "54ecc4fc",
   "metadata": {
    "scrolled": false
   },
   "outputs": [
    {
     "data": {
      "image/png": "[encoded data removed]",
      "text/plain": [
       "<Figure size 864x360 with 1 Axes>"
      ]
     },
     "metadata": {
      "needs_background": "light"
     },
     "output_type": "display_data"
    }
   ],
   "source": [
    "# считаем среднее количество заказов на посетителя\n",
    "cumulativeData['conversion'] = cumulativeData['orders']/cumulativeData['visitors']\n",
    "\n",
    "# отделяем данные по группе A\n",
    "cumulativeDataA = cumulativeData[cumulativeData['group']=='A']\n",
    "\n",
    "# отделяем данные по группе B\n",
    "cumulativeDataB = cumulativeData[cumulativeData['group']=='B']\n",
    "\n",
    "# задаем размер графика для корректного отображения\n",
    "plt.figure(figsize=(12,5))\n",
    "\n",
    "# строим графики\n",
    "plt.plot(cumulativeDataA['date'], cumulativeDataA['conversion'], label='A')\n",
    "plt.plot(cumulativeDataB['date'], cumulativeDataB['conversion'], label='B')\n",
    "plt.xlabel('даты')\n",
    "plt.ylabel('конверсия')\n",
    "plt.title('График куммулятивного среднего количесьтва заказов на посетителя')\n",
    "plt.legend();\n",
    "\n",
    "# задаем масштаб осей\n",
    "# plt.axis([\"2019-08-01\", '2019-09-01', 0, 0.015])\n",
    "# не получилось задать масштаб оси х через команду с мин и макс датой, выходит ошибка:\n",
    "# ConversionError: Failed to convert value(s) to axis units: '2019-08-01'"
   ]
  },
  {
   "cell_type": "markdown",
   "id": "4cb8b34d",
   "metadata": {},
   "source": [
    "**Построили график куммулятивного среднего количества заказов на посетителя по группам**  \n",
    "  \n",
    "Видим, что группа теста В находится выше, но также выидим влияние резкого роста, начиная с 2019-08-04, нужно смотреть, что повлияло на этот рост  \n",
    "ПО группе А вначале теста тоже присущи скачки - сначала вверх, далее вниз до снижения конверсии. Возможно причиной такого скачка вначале теста могут быть некие технические проблемы"
   ]
  },
  {
   "cell_type": "code",
   "execution_count": 19,
   "id": "106c5582",
   "metadata": {},
   "outputs": [
    {
     "data": {
      "image/png": "[encoded data removed]",
      "text/plain": [
       "<Figure size 864x360 with 1 Axes>"
      ]
     },
     "metadata": {
      "needs_background": "light"
     },
     "output_type": "display_data"
    }
   ],
   "source": [
    "mergedCumulativeConversions = cumulativeDataA[['date','conversion']]\\\n",
    ".merge(cumulativeDataB[['date','conversion']], left_on='date', right_on='date', how='left', suffixes=['A', 'B'])\n",
    "\n",
    "# задаем размер графика для корректного отображения\n",
    "plt.figure(figsize=(12,5))\n",
    "\n",
    "plt.plot(\n",
    "    mergedCumulativeConversions['date'],\\\n",
    "    mergedCumulativeConversions['conversionB']/mergedCumulativeConversions['conversionA']-1\n",
    ");\n",
    "plt.xlabel('даты')\n",
    "plt.ylabel('отношение среднего количества группы В к группе А')\n",
    "plt.title('График относительного изменения куммулятивного среднего количества заказов на посетителя')\n",
    "\n",
    "\n",
    "plt.axhline(y=0, color='black', linestyle='--');\n",
    "plt.axhline(y=-0.1, color='grey', linestyle='--');\n"
   ]
  },
  {
   "cell_type": "markdown",
   "id": "0d490646",
   "metadata": {},
   "source": [
    "**Построили график относительного изменения куммулятивного количества заказов группы В к группе А**  \n",
    "  \n",
    "Вначале теста наблюдались переломы графика, сейчас ситуация стабилизировалсь и среднее количество заказов на пользователя выше у у пользователей группы на 0.15-0.20 раза"
   ]
  },
  {
   "cell_type": "code",
   "execution_count": 20,
   "id": "6d72de0b",
   "metadata": {},
   "outputs": [
    {
     "name": "stdout",
     "output_type": "stream",
     "text": [
      "          userId  orders\n",
      "1023  4256040402      11\n",
      "591   2458001652      11\n",
      "569   2378935119       9\n",
      "487   2038680547       8\n",
      "44     199603092       5\n",
      "744   3062433592       5\n",
      "55     237748145       5\n",
      "917   3803269165       5\n",
      "299   1230306981       5\n",
      "897   3717692402       5\n"
     ]
    }
   ],
   "source": [
    "# Подсчитаем количество заказов по пользователям\n",
    "\n",
    "ordersByUsers = (\n",
    "    orders.groupby('visitorId', as_index=False)\n",
    "    .agg({'transactionId': 'nunique'})\n",
    ")\n",
    "\n",
    "ordersByUsers.columns = ['userId', 'orders']\n",
    "\n",
    "print(ordersByUsers.sort_values(by='orders', ascending=False).head(10)) "
   ]
  },
  {
   "cell_type": "code",
   "execution_count": 21,
   "id": "ad22d69b",
   "metadata": {},
   "outputs": [
    {
     "data": {
      "image/png": "[encoded data removed]",
      "text/plain": [
       "<Figure size 432x288 with 1 Axes>"
      ]
     },
     "metadata": {
      "needs_background": "light"
     },
     "output_type": "display_data"
    }
   ],
   "source": [
    "# Построим точечную диаграмму числа заказов на одного пользователя\n",
    "\n",
    "x_values = pd.Series(range(0,len(ordersByUsers)))\n",
    "\n",
    "plt.scatter(x_values, ordersByUsers['orders']);\n",
    "plt.xlabel('индекс пользователя')\n",
    "plt.ylabel('количество заказов')\n",
    "plt.title('Точечный график распределения количества заказов на пользователя');"
   ]
  },
  {
   "cell_type": "markdown",
   "id": "3495b7d2",
   "metadata": {},
   "source": [
    "**Построили точечный график количества заказов на одного пользователя**  \n",
    "  \n",
    "Видим, что у большинства пользователей количество заказов равно 1, есть некоторое количество с 2-4 заказами, но их доля непотнятна, также есть малая доля пользоватлей с количсетвом заказов больше 4-5 - возможно их стоит считать аномалиями"
   ]
  },
  {
   "cell_type": "code",
   "execution_count": 22,
   "id": "17835da9",
   "metadata": {},
   "outputs": [
    {
     "name": "stdout",
     "output_type": "stream",
     "text": [
      "[2. 4.]\n"
     ]
    }
   ],
   "source": [
    "# Посчитаем 95 и 99 перцентили количества заказов на одного пользователя\n",
    "\n",
    "print(np.percentile(ordersByUsers['orders'], [95, 99])) "
   ]
  },
  {
   "cell_type": "markdown",
   "id": "ca27d680",
   "metadata": {},
   "source": [
    "Не более 5% пользователей выполняли более 2 заказов и не более 1% пользователей сделали 4 заказа  \n",
    "Для дальнейшего анализа теста примем за верхнюю границу количества заказов - 2 включительно. Остальных пользователей с количеством заказов более 2 исключим, чтобы аномальные значения не вляили на результаты нашего теста."
   ]
  },
  {
   "cell_type": "code",
   "execution_count": 23,
   "id": "349e9cc2",
   "metadata": {
    "scrolled": false
   },
   "outputs": [
    {
     "data": {
      "image/png": "[encoded data removed]",
      "text/plain": [
       "<Figure size 432x288 with 1 Axes>"
      ]
     },
     "metadata": {
      "needs_background": "light"
     },
     "output_type": "display_data"
    }
   ],
   "source": [
    "x_values = pd.Series(range(0,len(orders['revenue'])))\n",
    "plt.scatter(x_values, orders['revenue']);\n",
    "plt.xlabel('индекс пользователя')\n",
    "plt.ylabel('сумма заказа')\n",
    "plt.title('Точечный график распределения суммы заказа на пользователя');"
   ]
  },
  {
   "cell_type": "code",
   "execution_count": 24,
   "id": "6e037693",
   "metadata": {},
   "outputs": [
    {
     "data": {
      "image/png": "[encoded data removed]",
      "text/plain": [
       "<Figure size 432x288 with 1 Axes>"
      ]
     },
     "metadata": {
      "needs_background": "light"
     },
     "output_type": "display_data"
    }
   ],
   "source": [
    "plt.scatter(x_values, orders['revenue']);\n",
    "plt.ylim(0, 100000)\n",
    "plt.xlabel('индекс пользователя')\n",
    "plt.ylabel('сумма заказа')\n",
    "plt.title('Точечный график распределения суммы заказа на пользователя');"
   ]
  },
  {
   "cell_type": "markdown",
   "id": "80ba8a65",
   "metadata": {},
   "source": [
    "**Построили точечный график стоимости заказов**  \n",
    "  \n",
    "Видим, что у большинства пользователей стоимость заказа равна до 40000 р, остальные значения скорее являются аномалиями, далее посмотрим 95 и 99 перцентели, чтобы определить границу анмоальных и нормальных значений"
   ]
  },
  {
   "cell_type": "code",
   "execution_count": 25,
   "id": "cf7ad4a5",
   "metadata": {},
   "outputs": [
    {
     "name": "stdout",
     "output_type": "stream",
     "text": [
      "[28000.  58233.2]\n"
     ]
    }
   ],
   "source": [
    "# Посчитаем 95 и 99 перцентили количества заказов на одного пользователя\n",
    "\n",
    "print(np.percentile(orders['revenue'], [95, 99])) "
   ]
  },
  {
   "cell_type": "markdown",
   "id": "93c0dbf3",
   "metadata": {},
   "source": [
    "Не более 5% пользователей имеют сумму чека более 28000 р и не более 1% с сумой чека более 58233.2 р  \n",
    "Для дальнейшего анализа по \"очищенным\" данным примем сумму чека не более 28000 р"
   ]
  },
  {
   "cell_type": "code",
   "execution_count": 26,
   "id": "f9890dbc",
   "metadata": {},
   "outputs": [
    {
     "name": "stdout",
     "output_type": "stream",
     "text": [
      "p-значение:  0.000\n",
      "Отвергаем нулевую гипотезу: распределение не нормально\n"
     ]
    }
   ],
   "source": [
    "# Нулевая гипотеза -  распределение является нормальным\n",
    "# Альтернативная гипотеза -  распределение не является нормальным\n",
    "\n",
    "alpha = 0.05  # критический уровень статистической значимости\n",
    "\n",
    "results = st.shapiro(ordersByUsers['orders'])\n",
    "p_value = results[\n",
    "    1\n",
    "]  # второе значение в массиве результатов (с индексом 1) - p-value\n",
    "\n",
    "print('p-значение: ', \"{0:.3f}\".format(p_value))\n",
    "\n",
    "if p_value < alpha:\n",
    "    print('Отвергаем нулевую гипотезу: распределение не нормально')\n",
    "else:\n",
    "    print('Не получилось отвергнуть нулевую гипотезу, всё нормально') \n"
   ]
  },
  {
   "cell_type": "code",
   "execution_count": 27,
   "id": "95678fef",
   "metadata": {},
   "outputs": [
    {
     "name": "stdout",
     "output_type": "stream",
     "text": [
      "p-значение:  0.000\n",
      "Отвергаем нулевую гипотезу: распределение не нормально\n"
     ]
    }
   ],
   "source": [
    "# Нулевая гипотеза -  распределение является нормальным\n",
    "# Альтернативная гипотеза -  распределение не является нормальным\n",
    "\n",
    "alpha = 0.05  # критический уровень статистической значимости\n",
    "\n",
    "results = st.shapiro(orders['revenue'])\n",
    "p_value = results[\n",
    "    1\n",
    "]  # второе значение в массиве результатов (с индексом 1) - p-value\n",
    "\n",
    "print('p-значение: ', \"{0:.3f}\".format(p_value))\n",
    "\n",
    "if p_value < alpha:\n",
    "    print('Отвергаем нулевую гипотезу: распределение не нормально')\n",
    "else:\n",
    "    print('Не получилось отвергнуть нулевую гипотезу, всё нормально') \n"
   ]
  },
  {
   "cell_type": "code",
   "execution_count": 28,
   "id": "6fc52165",
   "metadata": {
    "scrolled": false
   },
   "outputs": [
    {
     "data": {
      "image/png": "[encoded data removed]",
      "text/plain": [
       "<Figure size 432x288 with 1 Axes>"
      ]
     },
     "metadata": {
      "needs_background": "light"
     },
     "output_type": "display_data"
    }
   ],
   "source": [
    "plt.hist(ordersByUsers['orders']);\n",
    "plt.ylabel('частота')\n",
    "plt.xlabel('количество заказов')\n",
    "plt.title('Гистограмма распределения количества заказов');"
   ]
  },
  {
   "cell_type": "code",
   "execution_count": 29,
   "id": "b4810ee9",
   "metadata": {
    "scrolled": false
   },
   "outputs": [
    {
     "data": {
      "image/png": "[encoded data removed]",
      "text/plain": [
       "<Figure size 432x288 with 1 Axes>"
      ]
     },
     "metadata": {
      "needs_background": "light"
     },
     "output_type": "display_data"
    }
   ],
   "source": [
    "plt.hist(orders['revenue']);\n",
    "plt.ylabel('частота покупок')\n",
    "plt.xlabel('сумма покупки 1*10^6')\n",
    "plt.title('Гистограмма распределения количества заказов');"
   ]
  },
  {
   "cell_type": "markdown",
   "id": "fcb0e79f",
   "metadata": {},
   "source": [
    "**Методом st.shapiro(x) проверили, можно ли считать эту переменную нормально распределённой**  \n",
    "Как и предполагалось, распределение данных не является номральным, поэтому для дальнейшего анализа по \"сырым\" данным будем применять ***Непараметрический тест Уилкоксона-Манна-Уитни***"
   ]
  },
  {
   "cell_type": "markdown",
   "id": "d68dfc9d",
   "metadata": {},
   "source": [
    "### Анализ результатов теста по \"сырым\" данным"
   ]
  },
  {
   "cell_type": "code",
   "execution_count": 30,
   "id": "3ab514f8",
   "metadata": {},
   "outputs": [
    {
     "name": "stdout",
     "output_type": "stream",
     "text": [
      "        date  ordersPerDateA  revenuePerDateA  ordersPerDateB  \\\n",
      "0 2019-08-01              24           148579              21   \n",
      "1 2019-08-02              20            93822              24   \n",
      "2 2019-08-03              24           112473              16   \n",
      "3 2019-08-04              16            70825              17   \n",
      "4 2019-08-05              25           124218              23   \n",
      "\n",
      "   revenuePerDateB  ordersCummulativeA  revenueCummulativeA  \\\n",
      "0           101217                  24               148579   \n",
      "1           165531                  44               242401   \n",
      "2           114248                  68               354874   \n",
      "3           108571                  84               425699   \n",
      "4            92428                 109               549917   \n",
      "\n",
      "   ordersCummulativeB  revenueCummulativeB  visitorsPerDateA  \\\n",
      "0                  21               101217               719   \n",
      "1                  45               266748               619   \n",
      "2                  61               380996               507   \n",
      "3                  78               489567               717   \n",
      "4                 101               581995               756   \n",
      "\n",
      "   visitorsPerDateB  visitorsCummulativeA  visitorsCummulativeB  \n",
      "0               713                   719                   713  \n",
      "1               581                  1338                  1294  \n",
      "2               509                  1845                  1803  \n",
      "3               770                  2562                  2573  \n",
      "4               707                  3318                  3280  \n"
     ]
    }
   ],
   "source": [
    "# подготовим данные\n",
    "visitorsADaily = visitors[visitors['group'] == 'A'][['date', 'visitors']]\n",
    "visitorsADaily.columns = ['date', 'visitorsPerDateA']\n",
    "\n",
    "visitorsACummulative = visitorsADaily.apply(\n",
    "    lambda x: visitorsADaily[visitorsADaily['date'] <= x['date']].agg(\n",
    "        {'date': 'max', 'visitorsPerDateA': 'sum'}\n",
    "    ),\n",
    "    axis=1,\n",
    ")\n",
    "visitorsACummulative.columns = ['date', 'visitorsCummulativeA']\n",
    "\n",
    "visitorsBDaily = visitors[visitors['group'] == 'B'][['date', 'visitors']]\n",
    "visitorsBDaily.columns = ['date', 'visitorsPerDateB']\n",
    "\n",
    "visitorsBCummulative = visitorsBDaily.apply(\n",
    "    lambda x: visitorsBDaily[visitorsBDaily['date'] <= x['date']].agg(\n",
    "        {'date': 'max', 'visitorsPerDateB': 'sum'}\n",
    "    ),\n",
    "    axis=1,\n",
    ")\n",
    "visitorsBCummulative.columns = ['date', 'visitorsCummulativeB']\n",
    "\n",
    "ordersADaily = (\n",
    "    orders[orders['group'] == 'A'][['date', 'transactionId', 'visitorId', 'revenue']]\n",
    "    .groupby('date', as_index=False)\n",
    "    .agg({'transactionId': pd.Series.nunique, 'revenue': 'sum'})\n",
    ")\n",
    "ordersADaily.columns = ['date', 'ordersPerDateA', 'revenuePerDateA']\n",
    "\n",
    "ordersACummulative = ordersADaily.apply(\n",
    "    lambda x: ordersADaily[ordersADaily['date'] <= x['date']].agg(\n",
    "        {'date': 'max', 'ordersPerDateA': 'sum', 'revenuePerDateA': 'sum'}\n",
    "    ),\n",
    "    axis=1,\n",
    ").sort_values(by=['date'])\n",
    "ordersACummulative.columns = [\n",
    "    'date',\n",
    "    'ordersCummulativeA',\n",
    "    'revenueCummulativeA',\n",
    "]\n",
    "\n",
    "ordersBDaily = (\n",
    "    orders[orders['group'] == 'B'][['date', 'transactionId', 'visitorId', 'revenue']]\n",
    "    .groupby('date', as_index=False)\n",
    "    .agg({'transactionId': pd.Series.nunique, 'revenue': 'sum'})\n",
    ")\n",
    "ordersBDaily.columns = ['date', 'ordersPerDateB', 'revenuePerDateB']\n",
    "\n",
    "ordersBCummulative = ordersBDaily.apply(\n",
    "    lambda x: ordersBDaily[ordersBDaily['date'] <= x['date']].agg(\n",
    "        {'date': 'max', 'ordersPerDateB': 'sum', 'revenuePerDateB': 'sum'}\n",
    "    ),\n",
    "    axis=1,\n",
    ").sort_values(by=['date'])\n",
    "ordersBCummulative.columns = [\n",
    "    'date',\n",
    "    'ordersCummulativeB',\n",
    "    'revenueCummulativeB',\n",
    "]\n",
    "\n",
    "data = (\n",
    "    ordersADaily.merge(\n",
    "        ordersBDaily, left_on='date', right_on='date', how='left'\n",
    "    )\n",
    "    .merge(ordersACummulative, left_on='date', right_on='date', how='left')\n",
    "    .merge(ordersBCummulative, left_on='date', right_on='date', how='left')\n",
    "    .merge(visitorsADaily, left_on='date', right_on='date', how='left')\n",
    "    .merge(visitorsBDaily, left_on='date', right_on='date', how='left')\n",
    "    .merge(visitorsACummulative, left_on='date', right_on='date', how='left')\n",
    "    .merge(visitorsBCummulative, left_on='date', right_on='date', how='left')\n",
    ")\n",
    "\n",
    "print(data.head(5))"
   ]
  },
  {
   "cell_type": "code",
   "execution_count": 31,
   "id": "085a7d7c",
   "metadata": {},
   "outputs": [],
   "source": [
    "# Создадим переменные ordersByUsersA и ordersByUsersB со столбцами ['userId', 'orders']\n",
    "# В них для пользователей, которые заказывали хотя бы 1 раз, укажем число совершённых заказов\n",
    "\n",
    "ordersByUsersA = (\n",
    "    orders[orders['group'] == 'A']\n",
    "    .groupby('visitorId', as_index=False)\n",
    "    .agg({'transactionId': pd.Series.nunique})\n",
    ")\n",
    "ordersByUsersA.columns = ['userId', 'orders']\n",
    "\n",
    "ordersByUsersB = (\n",
    "    orders[orders['group'] == 'B']\n",
    "    .groupby('visitorId', as_index=False)\n",
    "    .agg({'transactionId': pd.Series.nunique})\n",
    ")\n",
    "ordersByUsersB.columns = ['userId', 'orders']\n",
    "\n",
    "# Объявим переменные sampleA и sampleB, в которых пользователям из разных групп будет соответствовать количество заказов\n",
    "# Тем, кто ничего не заказал, будут соответствовать нули\n",
    "# Это нужно, чтобы подготовить выборки к проверке критерием Манна-Уитни\n",
    "\n",
    "sampleA = pd.concat(\n",
    "    [\n",
    "        ordersByUsersA['orders'],\n",
    "        pd.Series(\n",
    "            0, index=np.arange(data['visitorsPerDateA'].sum() - len(ordersByUsersA['orders'])),\n",
    "            name='orders'\n",
    "        )\n",
    "    ],\n",
    "    axis=0\n",
    ")\n",
    "\n",
    "sampleB = pd.concat(\n",
    "    [\n",
    "        ordersByUsersB['orders'],\n",
    "        pd.Series(\n",
    "            0, index=np.arange(data['visitorsPerDateB'].sum() - len(ordersByUsersB['orders'])),\n",
    "                  name='orders'\n",
    "        )\n",
    "    ],\n",
    "    axis=0\n",
    ")\n"
   ]
  },
  {
   "cell_type": "code",
   "execution_count": 32,
   "id": "59599d50",
   "metadata": {},
   "outputs": [
    {
     "name": "stdout",
     "output_type": "stream",
     "text": [
      "p-значение:  0.016792355056752608\n",
      "Отвергаем нулевую гипотезу: разница статистически значима\n"
     ]
    }
   ],
   "source": [
    "# Применим Непараметрический тест Уилкоксона-Манна-Уитни\n",
    "# Проверим статистическую значимость различий в среднем количестве заказов на посетителя\n",
    "\n",
    "# Нулевая гипотеза -  Различий в среднем количестве заказов на посетителя нет\n",
    "# Альтернативная гипотеза -  Различия в среднем количестве заказов имеются \n",
    "\n",
    "alpha = 0.05  # критический уровень статистической значимости\n",
    "\n",
    "results = st.mannwhitneyu(sampleA, sampleB)\n",
    "\n",
    "print('p-значение: ', results.pvalue)\n",
    "\n",
    "if results.pvalue < alpha:\n",
    "    print('Отвергаем нулевую гипотезу: разница статистически значима')\n",
    "else:\n",
    "    print(\n",
    "        'Не получилось отвергнуть нулевую гипотезу, вывод о различии сделать нельзя'\n",
    "    ) \n",
    "    "
   ]
  },
  {
   "cell_type": "markdown",
   "id": "e2c8c43a",
   "metadata": {},
   "source": [
    "<div class=\"alert alert-block alert-success\">\n",
    "    \n",
    "**Комментарий от ревьюера**\n",
    "\n",
    "Верно, отвергаем нулевую гипотезу: между группами есть статистически значимое различие.\n",
    "</div>"
   ]
  },
  {
   "cell_type": "code",
   "execution_count": 33,
   "id": "f6c06e4e",
   "metadata": {},
   "outputs": [
    {
     "name": "stdout",
     "output_type": "stream",
     "text": [
      "Относительное превосходство группы В над группой А в среднем количестве заказов = 0.138\n"
     ]
    }
   ],
   "source": [
    "print('Относительное превосходство группы В над группой А в среднем количестве заказов =',\\\n",
    "      \"{0:.3f}\".format(sampleB.mean() / sampleA.mean() - 1))"
   ]
  },
  {
   "cell_type": "markdown",
   "id": "9072555a",
   "metadata": {},
   "source": [
    "**Провели тест Уилкоксона-Манна-Уитни на определение статистической значимости различия в среднем количестве заказов групп А и В**  \n",
    "Тест показал статистическую значимость, p-value равн0 0.016 при alpha = 0.05  \n",
    "Также посмотрели разницу между средними значениями количества заказов групп, по имеющимся данным, она составляет 0.138 в пользу группы В\n"
   ]
  },
  {
   "cell_type": "code",
   "execution_count": 34,
   "id": "34b34f8a",
   "metadata": {},
   "outputs": [
    {
     "name": "stdout",
     "output_type": "stream",
     "text": [
      "p-значение:  0.7292909855432458\n",
      "Не получилось отвергнуть нулевую гипотезу, вывод о различии сделать нельзя\n"
     ]
    }
   ],
   "source": [
    "# проверим статистическую значимость различий в среднем чеке между группами\n",
    "# Нулевая гипотеза: различий в среднем чеке между группами нет\n",
    "# Альтернативная гипотеза: различий в среднем чеке между группами есть\n",
    "\n",
    "alpha = 0.05  # критический уровень статистической значимости\n",
    "\n",
    "results = st.mannwhitneyu(orders[orders['group']=='A']['revenue'], orders[orders['group']=='B']['revenue'])\n",
    "\n",
    "print('p-значение: ', results.pvalue)\n",
    "\n",
    "if results.pvalue < alpha:\n",
    "    print('Отвергаем нулевую гипотезу: разница статистически значима')\n",
    "else:\n",
    "    print(\n",
    "        'Не получилось отвергнуть нулевую гипотезу, вывод о различии сделать нельзя'\n",
    "    ) \n",
    "    "
   ]
  },
  {
   "cell_type": "code",
   "execution_count": 35,
   "id": "77227c87",
   "metadata": {},
   "outputs": [
    {
     "name": "stdout",
     "output_type": "stream",
     "text": [
      "Относительное превосходство группы В над группой А в среднем чеке = 0.259\n"
     ]
    }
   ],
   "source": [
    "print('Относительное превосходство группы В над группой А в среднем чеке =',\\\n",
    "      '{0:.3f}'.format(orders[orders['group']=='B']['revenue'].mean()/orders[orders['group']=='A']['revenue'].mean()-1)) "
   ]
  },
  {
   "cell_type": "markdown",
   "id": "ad846bb5",
   "metadata": {},
   "source": [
    "**Провели тест Уилкоксона-Манна-Уитни на определение статистической значимости различия в среднем чеке групп А и В**  \n",
    "Тест показал, что статистической значимости различия средних чеков нет, p-value равн0 0.73 при alpha = 0.05  \n",
    "Хотя средний чек группы В выше среднего чека группы А\n"
   ]
  },
  {
   "cell_type": "markdown",
   "id": "a0028991",
   "metadata": {},
   "source": [
    "### Анализ результатов теста по \"очищенным\" данным"
   ]
  },
  {
   "cell_type": "code",
   "execution_count": 36,
   "id": "3744e133",
   "metadata": {},
   "outputs": [
    {
     "name": "stdout",
     "output_type": "stream",
     "text": [
      "1099    148427295\n",
      "18      199603092\n",
      "928     204675465\n",
      "23      237748145\n",
      "37      249864742\n",
      "dtype: int64\n",
      "74\n"
     ]
    }
   ],
   "source": [
    "# Сделаем срезы пользователей с числом заказов больше 2 — usersWithManyOrders \n",
    "# и пользователей, совершивших заказы дороже 20 000 — usersWithExpensiveOrders \n",
    "\n",
    "usersWithManyOrders = pd.concat(\n",
    "    [\n",
    "        ordersByUsersA[ordersByUsersA['orders'] > np.percentile(ordersByUsers['orders'], 95)]['userId'],\n",
    "        ordersByUsersB[ordersByUsersB['orders'] > np.percentile(ordersByUsers['orders'], 95)]['userId'],\n",
    "    ],\n",
    "    axis=0,\n",
    ")\n",
    "usersWithExpensiveOrders = orders[orders['revenue'] > np.percentile(orders['revenue'], 95)]['visitorId']\n",
    "abnormalUsers = (\n",
    "    pd.concat([usersWithManyOrders, usersWithExpensiveOrders], axis=0)\n",
    "    .drop_duplicates()\n",
    "    .sort_values()\n",
    ")\n",
    "print(abnormalUsers.head(5))\n",
    "print(abnormalUsers.shape[0])"
   ]
  },
  {
   "cell_type": "markdown",
   "id": "aed22404",
   "metadata": {},
   "source": [
    "Всего отфильтровали 74 аномальных пользователя с количеством заказов более 2 и/или суммой чека более 28000 р"
   ]
  },
  {
   "cell_type": "code",
   "execution_count": 37,
   "id": "df61cde3",
   "metadata": {},
   "outputs": [],
   "source": [
    "#отфильтруем данные для дальнейшей работы с \"очищенными\" данными \n",
    "sampleAFiltered = pd.concat(\n",
    "    [\n",
    "        ordersByUsersA[\n",
    "            np.logical_not(ordersByUsersA['userId'].isin(abnormalUsers))\n",
    "        ]['orders'],\n",
    "        pd.Series(\n",
    "            0,\n",
    "            index=np.arange(\n",
    "                data['visitorsPerDateA'].sum() - len(ordersByUsersA['orders'])\n",
    "            ),\n",
    "            name='orders',\n",
    "        ),\n",
    "    ],\n",
    "    axis=0,\n",
    ")\n",
    "\n",
    "sampleBFiltered = pd.concat(\n",
    "    [\n",
    "        ordersByUsersB[\n",
    "            np.logical_not(ordersByUsersB['userId'].isin(abnormalUsers))\n",
    "        ]['orders'],\n",
    "        pd.Series(\n",
    "            0,\n",
    "            index=np.arange(\n",
    "                data['visitorsPerDateB'].sum() - len(ordersByUsersB['orders'])\n",
    "            ),\n",
    "            name='orders',\n",
    "        ),\n",
    "    ],\n",
    "    axis=0,\n",
    ")"
   ]
  },
  {
   "cell_type": "code",
   "execution_count": 38,
   "id": "81aa9cf6",
   "metadata": {
    "scrolled": true
   },
   "outputs": [
    {
     "name": "stdout",
     "output_type": "stream",
     "text": [
      "p-значение 0.013042592743036745\n",
      "Отвергаем нулевую гипотезу: разница статистически значима\n"
     ]
    }
   ],
   "source": [
    "# Нулевая гипотеза разницы в среднем количестве заказов между группами нет\n",
    "# Альтернативная гипотеза разница в среденм количестве заказов между группами есть\n",
    "\n",
    "alpha = 0.05 # критический уровень статистической значимости\n",
    "\n",
    "results = st.mannwhitneyu(sampleAFiltered, sampleBFiltered)\n",
    "\n",
    "print('p-значение', results[1])\n",
    "\n",
    "if results[1] < alpha:\n",
    "    print('Отвергаем нулевую гипотезу: разница статистически значима')\n",
    "else: \n",
    "    print('Не получилось отвергнуть нулевую гипотезу, вывод о различии сделать нельзя')\n",
    "    "
   ]
  },
  {
   "cell_type": "code",
   "execution_count": 39,
   "id": "76eea839",
   "metadata": {},
   "outputs": [
    {
     "name": "stdout",
     "output_type": "stream",
     "text": [
      "0.173\n"
     ]
    }
   ],
   "source": [
    "print(\"{0:.3f}\".format(sampleBFiltered.mean() / sampleAFiltered.mean() - 1))"
   ]
  },
  {
   "cell_type": "markdown",
   "id": "2abacfbd",
   "metadata": {},
   "source": [
    "**Провели тест Уилкоксона-Манна-Уитни на определение статистической значимости различия в среднем количестве заказов групп А и В по очищенным данным**  \n",
    "Тест показал статистическую значимость, p-value равн0 0.013 при alpha = 0.05  \n",
    "Также посмотрели разницу между средними значениями количества заказов групп, по имеющимся данным, она составляет 0.173 в пользу группы В\n",
    "***Результаты по среднему количеству заказов по \"сырым\" данным и по \"очищенным\" похожи, оба показывают статистическую значимость между группами***"
   ]
  },
  {
   "cell_type": "code",
   "execution_count": 40,
   "id": "c766f1c0",
   "metadata": {},
   "outputs": [
    {
     "name": "stdout",
     "output_type": "stream",
     "text": [
      "p-значение:  0.738481751314565\n",
      "Не получилось отвергнуть нулевую гипотезу, вывод о различии сделать нельзя\n"
     ]
    }
   ],
   "source": [
    "# проверим статистическую значимость различий в среднем чеке между группами\n",
    "# Нулевая гипотеза: различий в среднем чеке между группами нет\n",
    "# Альтернативная гипотеза: различий в среднем чеке между группами есть\n",
    "\n",
    "alpha = 0.05  # критический уровень статистической значимости\n",
    "\n",
    "revenuea_clear = orders[\n",
    "                np.logical_and(\n",
    "                    orders['group'] == 'A',\n",
    "                    np.logical_not(orders['visitorId'].isin(abnormalUsers)),\n",
    "                )\n",
    "            ]['revenue']\n",
    "\n",
    "revenueb_clear = orders[\n",
    "                np.logical_and(\n",
    "                    orders['group'] == 'B',\n",
    "                    np.logical_not(orders['visitorId'].isin(abnormalUsers)),\n",
    "                )\n",
    "            ]['revenue']\n",
    "results = st.mannwhitneyu(revenuea_clear, revenueb_clear)\n",
    "\n",
    "print('p-значение: ', results.pvalue)\n",
    "\n",
    "if results.pvalue < alpha:\n",
    "    print('Отвергаем нулевую гипотезу: разница статистически значима')\n",
    "else:\n",
    "    print(\n",
    "        'Не получилось отвергнуть нулевую гипотезу, вывод о различии сделать нельзя'\n",
    "    ) \n",
    "    "
   ]
  },
  {
   "cell_type": "code",
   "execution_count": 41,
   "id": "fa202afa",
   "metadata": {},
   "outputs": [
    {
     "name": "stdout",
     "output_type": "stream",
     "text": [
      "-0.020\n"
     ]
    }
   ],
   "source": [
    "print(\"{0:.3f}\".format(revenueb_clear.mean() / revenuea_clear.mean() - 1))"
   ]
  },
  {
   "cell_type": "markdown",
   "id": "dc09534b",
   "metadata": {},
   "source": [
    "**Провели тест Уилкоксона-Манна-Уитни на определение статистической значимости различия в среднем чеке групп А и В по очищенным данным**  \n",
    "Тест показал, что статистической значимости различия средних чеков нет, p-value равн0 0.74 при alpha = 0.05  \n",
    "Также посмотрели разницу между средними значениями чека, по очищенным данным, она составляет 0.02 в пользу группы А\n",
    "***Результаты по среднему чку по \"сырым\" данным и по \"очищенным\" похожи, оба показывают, что статистической значимости нет***\n"
   ]
  },
  {
   "cell_type": "markdown",
   "id": "4412265a",
   "metadata": {},
   "source": [
    "# Общий вывод по проекту спринта \"Принятие решений в бизнесе\"  \n",
    "  \n",
    "### В этом проекте я приоритизировал предложенные гипотезы фраймворками ICE и RICE, а также провел анализ результатов A/B теста\n",
    "\n",
    "- Построил куммулятивные графики: выручки по группам, среднего чека, график относительного изменения куммулятивного среднего чека группа В к группе А, куммулятивного среднего количества заказов на посетителя по группам, относительного изменения куммулятивного среднего количества заказов. Точечные графики: количества заказов по пользователям, стоимости заказов\n",
    "- Нашел аномальные (выбивающиеся из общей картины) значения количества заказов на пользователя и суммы заказа \n",
    "- Посчитал статистическую значимость различий в среднем количестве заказов на посетителя и в среднем чеке заказа между группами по \"сырым\" и по \"очищенным\" данным \n",
    "\n",
    "#### На основании полученных результатов анализа А/В теста предлагаю принять рещение об остановке теста и зафиксировать победу группы В:\n",
    "- По куммулятивному графику выручки по дням между группами теста - группа В уверенно лидирует\n",
    "- По куммулятивному графику среднего чека по дням в разбивке групп - группа В уверенно лидирует\n",
    "- По графику относительного тизменения куммулятивного среднего чека - за исключением перелома линии графика в середине теста средний чек группы В выше группы А на 0.2 - 0.5 раза, к окончанию теста линия стабилизировалась и нраходится на уровне около 0.3 дельты в пользу группы В\n",
    "- По граффику относительного изменения куммулятивного среднего количества заказов на посетителя картина похожая - за исключением перелома вначале теста, группа В уверенно лидирует обгоняя группу А\n",
    "- По результатам статистических тестов Уилкоксона-Манна-Уитни - разница в среднем количестве заказов на посетителя статистически значима и по \"сырым\" и по очищенным данным, разница в среднем чеке по статистическим тестам по по \"сырым\" и по очищенным данным не обнаружена. По имеющимся данным разница в средних значениях чека была 26 процентов в пользу группы В, по \"очищенным\" данным   разница 2 % НО в пользу группы А, что неявляется существенно значимым, особенно учитываю остальные показатели \n",
    "\n"
   ]
  }
 ],
 "metadata": {
  "ExecuteTimeLog": [
   {
    "duration": 1385,
    "start_time": "2024-07-29T14:29:37.352Z"
   },
   {
    "duration": 263,
    "start_time": "2024-07-29T14:29:38.739Z"
   },
   {
    "duration": 13,
    "start_time": "2024-07-29T14:29:39.004Z"
   },
   {
    "duration": 15,
    "start_time": "2024-07-29T14:29:39.018Z"
   },
   {
    "duration": 14,
    "start_time": "2024-07-29T14:29:39.035Z"
   },
   {
    "duration": 25,
    "start_time": "2024-07-29T14:29:39.051Z"
   },
   {
    "duration": 25,
    "start_time": "2024-07-29T14:29:39.078Z"
   },
   {
    "duration": 19,
    "start_time": "2024-07-29T14:29:39.105Z"
   },
   {
    "duration": 295,
    "start_time": "2024-07-29T14:29:39.125Z"
   },
   {
    "duration": 278,
    "start_time": "2024-07-29T14:29:39.421Z"
   },
   {
    "duration": 193,
    "start_time": "2024-07-29T14:29:39.701Z"
   },
   {
    "duration": 302,
    "start_time": "2024-07-29T14:29:39.896Z"
   },
   {
    "duration": 214,
    "start_time": "2024-07-29T14:29:40.199Z"
   },
   {
    "duration": 12,
    "start_time": "2024-07-29T14:29:40.416Z"
   },
   {
    "duration": 169,
    "start_time": "2024-07-29T14:29:40.429Z"
   },
   {
    "duration": 4,
    "start_time": "2024-07-29T14:29:40.600Z"
   },
   {
    "duration": 130,
    "start_time": "2024-07-29T14:29:40.605Z"
   },
   {
    "duration": 4,
    "start_time": "2024-07-29T14:29:40.736Z"
   },
   {
    "duration": 16,
    "start_time": "2024-07-29T14:29:40.742Z"
   },
   {
    "duration": 5,
    "start_time": "2024-07-29T14:29:40.760Z"
   },
   {
    "duration": 234,
    "start_time": "2024-07-29T14:29:40.766Z"
   },
   {
    "duration": 168,
    "start_time": "2024-07-29T14:29:41.002Z"
   },
   {
    "duration": 27,
    "start_time": "2024-07-29T14:29:41.172Z"
   },
   {
    "duration": 4,
    "start_time": "2024-07-29T14:29:41.201Z"
   },
   {
    "duration": 13,
    "start_time": "2024-07-29T14:29:41.207Z"
   },
   {
    "duration": 7,
    "start_time": "2024-07-29T14:29:41.221Z"
   },
   {
    "duration": 14,
    "start_time": "2024-07-29T14:29:41.254Z"
   },
   {
    "duration": 9,
    "start_time": "2024-07-29T14:29:41.270Z"
   },
   {
    "duration": 26,
    "start_time": "2024-07-29T14:29:41.281Z"
   },
   {
    "duration": 4,
    "start_time": "2024-07-29T14:29:41.309Z"
   },
   {
    "duration": 11,
    "start_time": "2024-07-29T14:29:41.314Z"
   },
   {
    "duration": 4,
    "start_time": "2024-07-29T14:29:41.355Z"
   },
   {
    "duration": 142,
    "start_time": "2024-07-29T14:39:44.297Z"
   },
   {
    "duration": 199,
    "start_time": "2024-07-29T14:39:52.244Z"
   },
   {
    "duration": 4,
    "start_time": "2024-07-29T14:41:36.104Z"
   },
   {
    "duration": 5,
    "start_time": "2024-07-29T14:41:46.689Z"
   },
   {
    "duration": 5,
    "start_time": "2024-07-29T14:41:53.481Z"
   },
   {
    "duration": 5,
    "start_time": "2024-07-29T14:41:58.936Z"
   },
   {
    "duration": 114,
    "start_time": "2024-07-29T14:42:21.391Z"
   },
   {
    "duration": 1716,
    "start_time": "2024-07-29T14:42:29.867Z"
   },
   {
    "duration": 1795,
    "start_time": "2024-07-29T14:44:27.737Z"
   },
   {
    "duration": 1805,
    "start_time": "2024-07-29T14:46:16.933Z"
   },
   {
    "duration": 1276,
    "start_time": "2024-07-30T11:22:25.160Z"
   },
   {
    "duration": 208,
    "start_time": "2024-07-30T11:22:26.438Z"
   },
   {
    "duration": 10,
    "start_time": "2024-07-30T11:22:26.647Z"
   },
   {
    "duration": 5,
    "start_time": "2024-07-30T11:22:26.659Z"
   },
   {
    "duration": 16,
    "start_time": "2024-07-30T11:22:26.665Z"
   },
   {
    "duration": 20,
    "start_time": "2024-07-30T11:22:26.682Z"
   },
   {
    "duration": 26,
    "start_time": "2024-07-30T11:22:26.703Z"
   },
   {
    "duration": 12,
    "start_time": "2024-07-30T11:22:26.730Z"
   },
   {
    "duration": 5,
    "start_time": "2024-07-30T11:22:26.743Z"
   },
   {
    "duration": 4,
    "start_time": "2024-07-30T11:22:26.750Z"
   },
   {
    "duration": 33,
    "start_time": "2024-07-30T11:22:26.755Z"
   },
   {
    "duration": 26,
    "start_time": "2024-07-30T11:22:26.791Z"
   },
   {
    "duration": 286,
    "start_time": "2024-07-30T11:22:26.818Z"
   },
   {
    "duration": 5,
    "start_time": "2024-07-30T11:22:27.105Z"
   },
   {
    "duration": 328,
    "start_time": "2024-07-30T11:22:27.111Z"
   },
   {
    "duration": 194,
    "start_time": "2024-07-30T11:22:27.441Z"
   },
   {
    "duration": 359,
    "start_time": "2024-07-30T11:22:27.637Z"
   },
   {
    "duration": 220,
    "start_time": "2024-07-30T11:22:27.999Z"
   },
   {
    "duration": 293,
    "start_time": "2024-07-30T11:22:28.221Z"
   },
   {
    "duration": 9,
    "start_time": "2024-07-30T11:22:28.515Z"
   },
   {
    "duration": 132,
    "start_time": "2024-07-30T11:22:28.525Z"
   },
   {
    "duration": 5,
    "start_time": "2024-07-30T11:22:28.658Z"
   },
   {
    "duration": 159,
    "start_time": "2024-07-30T11:22:28.664Z"
   },
   {
    "duration": 141,
    "start_time": "2024-07-30T11:22:28.824Z"
   },
   {
    "duration": 4,
    "start_time": "2024-07-30T11:22:28.967Z"
   },
   {
    "duration": 17,
    "start_time": "2024-07-30T11:22:28.981Z"
   },
   {
    "duration": 5,
    "start_time": "2024-07-30T11:22:29.000Z"
   },
   {
    "duration": 195,
    "start_time": "2024-07-30T11:22:29.008Z"
   },
   {
    "duration": 161,
    "start_time": "2024-07-30T11:22:29.205Z"
   },
   {
    "duration": 241,
    "start_time": "2024-07-30T11:22:29.368Z"
   },
   {
    "duration": 176,
    "start_time": "2024-07-30T11:22:29.610Z"
   },
   {
    "duration": 30,
    "start_time": "2024-07-30T11:22:29.788Z"
   },
   {
    "duration": 6,
    "start_time": "2024-07-30T11:22:29.819Z"
   },
   {
    "duration": 7,
    "start_time": "2024-07-30T11:22:29.827Z"
   },
   {
    "duration": 6,
    "start_time": "2024-07-30T11:22:29.835Z"
   },
   {
    "duration": 9,
    "start_time": "2024-07-30T11:22:29.842Z"
   },
   {
    "duration": 55,
    "start_time": "2024-07-30T11:22:29.853Z"
   },
   {
    "duration": 23,
    "start_time": "2024-07-30T11:22:29.909Z"
   },
   {
    "duration": 3,
    "start_time": "2024-07-30T11:22:29.933Z"
   },
   {
    "duration": 9,
    "start_time": "2024-07-30T11:22:29.938Z"
   },
   {
    "duration": 7,
    "start_time": "2024-07-30T11:22:29.948Z"
   }
  ],
  "kernelspec": {
   "display_name": "Python 3 (ipykernel)",
   "language": "python",
   "name": "python3"
  },
  "language_info": {
   "codemirror_mode": {
    "name": "ipython",
    "version": 3
   },
   "file_extension": ".py",
   "mimetype": "text/x-python",
   "name": "python",
   "nbconvert_exporter": "python",
   "pygments_lexer": "ipython3",
   "version": "3.11.5"
  },
  "toc": {
   "base_numbering": 1,
   "nav_menu": {},
   "number_sections": true,
   "sideBar": true,
   "skip_h1_title": true,
   "title_cell": "Table of Contents",
   "title_sidebar": "Contents",
   "toc_cell": false,
   "toc_position": {},
   "toc_section_display": true,
   "toc_window_display": false
  }
 },
 "nbformat": 4,
 "nbformat_minor": 5
}
